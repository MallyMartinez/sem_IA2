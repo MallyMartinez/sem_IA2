{
 "cells": [
  {
   "cell_type": "code",
   "execution_count": 11,
   "metadata": {},
   "outputs": [],
   "source": [
    "import os\n",
    "\n",
    "DATASET_ROOT = \"1600_pcm_speeches\"\n",
    "BENJAMIN_DATA = os.path.join(DATASET_ROOT, \"Benjamin_Netanyau\")\n",
    "JENS_DATA = os.path.join(DATASET_ROOT, \"Jens_Stoltenberg\")\n",
    "JULIA_DATA = os.path.join(DATASET_ROOT, \"Julia_Gillard\")\n",
    "MARGARET_DATA = os.path.join(DATASET_ROOT, \"Margaret_Tarcher\")\n",
    "NELSON_DATA = os.path.join(DATASET_ROOT, \"Nelson_Mandela\")"
   ]
  },
  {
   "cell_type": "markdown",
   "metadata": {},
   "source": [
    "Para procesar el audio, vamos a requerir una libreria externa que debemos instalar en el contexto de nuestro Jupyter Notebook, concretamente la libreria que vamos a utilizar es librosa: https://librosa.org/doc/latest/index.html"
   ]
  },
  {
   "cell_type": "code",
   "execution_count": 18,
   "metadata": {},
   "outputs": [
    {
     "name": "stdout",
     "output_type": "stream",
     "text": [
      "c:\\Users\\mally\\Documents\\Proyectos\\sem_IA2\\Perceptron_Multicapa\\1600_pcm_speeches\\Benjamin_Netanyau\\22.wav\n",
      "c:\\Users\\mally\\Documents\\Proyectos\\sem_IA2\\Perceptron_Multicapa\\1600_pcm_speeches\\Benjamin_Netanyau\\22.wav\n",
      "El archivo existe: False\n",
      "El archivo no existe.\n"
     ]
    }
   ],
   "source": [
    "import IPython.display as ipd\n",
    "\n",
    "audio_file_path = os.path.join(BENJAMIN_DATA, \"22.wav\")\n",
    "print(audio_file_path)\n",
    "\n",
    "# Verificar la ruta absoluta y la existencia del archivo\n",
    "absolute_path = os.path.abspath(audio_file_path)\n",
    "print(absolute_path)\n",
    "print(\"El archivo existe:\", os.path.exists(absolute_path))\n",
    "\n",
    "# Si el archivo existe, reproduce el audio\n",
    "if os.path.exists(audio_file_path):\n",
    "    # Retornar el objeto de audio para que Jupyter lo renderice\n",
    "    ipd.display(ipd.Audio(audio_file_path))\n",
    "else:\n",
    "    print(\"El archivo no existe.\")"
   ]
  }
 ],
 "metadata": {
  "kernelspec": {
   "display_name": "Python 3",
   "language": "python",
   "name": "python3"
  },
  "language_info": {
   "codemirror_mode": {
    "name": "ipython",
    "version": 3
   },
   "file_extension": ".py",
   "mimetype": "text/x-python",
   "name": "python",
   "nbconvert_exporter": "python",
   "pygments_lexer": "ipython3",
   "version": "3.12.5"
  }
 },
 "nbformat": 4,
 "nbformat_minor": 2
}
