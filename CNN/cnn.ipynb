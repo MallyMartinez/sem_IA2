{
 "cells": [
  {
   "cell_type": "markdown",
   "metadata": {},
   "source": [
    "\n",
    "# Practica 2. Redes Neuronales Convolucionales (CNN)\n",
    "\n",
    "Hernandez Martinez Mally Samira | Código: 220286113 | Ingenieria de computacion (INCO) \n",
    "\n",
    "Seminario de Solucion de Problemas de Inteligencia Artificial II | Seccion D05 I7041\n"
   ]
  },
  {
   "cell_type": "markdown",
   "metadata": {},
   "source": [
    "<u>Caso de estudio</u>:\n",
    "\n",
    "Implementación de un clasificador automático de imágenes deportivas que pueda distinguir entre diferentes disciplinas, como fútbol, baloncesto, atletismo, y natación. Este sistema podría ser utilizado por plataformas de transmisión deportiva para etiquetar contenidos automáticamente en tiempo real, con el fin de mejorar la accesibilidad y búsqueda de contenido por parte de los usuarios."
   ]
  },
  {
   "cell_type": "markdown",
   "metadata": {},
   "source": [
    "1.\tPreprocesamiento de Datos:\n",
    "\n",
    "    - Cargar un conjunto de datos de imágenes deportivas, con múltiples clases que representan diferentes deportes (ej. fútbol, baloncesto, atletismo, natación, etc.).\n",
    "\n",
    "    - Asegurarse de que las imágenes estén etiquetadas correctamente para las distintas disciplinas deportivas.\n",
    "\n",
    "    - Redimensionar las imágenes a un tamaño adecuado para el modelo CNN (ej. 128x128 o 224x224 píxeles).\n",
    "\n",
    "    - Normalizar los datos de entrada para mejorar la convergencia del modelo, dividiendo los valores de los píxeles por 255 (para que queden entre 0 y 1).\n"
   ]
  },
  {
   "cell_type": "code",
   "execution_count": 9,
   "metadata": {},
   "outputs": [],
   "source": [
    "# Importacion de librerías\n",
    "import os\n",
    "import pandas as pd\n",
    "\n",
    "import numpy as np\n",
    "import tensorflow as tf\n",
    "from tensorflow import keras\n",
    "from tensorflow.keras.utils import load_img, img_to_array\n",
    "from tensorflow.keras.models import Sequential # type: ignore\n",
    "from tensorflow.keras.layers import Conv2D, MaxPooling2D, Flatten, Dense, Dropout, BatchNormalization # type: ignore\n",
    "from tensorflow.keras.preprocessing.image import ImageDataGenerator # type: ignore\n",
    "from sklearn.model_selection import train_test_split\n",
    "from sklearn.metrics import classification_report, confusion_matrix\n",
    "import matplotlib.pyplot as plt\n",
    "import matplotlib.cm as cm\n",
    "import seaborn as sns\n",
    "import warnings\n",
    "import time\n",
    "\n",
    "# Desactivar advertencias\n",
    "warnings.filterwarnings('ignore')"
   ]
  },
  {
   "cell_type": "code",
   "execution_count": null,
   "metadata": {},
   "outputs": [],
   "source": []
  },
  {
   "cell_type": "code",
   "execution_count": null,
   "metadata": {},
   "outputs": [],
   "source": []
  },
  {
   "cell_type": "code",
   "execution_count": null,
   "metadata": {},
   "outputs": [],
   "source": []
  },
  {
   "cell_type": "markdown",
   "metadata": {},
   "source": [
    "2.\tDefinición del Modelo:\n",
    "\n",
    "    a) Prueba 1: Modelo CNN desde cero\n",
    "    - Crear una red CNN personalizada utilizando varias capas convolucionales y de pooling.\n",
    "    - Las capas deben incluir filtros de distintas profundidades (ej. 32, 64, 128), con funciones de activación ReLU para las - capas convolucionales.\n",
    "    - Usar Batch Normalization para estabilizar el entrenamiento y mejorar la generalización del modelo.\n",
    "    - Aplicar capas de MaxPooling para reducir la dimensionalidad.\n",
    "    - Aplicar capas Dropout, para evitar el overffitting.\n",
    "    - Añadir capas densas al final, y la última capa debe tener tantas neuronas como clases deportivas, utilizando la función de activación softmax.\n",
    "    - Compilar el modelo utilizando un optimizador como Adam y la función de pérdida categorical_crossentropy.\n",
    "\n",
    "    b) Prueba 2: Modelo con Transfer Learning\n",
    "    - Utilizar un modelo preentrenado (ej. VGG16, ResNet50, InceptionV3) entrenado en ImageNet, cargando sus pesos preentrenados.\n",
    "    - Congelar las capas convolucionales del modelo preentrenado para conservar las características ya aprendidas.\n",
    "    - Agregar nuevas capas densas al final del modelo, adaptando la última capa para que tenga tantas neuronas como clases deportivas con la función de activación softmax.\n",
    "    - Compilar este modelo también con un optimizador como Adam y la función de pérdida categorical_crossentropy."
   ]
  },
  {
   "cell_type": "code",
   "execution_count": null,
   "metadata": {},
   "outputs": [],
   "source": []
  },
  {
   "cell_type": "markdown",
   "metadata": {},
   "source": []
  },
  {
   "cell_type": "markdown",
   "metadata": {},
   "source": [
    "3.\tAjuste de Hiperparámetros y Fine-tuning:\n",
    "\n",
    "    - Para el modelo CNN desde cero, ajustar el número de capas, neuronas por capa, tasa de aprendizaje y épocas de entrenamiento, esto hasta lograr los resultados esperados en términos de precisión (Accuracy).\n",
    "\n",
    "    - Para el modelo de Transfer Learning, después de las primeras épocas de entrenamiento, descongelar algunas capas superiores del modelo preentrenado y realizar fine-tuning, ajustando el modelo a los datos deportivos, hasta lograr los resultados esperados en términos de precisión (Accuracy)."
   ]
  },
  {
   "cell_type": "code",
   "execution_count": null,
   "metadata": {},
   "outputs": [],
   "source": []
  },
  {
   "cell_type": "markdown",
   "metadata": {},
   "source": [
    "5.\tEvaluación y Métricas:\n",
    "\n",
    "    - Evaluar ambos modelos utilizando métricas como precisión, recall, F1-score y la pérdida en los datos de entrenamiento y validación.\n",
    "\n",
    "    - Generar y presentar la matriz de confusión para analizar los errores de clasificación por cada deporte.\n",
    "\n",
    "    - Graficar la evolución de la precisión y la pérdida durante el entrenamiento y la validación de ambos modelos.\n",
    "\n",
    "    - Predecir de forma correcta al menos 6 de las 10 imágenes establecidas en la carpeta de single_test."
   ]
  },
  {
   "cell_type": "code",
   "execution_count": null,
   "metadata": {},
   "outputs": [],
   "source": []
  },
  {
   "cell_type": "code",
   "execution_count": null,
   "metadata": {},
   "outputs": [],
   "source": []
  },
  {
   "cell_type": "code",
   "execution_count": null,
   "metadata": {},
   "outputs": [],
   "source": []
  },
  {
   "cell_type": "markdown",
   "metadata": {},
   "source": [
    "Les comparto el código que pueden usar para probar una vez entrenado el modelo, distingan que clase esta predicción y puedan comparar con la imagen que están leyendo, como ejemplo, probando la imagen de tenis de la carpeta single_test:"
   ]
  },
  {
   "cell_type": "code",
   "execution_count": null,
   "metadata": {},
   "outputs": [],
   "source": [
    "# Cargar y preprocesar la imagen para que coincida con el tamaño esperado por el modelo\n",
    "test_image = load_img('single_test/tenis.jpg', target_size=(128, 128))  # Cambia la ruta a tu imagen\n",
    "test_image = img_to_array(test_image)\n",
    "\n",
    "# Normalizar la imagen como en el entrenamiento\n",
    "test_image = test_image / 255.0\n",
    "\n",
    "# Expandir las dimensiones para hacer la predicción (1, 128, 128, 3)\n",
    "test_image = np.expand_dims(test_image, axis=0)\n",
    "\n",
    "# Predecir la clase\n",
    "result = model.predict(test_image)  # Aquí va el nombre del modelo que crearon\n",
    "\n",
    "# Mostrar los valores predichos (probabilidades para cada clase)\n",
    "print(\"Probabilidades predichas:\", result)\n",
    "\n",
    "# Obtener el índice de la clase con mayor probabilidad\n",
    "predicted_class_index = np.argmax(result)\n",
    "\n",
    "# Obtener el mapeo de clases\n",
    "class_labels = training_dataset.class_indices\n",
    "\n",
    "# Invertir el diccionario para obtener las clases por índice\n",
    "class_labels = dict((v, k) for k, v in class_labels.items())\n",
    "\n",
    "# Obtener el nombre de la clase predicha\n",
    "predicted_class_label = class_labels[predicted_class_index]\n",
    "\n",
    "# Imprimir la clase predicha\n",
    "print(f'La imagen pertenece a la clase: {predicted_class_label}')\n"
   ]
  }
 ],
 "metadata": {
  "kernelspec": {
   "display_name": "Python 3",
   "language": "python",
   "name": "python3"
  },
  "language_info": {
   "codemirror_mode": {
    "name": "ipython",
    "version": 3
   },
   "file_extension": ".py",
   "mimetype": "text/x-python",
   "name": "python",
   "nbconvert_exporter": "python",
   "pygments_lexer": "ipython3",
   "version": "3.12.5"
  }
 },
 "nbformat": 4,
 "nbformat_minor": 2
}
