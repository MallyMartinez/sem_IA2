{
 "cells": [
  {
   "cell_type": "markdown",
   "metadata": {},
   "source": [
    "\n",
    "# Proyecto. Aplicacion de Redes Neuronales\n",
    "\n",
    "Hernandez Martinez Mally Samira | Código: 220286113 | Ingenieria de computacion (INCO) \n",
    "\n",
    "Seminario de Solucion de Problemas de Inteligencia Artificial II | Seccion D05 I7041\n"
   ]
  },
  {
   "cell_type": "markdown",
   "metadata": {},
   "source": [
    "<u>Caso de estudio</u>:\n",
    "\n",
    "Implementación de un clasificador automático de señales de ECG para la detección de arritmias, utilizando la base de datos MIT-BIH. Este sistema está diseñado para identificar automáticamente distintos tipos de arritmias, como el ritmo sinusal normal, contracciones ventriculares prematuras, y otras anomalías del ritmo cardíaco. Su aplicación potencial incluye su uso en sistemas de monitoreo médico en tiempo real para hospitales y dispositivos de telemedicina, permitiendo a los profesionales de la salud realizar un diagnóstico temprano y personalizado. Además, al facilitar una clasificación precisa y rápida, este sistema puede mejorar la accesibilidad a la atención médica remota, optimizando la capacidad de respuesta ante emergencias cardíacas y elevando el nivel de atención para pacientes con enfermedades cardiovasculares."
   ]
  },
  {
   "cell_type": "code",
   "execution_count": null,
   "metadata": {},
   "outputs": [],
   "source": [
    "# Importacion de librerías\n",
    "import os\n",
    "import sys\n",
    "import time\n",
    "import random\n",
    "import sklearn\n",
    "import warnings\n",
    "import numpy as np\n",
    "import pandas as pd\n",
    "import seaborn as sns\n",
    "import plotly.io as pio\n",
    "import tensorflow as tf\n",
    "import matplotlib.cm as cm\n",
    "import plotly.express as px\n",
    "import matplotlib.pyplot as plt\n",
    "from keras.regularizers import l2\n",
    "from keras.applications import VGG16 \n",
    "from keras.preprocessing import image\n",
    "from keras.utils import load_img, img_to_array \n",
    "from keras.models import Sequential, load_model\n",
    "from keras.preprocessing.image import ImageDataGenerator \n",
    "from sklearn.preprocessing import StandardScaler, MinMaxScaler\n",
    "from sklearn.metrics import classification_report, confusion_matrix\n",
    "from keras.layers import Conv2D, MaxPooling2D, Flatten, Dense, Dropout, BatchNormalization, Conv1D, LSTM, MaxPooling1D, Input\n",
    "from keras.callbacks import ModelCheckpoint, EarlyStopping, ReduceLROnPlateau, EarlyStopping\n",
    "from keras.applications.vgg16 import preprocess_input, decode_predictions \n",
    "from sklearn.model_selection import train_test_split\n",
    "from imblearn.over_sampling import RandomOverSampler\n",
    "from scipy.signal import resample, butter, filtfilt\n",
    "from PIL import UnidentifiedImageError \n",
    "from contextlib import contextmanager\n",
    "from IPython.display import display\n",
    "from keras.optimizers import Adam \n",
    "from tensorflow import keras\n",
    "from PIL import ImageFile\n",
    "from PIL import Image"
   ]
  },
  {
   "cell_type": "markdown",
   "metadata": {},
   "source": [
    "1.\tPreprocesamiento de Datos:\n",
    "\n",
    "    - Cargar el conjunto de datos de ECG de la base MIT-BIH, que incluye múltiples clases de arritmias (por ejemplo, ritmo sinusal normal, contracción ventricular prematura, entre otros).\n",
    "\n",
    "    - Asegurarse de que las señales estén correctamente etiquetadas para los distintos tipos de arritmias.\n",
    "\n",
    "    - Estandarizar la longitud de las señales para que todas tengan el mismo tamaño o segmentar cada muestra de ECG en ventanas de longitud fija, adecuadas para el modelo.\n",
    "\n",
    "    - Normalizar los datos de entrada para mejorar la convergencia del modelo, escalando los valores de las señales dentro de un rango adecuado.\n"
   ]
  },
  {
   "cell_type": "code",
   "execution_count": 3,
   "metadata": {},
   "outputs": [
    {
     "name": "stdout",
     "output_type": "stream",
     "text": [
      "Datos cargados correctamente desde MIT-BIH/mitbih_train.csv.\n",
      "Dimensiones de los datos: (87554, 188)\n",
      "------------------------------------------------------------\n"
     ]
    },
    {
     "data": {
      "text/html": [
       "<div>\n",
       "<style scoped>\n",
       "    .dataframe tbody tr th:only-of-type {\n",
       "        vertical-align: middle;\n",
       "    }\n",
       "\n",
       "    .dataframe tbody tr th {\n",
       "        vertical-align: top;\n",
       "    }\n",
       "\n",
       "    .dataframe thead th {\n",
       "        text-align: right;\n",
       "    }\n",
       "</style>\n",
       "<table border=\"1\" class=\"dataframe\">\n",
       "  <thead>\n",
       "    <tr style=\"text-align: right;\">\n",
       "      <th></th>\n",
       "      <th>0</th>\n",
       "      <th>1</th>\n",
       "      <th>2</th>\n",
       "      <th>3</th>\n",
       "      <th>4</th>\n",
       "      <th>5</th>\n",
       "      <th>6</th>\n",
       "      <th>7</th>\n",
       "      <th>8</th>\n",
       "      <th>9</th>\n",
       "      <th>...</th>\n",
       "      <th>178</th>\n",
       "      <th>179</th>\n",
       "      <th>180</th>\n",
       "      <th>181</th>\n",
       "      <th>182</th>\n",
       "      <th>183</th>\n",
       "      <th>184</th>\n",
       "      <th>185</th>\n",
       "      <th>186</th>\n",
       "      <th>187</th>\n",
       "    </tr>\n",
       "  </thead>\n",
       "  <tbody>\n",
       "    <tr>\n",
       "      <th>0</th>\n",
       "      <td>0.977941</td>\n",
       "      <td>0.926471</td>\n",
       "      <td>0.681373</td>\n",
       "      <td>0.245098</td>\n",
       "      <td>0.154412</td>\n",
       "      <td>0.191176</td>\n",
       "      <td>0.151961</td>\n",
       "      <td>0.085784</td>\n",
       "      <td>0.058824</td>\n",
       "      <td>0.049020</td>\n",
       "      <td>...</td>\n",
       "      <td>0.0</td>\n",
       "      <td>0.0</td>\n",
       "      <td>0.0</td>\n",
       "      <td>0.0</td>\n",
       "      <td>0.0</td>\n",
       "      <td>0.0</td>\n",
       "      <td>0.0</td>\n",
       "      <td>0.0</td>\n",
       "      <td>0.0</td>\n",
       "      <td>0.0</td>\n",
       "    </tr>\n",
       "    <tr>\n",
       "      <th>1</th>\n",
       "      <td>0.960114</td>\n",
       "      <td>0.863248</td>\n",
       "      <td>0.461538</td>\n",
       "      <td>0.196581</td>\n",
       "      <td>0.094017</td>\n",
       "      <td>0.125356</td>\n",
       "      <td>0.099715</td>\n",
       "      <td>0.088319</td>\n",
       "      <td>0.074074</td>\n",
       "      <td>0.082621</td>\n",
       "      <td>...</td>\n",
       "      <td>0.0</td>\n",
       "      <td>0.0</td>\n",
       "      <td>0.0</td>\n",
       "      <td>0.0</td>\n",
       "      <td>0.0</td>\n",
       "      <td>0.0</td>\n",
       "      <td>0.0</td>\n",
       "      <td>0.0</td>\n",
       "      <td>0.0</td>\n",
       "      <td>0.0</td>\n",
       "    </tr>\n",
       "    <tr>\n",
       "      <th>2</th>\n",
       "      <td>1.000000</td>\n",
       "      <td>0.659459</td>\n",
       "      <td>0.186486</td>\n",
       "      <td>0.070270</td>\n",
       "      <td>0.070270</td>\n",
       "      <td>0.059459</td>\n",
       "      <td>0.056757</td>\n",
       "      <td>0.043243</td>\n",
       "      <td>0.054054</td>\n",
       "      <td>0.045946</td>\n",
       "      <td>...</td>\n",
       "      <td>0.0</td>\n",
       "      <td>0.0</td>\n",
       "      <td>0.0</td>\n",
       "      <td>0.0</td>\n",
       "      <td>0.0</td>\n",
       "      <td>0.0</td>\n",
       "      <td>0.0</td>\n",
       "      <td>0.0</td>\n",
       "      <td>0.0</td>\n",
       "      <td>0.0</td>\n",
       "    </tr>\n",
       "    <tr>\n",
       "      <th>3</th>\n",
       "      <td>0.925414</td>\n",
       "      <td>0.665746</td>\n",
       "      <td>0.541436</td>\n",
       "      <td>0.276243</td>\n",
       "      <td>0.196133</td>\n",
       "      <td>0.077348</td>\n",
       "      <td>0.071823</td>\n",
       "      <td>0.060773</td>\n",
       "      <td>0.066298</td>\n",
       "      <td>0.058011</td>\n",
       "      <td>...</td>\n",
       "      <td>0.0</td>\n",
       "      <td>0.0</td>\n",
       "      <td>0.0</td>\n",
       "      <td>0.0</td>\n",
       "      <td>0.0</td>\n",
       "      <td>0.0</td>\n",
       "      <td>0.0</td>\n",
       "      <td>0.0</td>\n",
       "      <td>0.0</td>\n",
       "      <td>0.0</td>\n",
       "    </tr>\n",
       "    <tr>\n",
       "      <th>4</th>\n",
       "      <td>0.967136</td>\n",
       "      <td>1.000000</td>\n",
       "      <td>0.830986</td>\n",
       "      <td>0.586854</td>\n",
       "      <td>0.356808</td>\n",
       "      <td>0.248826</td>\n",
       "      <td>0.145540</td>\n",
       "      <td>0.089202</td>\n",
       "      <td>0.117371</td>\n",
       "      <td>0.150235</td>\n",
       "      <td>...</td>\n",
       "      <td>0.0</td>\n",
       "      <td>0.0</td>\n",
       "      <td>0.0</td>\n",
       "      <td>0.0</td>\n",
       "      <td>0.0</td>\n",
       "      <td>0.0</td>\n",
       "      <td>0.0</td>\n",
       "      <td>0.0</td>\n",
       "      <td>0.0</td>\n",
       "      <td>0.0</td>\n",
       "    </tr>\n",
       "  </tbody>\n",
       "</table>\n",
       "<p>5 rows × 188 columns</p>\n",
       "</div>"
      ],
      "text/plain": [
       "        0         1         2         3         4         5         6    \\\n",
       "0  0.977941  0.926471  0.681373  0.245098  0.154412  0.191176  0.151961   \n",
       "1  0.960114  0.863248  0.461538  0.196581  0.094017  0.125356  0.099715   \n",
       "2  1.000000  0.659459  0.186486  0.070270  0.070270  0.059459  0.056757   \n",
       "3  0.925414  0.665746  0.541436  0.276243  0.196133  0.077348  0.071823   \n",
       "4  0.967136  1.000000  0.830986  0.586854  0.356808  0.248826  0.145540   \n",
       "\n",
       "        7         8         9    ...  178  179  180  181  182  183  184  185  \\\n",
       "0  0.085784  0.058824  0.049020  ...  0.0  0.0  0.0  0.0  0.0  0.0  0.0  0.0   \n",
       "1  0.088319  0.074074  0.082621  ...  0.0  0.0  0.0  0.0  0.0  0.0  0.0  0.0   \n",
       "2  0.043243  0.054054  0.045946  ...  0.0  0.0  0.0  0.0  0.0  0.0  0.0  0.0   \n",
       "3  0.060773  0.066298  0.058011  ...  0.0  0.0  0.0  0.0  0.0  0.0  0.0  0.0   \n",
       "4  0.089202  0.117371  0.150235  ...  0.0  0.0  0.0  0.0  0.0  0.0  0.0  0.0   \n",
       "\n",
       "   186  187  \n",
       "0  0.0  0.0  \n",
       "1  0.0  0.0  \n",
       "2  0.0  0.0  \n",
       "3  0.0  0.0  \n",
       "4  0.0  0.0  \n",
       "\n",
       "[5 rows x 188 columns]"
      ]
     },
     "metadata": {},
     "output_type": "display_data"
    },
    {
     "name": "stdout",
     "output_type": "stream",
     "text": [
      "Revisando valores faltantes...\n",
      "0      0\n",
      "1      0\n",
      "2      0\n",
      "3      0\n",
      "4      0\n",
      "      ..\n",
      "183    0\n",
      "184    0\n",
      "185    0\n",
      "186    0\n",
      "187    0\n",
      "Length: 188, dtype: int64\n",
      "Características (X) y etiquetas (y) separadas: X.shape = (87554, 187), y.shape = (87554,).\n",
      "--------------------------------------------------------------------------------------------------------------------------------------------------------\n",
      "Datos cargados correctamente desde MIT-BIH/mitbih_test.csv.\n",
      "Dimensiones de los datos: (21892, 188)\n",
      "------------------------------------------------------------\n"
     ]
    },
    {
     "data": {
      "text/html": [
       "<div>\n",
       "<style scoped>\n",
       "    .dataframe tbody tr th:only-of-type {\n",
       "        vertical-align: middle;\n",
       "    }\n",
       "\n",
       "    .dataframe tbody tr th {\n",
       "        vertical-align: top;\n",
       "    }\n",
       "\n",
       "    .dataframe thead th {\n",
       "        text-align: right;\n",
       "    }\n",
       "</style>\n",
       "<table border=\"1\" class=\"dataframe\">\n",
       "  <thead>\n",
       "    <tr style=\"text-align: right;\">\n",
       "      <th></th>\n",
       "      <th>0</th>\n",
       "      <th>1</th>\n",
       "      <th>2</th>\n",
       "      <th>3</th>\n",
       "      <th>4</th>\n",
       "      <th>5</th>\n",
       "      <th>6</th>\n",
       "      <th>7</th>\n",
       "      <th>8</th>\n",
       "      <th>9</th>\n",
       "      <th>...</th>\n",
       "      <th>178</th>\n",
       "      <th>179</th>\n",
       "      <th>180</th>\n",
       "      <th>181</th>\n",
       "      <th>182</th>\n",
       "      <th>183</th>\n",
       "      <th>184</th>\n",
       "      <th>185</th>\n",
       "      <th>186</th>\n",
       "      <th>187</th>\n",
       "    </tr>\n",
       "  </thead>\n",
       "  <tbody>\n",
       "    <tr>\n",
       "      <th>0</th>\n",
       "      <td>1.000000</td>\n",
       "      <td>0.758264</td>\n",
       "      <td>0.111570</td>\n",
       "      <td>0.000000</td>\n",
       "      <td>0.080579</td>\n",
       "      <td>0.078512</td>\n",
       "      <td>0.066116</td>\n",
       "      <td>0.049587</td>\n",
       "      <td>0.047521</td>\n",
       "      <td>0.035124</td>\n",
       "      <td>...</td>\n",
       "      <td>0.0</td>\n",
       "      <td>0.0</td>\n",
       "      <td>0.0</td>\n",
       "      <td>0.0</td>\n",
       "      <td>0.0</td>\n",
       "      <td>0.0</td>\n",
       "      <td>0.0</td>\n",
       "      <td>0.0</td>\n",
       "      <td>0.0</td>\n",
       "      <td>0.0</td>\n",
       "    </tr>\n",
       "    <tr>\n",
       "      <th>1</th>\n",
       "      <td>0.908425</td>\n",
       "      <td>0.783883</td>\n",
       "      <td>0.531136</td>\n",
       "      <td>0.362637</td>\n",
       "      <td>0.366300</td>\n",
       "      <td>0.344322</td>\n",
       "      <td>0.333333</td>\n",
       "      <td>0.307692</td>\n",
       "      <td>0.296703</td>\n",
       "      <td>0.300366</td>\n",
       "      <td>...</td>\n",
       "      <td>0.0</td>\n",
       "      <td>0.0</td>\n",
       "      <td>0.0</td>\n",
       "      <td>0.0</td>\n",
       "      <td>0.0</td>\n",
       "      <td>0.0</td>\n",
       "      <td>0.0</td>\n",
       "      <td>0.0</td>\n",
       "      <td>0.0</td>\n",
       "      <td>0.0</td>\n",
       "    </tr>\n",
       "    <tr>\n",
       "      <th>2</th>\n",
       "      <td>0.730088</td>\n",
       "      <td>0.212389</td>\n",
       "      <td>0.000000</td>\n",
       "      <td>0.119469</td>\n",
       "      <td>0.101770</td>\n",
       "      <td>0.101770</td>\n",
       "      <td>0.110619</td>\n",
       "      <td>0.123894</td>\n",
       "      <td>0.115044</td>\n",
       "      <td>0.132743</td>\n",
       "      <td>...</td>\n",
       "      <td>0.0</td>\n",
       "      <td>0.0</td>\n",
       "      <td>0.0</td>\n",
       "      <td>0.0</td>\n",
       "      <td>0.0</td>\n",
       "      <td>0.0</td>\n",
       "      <td>0.0</td>\n",
       "      <td>0.0</td>\n",
       "      <td>0.0</td>\n",
       "      <td>0.0</td>\n",
       "    </tr>\n",
       "    <tr>\n",
       "      <th>3</th>\n",
       "      <td>1.000000</td>\n",
       "      <td>0.910417</td>\n",
       "      <td>0.681250</td>\n",
       "      <td>0.472917</td>\n",
       "      <td>0.229167</td>\n",
       "      <td>0.068750</td>\n",
       "      <td>0.000000</td>\n",
       "      <td>0.004167</td>\n",
       "      <td>0.014583</td>\n",
       "      <td>0.054167</td>\n",
       "      <td>...</td>\n",
       "      <td>0.0</td>\n",
       "      <td>0.0</td>\n",
       "      <td>0.0</td>\n",
       "      <td>0.0</td>\n",
       "      <td>0.0</td>\n",
       "      <td>0.0</td>\n",
       "      <td>0.0</td>\n",
       "      <td>0.0</td>\n",
       "      <td>0.0</td>\n",
       "      <td>0.0</td>\n",
       "    </tr>\n",
       "    <tr>\n",
       "      <th>4</th>\n",
       "      <td>0.570470</td>\n",
       "      <td>0.399329</td>\n",
       "      <td>0.238255</td>\n",
       "      <td>0.147651</td>\n",
       "      <td>0.000000</td>\n",
       "      <td>0.003356</td>\n",
       "      <td>0.040268</td>\n",
       "      <td>0.080537</td>\n",
       "      <td>0.070470</td>\n",
       "      <td>0.090604</td>\n",
       "      <td>...</td>\n",
       "      <td>0.0</td>\n",
       "      <td>0.0</td>\n",
       "      <td>0.0</td>\n",
       "      <td>0.0</td>\n",
       "      <td>0.0</td>\n",
       "      <td>0.0</td>\n",
       "      <td>0.0</td>\n",
       "      <td>0.0</td>\n",
       "      <td>0.0</td>\n",
       "      <td>0.0</td>\n",
       "    </tr>\n",
       "  </tbody>\n",
       "</table>\n",
       "<p>5 rows × 188 columns</p>\n",
       "</div>"
      ],
      "text/plain": [
       "        0         1         2         3         4         5         6    \\\n",
       "0  1.000000  0.758264  0.111570  0.000000  0.080579  0.078512  0.066116   \n",
       "1  0.908425  0.783883  0.531136  0.362637  0.366300  0.344322  0.333333   \n",
       "2  0.730088  0.212389  0.000000  0.119469  0.101770  0.101770  0.110619   \n",
       "3  1.000000  0.910417  0.681250  0.472917  0.229167  0.068750  0.000000   \n",
       "4  0.570470  0.399329  0.238255  0.147651  0.000000  0.003356  0.040268   \n",
       "\n",
       "        7         8         9    ...  178  179  180  181  182  183  184  185  \\\n",
       "0  0.049587  0.047521  0.035124  ...  0.0  0.0  0.0  0.0  0.0  0.0  0.0  0.0   \n",
       "1  0.307692  0.296703  0.300366  ...  0.0  0.0  0.0  0.0  0.0  0.0  0.0  0.0   \n",
       "2  0.123894  0.115044  0.132743  ...  0.0  0.0  0.0  0.0  0.0  0.0  0.0  0.0   \n",
       "3  0.004167  0.014583  0.054167  ...  0.0  0.0  0.0  0.0  0.0  0.0  0.0  0.0   \n",
       "4  0.080537  0.070470  0.090604  ...  0.0  0.0  0.0  0.0  0.0  0.0  0.0  0.0   \n",
       "\n",
       "   186  187  \n",
       "0  0.0  0.0  \n",
       "1  0.0  0.0  \n",
       "2  0.0  0.0  \n",
       "3  0.0  0.0  \n",
       "4  0.0  0.0  \n",
       "\n",
       "[5 rows x 188 columns]"
      ]
     },
     "metadata": {},
     "output_type": "display_data"
    },
    {
     "name": "stdout",
     "output_type": "stream",
     "text": [
      "Revisando valores faltantes...\n",
      "0      0\n",
      "1      0\n",
      "2      0\n",
      "3      0\n",
      "4      0\n",
      "      ..\n",
      "183    0\n",
      "184    0\n",
      "185    0\n",
      "186    0\n",
      "187    0\n",
      "Length: 188, dtype: int64\n",
      "Características (X) y etiquetas (y) separadas: X.shape = (21892, 187), y.shape = (21892,).\n",
      "--------------------------------------------------------------------------------------------------------------------------------------------------------\n"
     ]
    }
   ],
   "source": [
    "# Función para cargar y preprocesar los datos\n",
    "def cargar_y_preprocesar(ruta_datos, archivo):\n",
    "    ruta_archivo = os.path.join(ruta_datos, archivo)\n",
    "    if not os.path.exists(ruta_archivo):                                    # Verificar si el archivo existe\n",
    "        raise FileNotFoundError(f\"El archivo {ruta_archivo} no existe.\")\n",
    "    data = pd.read_csv(ruta_archivo, header=None)                           # Cargar datos (tabla)\n",
    "    print(f\"Datos cargados correctamente desde {ruta_archivo}.\")\n",
    "    print(f\"Dimensiones de los datos: {data.shape}\")                        # Mostrar tamaño de los datos\n",
    "    print(\"------------------------------------------------------------\")\n",
    "    display(data.head())                                                    # Mostrar las primeras filas de los datos\n",
    "    print(\"Revisando valores faltantes...\")                                 # Inspeccionar valores faltantes\n",
    "    print(data.isna().sum())                                                # Conteo de valores NaN por columna\n",
    "    X = data.iloc[:, :187].values                                           # Separar características y etiquetas\n",
    "    y = data.iloc[:, 187].values\n",
    "    print(f\"Características (X) y etiquetas (y) separadas: X.shape = {X.shape}, y.shape = {y.shape}.\")   \n",
    "    print(\"--------------------------------------------------------------------------------------------------------------------------------------------------------\")\n",
    "    return X, y\n",
    "\n",
    "ruta_datos = 'MIT-BIH/'                                                     # Ruta del conjunto de datos\n",
    "train_file = 'mitbih_train.csv'                                             # Archivos de datos\n",
    "test_file = 'mitbih_test.csv'\n",
    "\n",
    "X_train, y_train = cargar_y_preprocesar(ruta_datos, train_file)             # Cargar datos de entrenamiento y prueba con estandarización\n",
    "X_test, y_test = cargar_y_preprocesar(ruta_datos, test_file)"
   ]
  },
  {
   "cell_type": "code",
   "execution_count": 4,
   "metadata": {},
   "outputs": [
    {
     "name": "stdout",
     "output_type": "stream",
     "text": [
      "Distribución en el conjunto de entrenamiento\n",
      "---------------------------------------------\n",
      "0.0    72471\n",
      "1.0     2223\n",
      "2.0     5788\n",
      "3.0      641\n",
      "4.0     6431\n",
      "Name: count, dtype: int64\n",
      "---------------------------------------------\n"
     ]
    },
    {
     "data": {
      "application/vnd.plotly.v1+json": {
       "config": {
        "plotlyServerURL": "https://plot.ly"
       },
       "data": [
        {
         "domain": {
          "x": [
           0,
           1
          ],
          "y": [
           0,
           1
          ]
         },
         "hovertemplate": "label=%{label}<br>value=%{value}<extra></extra>",
         "labels": [
          "Normal",
          "Prematura Auricular",
          "Contracción Ventricular Prematura",
          "Fusión de Ventricular y Normal",
          "Fusión de Estimulación y Normal"
         ],
         "legendgroup": "",
         "name": "",
         "showlegend": true,
         "type": "pie",
         "values": [
          72471,
          2223,
          5788,
          641,
          6431
         ]
        }
       ],
       "layout": {
        "height": 600,
        "legend": {
         "tracegroupgap": 0
        },
        "template": {
         "data": {
          "bar": [
           {
            "error_x": {
             "color": "#2a3f5f"
            },
            "error_y": {
             "color": "#2a3f5f"
            },
            "marker": {
             "line": {
              "color": "#E5ECF6",
              "width": 0.5
             },
             "pattern": {
              "fillmode": "overlay",
              "size": 10,
              "solidity": 0.2
             }
            },
            "type": "bar"
           }
          ],
          "barpolar": [
           {
            "marker": {
             "line": {
              "color": "#E5ECF6",
              "width": 0.5
             },
             "pattern": {
              "fillmode": "overlay",
              "size": 10,
              "solidity": 0.2
             }
            },
            "type": "barpolar"
           }
          ],
          "carpet": [
           {
            "aaxis": {
             "endlinecolor": "#2a3f5f",
             "gridcolor": "white",
             "linecolor": "white",
             "minorgridcolor": "white",
             "startlinecolor": "#2a3f5f"
            },
            "baxis": {
             "endlinecolor": "#2a3f5f",
             "gridcolor": "white",
             "linecolor": "white",
             "minorgridcolor": "white",
             "startlinecolor": "#2a3f5f"
            },
            "type": "carpet"
           }
          ],
          "choropleth": [
           {
            "colorbar": {
             "outlinewidth": 0,
             "ticks": ""
            },
            "type": "choropleth"
           }
          ],
          "contour": [
           {
            "colorbar": {
             "outlinewidth": 0,
             "ticks": ""
            },
            "colorscale": [
             [
              0,
              "#0d0887"
             ],
             [
              0.1111111111111111,
              "#46039f"
             ],
             [
              0.2222222222222222,
              "#7201a8"
             ],
             [
              0.3333333333333333,
              "#9c179e"
             ],
             [
              0.4444444444444444,
              "#bd3786"
             ],
             [
              0.5555555555555556,
              "#d8576b"
             ],
             [
              0.6666666666666666,
              "#ed7953"
             ],
             [
              0.7777777777777778,
              "#fb9f3a"
             ],
             [
              0.8888888888888888,
              "#fdca26"
             ],
             [
              1,
              "#f0f921"
             ]
            ],
            "type": "contour"
           }
          ],
          "contourcarpet": [
           {
            "colorbar": {
             "outlinewidth": 0,
             "ticks": ""
            },
            "type": "contourcarpet"
           }
          ],
          "heatmap": [
           {
            "colorbar": {
             "outlinewidth": 0,
             "ticks": ""
            },
            "colorscale": [
             [
              0,
              "#0d0887"
             ],
             [
              0.1111111111111111,
              "#46039f"
             ],
             [
              0.2222222222222222,
              "#7201a8"
             ],
             [
              0.3333333333333333,
              "#9c179e"
             ],
             [
              0.4444444444444444,
              "#bd3786"
             ],
             [
              0.5555555555555556,
              "#d8576b"
             ],
             [
              0.6666666666666666,
              "#ed7953"
             ],
             [
              0.7777777777777778,
              "#fb9f3a"
             ],
             [
              0.8888888888888888,
              "#fdca26"
             ],
             [
              1,
              "#f0f921"
             ]
            ],
            "type": "heatmap"
           }
          ],
          "heatmapgl": [
           {
            "colorbar": {
             "outlinewidth": 0,
             "ticks": ""
            },
            "colorscale": [
             [
              0,
              "#0d0887"
             ],
             [
              0.1111111111111111,
              "#46039f"
             ],
             [
              0.2222222222222222,
              "#7201a8"
             ],
             [
              0.3333333333333333,
              "#9c179e"
             ],
             [
              0.4444444444444444,
              "#bd3786"
             ],
             [
              0.5555555555555556,
              "#d8576b"
             ],
             [
              0.6666666666666666,
              "#ed7953"
             ],
             [
              0.7777777777777778,
              "#fb9f3a"
             ],
             [
              0.8888888888888888,
              "#fdca26"
             ],
             [
              1,
              "#f0f921"
             ]
            ],
            "type": "heatmapgl"
           }
          ],
          "histogram": [
           {
            "marker": {
             "pattern": {
              "fillmode": "overlay",
              "size": 10,
              "solidity": 0.2
             }
            },
            "type": "histogram"
           }
          ],
          "histogram2d": [
           {
            "colorbar": {
             "outlinewidth": 0,
             "ticks": ""
            },
            "colorscale": [
             [
              0,
              "#0d0887"
             ],
             [
              0.1111111111111111,
              "#46039f"
             ],
             [
              0.2222222222222222,
              "#7201a8"
             ],
             [
              0.3333333333333333,
              "#9c179e"
             ],
             [
              0.4444444444444444,
              "#bd3786"
             ],
             [
              0.5555555555555556,
              "#d8576b"
             ],
             [
              0.6666666666666666,
              "#ed7953"
             ],
             [
              0.7777777777777778,
              "#fb9f3a"
             ],
             [
              0.8888888888888888,
              "#fdca26"
             ],
             [
              1,
              "#f0f921"
             ]
            ],
            "type": "histogram2d"
           }
          ],
          "histogram2dcontour": [
           {
            "colorbar": {
             "outlinewidth": 0,
             "ticks": ""
            },
            "colorscale": [
             [
              0,
              "#0d0887"
             ],
             [
              0.1111111111111111,
              "#46039f"
             ],
             [
              0.2222222222222222,
              "#7201a8"
             ],
             [
              0.3333333333333333,
              "#9c179e"
             ],
             [
              0.4444444444444444,
              "#bd3786"
             ],
             [
              0.5555555555555556,
              "#d8576b"
             ],
             [
              0.6666666666666666,
              "#ed7953"
             ],
             [
              0.7777777777777778,
              "#fb9f3a"
             ],
             [
              0.8888888888888888,
              "#fdca26"
             ],
             [
              1,
              "#f0f921"
             ]
            ],
            "type": "histogram2dcontour"
           }
          ],
          "mesh3d": [
           {
            "colorbar": {
             "outlinewidth": 0,
             "ticks": ""
            },
            "type": "mesh3d"
           }
          ],
          "parcoords": [
           {
            "line": {
             "colorbar": {
              "outlinewidth": 0,
              "ticks": ""
             }
            },
            "type": "parcoords"
           }
          ],
          "pie": [
           {
            "automargin": true,
            "type": "pie"
           }
          ],
          "scatter": [
           {
            "fillpattern": {
             "fillmode": "overlay",
             "size": 10,
             "solidity": 0.2
            },
            "type": "scatter"
           }
          ],
          "scatter3d": [
           {
            "line": {
             "colorbar": {
              "outlinewidth": 0,
              "ticks": ""
             }
            },
            "marker": {
             "colorbar": {
              "outlinewidth": 0,
              "ticks": ""
             }
            },
            "type": "scatter3d"
           }
          ],
          "scattercarpet": [
           {
            "marker": {
             "colorbar": {
              "outlinewidth": 0,
              "ticks": ""
             }
            },
            "type": "scattercarpet"
           }
          ],
          "scattergeo": [
           {
            "marker": {
             "colorbar": {
              "outlinewidth": 0,
              "ticks": ""
             }
            },
            "type": "scattergeo"
           }
          ],
          "scattergl": [
           {
            "marker": {
             "colorbar": {
              "outlinewidth": 0,
              "ticks": ""
             }
            },
            "type": "scattergl"
           }
          ],
          "scattermapbox": [
           {
            "marker": {
             "colorbar": {
              "outlinewidth": 0,
              "ticks": ""
             }
            },
            "type": "scattermapbox"
           }
          ],
          "scatterpolar": [
           {
            "marker": {
             "colorbar": {
              "outlinewidth": 0,
              "ticks": ""
             }
            },
            "type": "scatterpolar"
           }
          ],
          "scatterpolargl": [
           {
            "marker": {
             "colorbar": {
              "outlinewidth": 0,
              "ticks": ""
             }
            },
            "type": "scatterpolargl"
           }
          ],
          "scatterternary": [
           {
            "marker": {
             "colorbar": {
              "outlinewidth": 0,
              "ticks": ""
             }
            },
            "type": "scatterternary"
           }
          ],
          "surface": [
           {
            "colorbar": {
             "outlinewidth": 0,
             "ticks": ""
            },
            "colorscale": [
             [
              0,
              "#0d0887"
             ],
             [
              0.1111111111111111,
              "#46039f"
             ],
             [
              0.2222222222222222,
              "#7201a8"
             ],
             [
              0.3333333333333333,
              "#9c179e"
             ],
             [
              0.4444444444444444,
              "#bd3786"
             ],
             [
              0.5555555555555556,
              "#d8576b"
             ],
             [
              0.6666666666666666,
              "#ed7953"
             ],
             [
              0.7777777777777778,
              "#fb9f3a"
             ],
             [
              0.8888888888888888,
              "#fdca26"
             ],
             [
              1,
              "#f0f921"
             ]
            ],
            "type": "surface"
           }
          ],
          "table": [
           {
            "cells": {
             "fill": {
              "color": "#EBF0F8"
             },
             "line": {
              "color": "white"
             }
            },
            "header": {
             "fill": {
              "color": "#C8D4E3"
             },
             "line": {
              "color": "white"
             }
            },
            "type": "table"
           }
          ]
         },
         "layout": {
          "annotationdefaults": {
           "arrowcolor": "#2a3f5f",
           "arrowhead": 0,
           "arrowwidth": 1
          },
          "autotypenumbers": "strict",
          "coloraxis": {
           "colorbar": {
            "outlinewidth": 0,
            "ticks": ""
           }
          },
          "colorscale": {
           "diverging": [
            [
             0,
             "#8e0152"
            ],
            [
             0.1,
             "#c51b7d"
            ],
            [
             0.2,
             "#de77ae"
            ],
            [
             0.3,
             "#f1b6da"
            ],
            [
             0.4,
             "#fde0ef"
            ],
            [
             0.5,
             "#f7f7f7"
            ],
            [
             0.6,
             "#e6f5d0"
            ],
            [
             0.7,
             "#b8e186"
            ],
            [
             0.8,
             "#7fbc41"
            ],
            [
             0.9,
             "#4d9221"
            ],
            [
             1,
             "#276419"
            ]
           ],
           "sequential": [
            [
             0,
             "#0d0887"
            ],
            [
             0.1111111111111111,
             "#46039f"
            ],
            [
             0.2222222222222222,
             "#7201a8"
            ],
            [
             0.3333333333333333,
             "#9c179e"
            ],
            [
             0.4444444444444444,
             "#bd3786"
            ],
            [
             0.5555555555555556,
             "#d8576b"
            ],
            [
             0.6666666666666666,
             "#ed7953"
            ],
            [
             0.7777777777777778,
             "#fb9f3a"
            ],
            [
             0.8888888888888888,
             "#fdca26"
            ],
            [
             1,
             "#f0f921"
            ]
           ],
           "sequentialminus": [
            [
             0,
             "#0d0887"
            ],
            [
             0.1111111111111111,
             "#46039f"
            ],
            [
             0.2222222222222222,
             "#7201a8"
            ],
            [
             0.3333333333333333,
             "#9c179e"
            ],
            [
             0.4444444444444444,
             "#bd3786"
            ],
            [
             0.5555555555555556,
             "#d8576b"
            ],
            [
             0.6666666666666666,
             "#ed7953"
            ],
            [
             0.7777777777777778,
             "#fb9f3a"
            ],
            [
             0.8888888888888888,
             "#fdca26"
            ],
            [
             1,
             "#f0f921"
            ]
           ]
          },
          "colorway": [
           "#636efa",
           "#EF553B",
           "#00cc96",
           "#ab63fa",
           "#FFA15A",
           "#19d3f3",
           "#FF6692",
           "#B6E880",
           "#FF97FF",
           "#FECB52"
          ],
          "font": {
           "color": "#2a3f5f"
          },
          "geo": {
           "bgcolor": "white",
           "lakecolor": "white",
           "landcolor": "#E5ECF6",
           "showlakes": true,
           "showland": true,
           "subunitcolor": "white"
          },
          "hoverlabel": {
           "align": "left"
          },
          "hovermode": "closest",
          "mapbox": {
           "style": "light"
          },
          "paper_bgcolor": "white",
          "plot_bgcolor": "#E5ECF6",
          "polar": {
           "angularaxis": {
            "gridcolor": "white",
            "linecolor": "white",
            "ticks": ""
           },
           "bgcolor": "#E5ECF6",
           "radialaxis": {
            "gridcolor": "white",
            "linecolor": "white",
            "ticks": ""
           }
          },
          "scene": {
           "xaxis": {
            "backgroundcolor": "#E5ECF6",
            "gridcolor": "white",
            "gridwidth": 2,
            "linecolor": "white",
            "showbackground": true,
            "ticks": "",
            "zerolinecolor": "white"
           },
           "yaxis": {
            "backgroundcolor": "#E5ECF6",
            "gridcolor": "white",
            "gridwidth": 2,
            "linecolor": "white",
            "showbackground": true,
            "ticks": "",
            "zerolinecolor": "white"
           },
           "zaxis": {
            "backgroundcolor": "#E5ECF6",
            "gridcolor": "white",
            "gridwidth": 2,
            "linecolor": "white",
            "showbackground": true,
            "ticks": "",
            "zerolinecolor": "white"
           }
          },
          "shapedefaults": {
           "line": {
            "color": "#2a3f5f"
           }
          },
          "ternary": {
           "aaxis": {
            "gridcolor": "white",
            "linecolor": "white",
            "ticks": ""
           },
           "baxis": {
            "gridcolor": "white",
            "linecolor": "white",
            "ticks": ""
           },
           "bgcolor": "#E5ECF6",
           "caxis": {
            "gridcolor": "white",
            "linecolor": "white",
            "ticks": ""
           }
          },
          "title": {
           "x": 0.05
          },
          "xaxis": {
           "automargin": true,
           "gridcolor": "white",
           "linecolor": "white",
           "ticks": "",
           "title": {
            "standoff": 15
           },
           "zerolinecolor": "white",
           "zerolinewidth": 2
          },
          "yaxis": {
           "automargin": true,
           "gridcolor": "white",
           "linecolor": "white",
           "ticks": "",
           "title": {
            "standoff": 15
           },
           "zerolinecolor": "white",
           "zerolinewidth": 2
          }
         }
        },
        "title": {
         "text": "Porcentaje de Cada Etiqueta en el Conjunto de Entrenamiento",
         "x": 0.5
        },
        "width": 800
       }
      }
     },
     "metadata": {},
     "output_type": "display_data"
    }
   ],
   "source": [
    "# Diccionario de etiquetas\n",
    "labels = {\n",
    "    0: \"Normal\",\n",
    "    1: \"Prematura Auricular\",\n",
    "    2: \"Contracción Ventricular Prematura\",\n",
    "    3: \"Fusión de Ventricular y Normal\",\n",
    "    4: \"Fusión de Estimulación y Normal\"\n",
    "}\n",
    "\n",
    "# Conteo de etiquetas en el conjunto de entrenamiento\n",
    "value_counts_train = pd.Series(y_train).value_counts().sort_index()         # Obtener conteo de cada clase\n",
    "value_counts_train.index = value_counts_train.index.map(labels)             # Renombrar índices con etiquetas legibles\n",
    "\n",
    "# Crear gráfica de pastel\n",
    "pie_fig = px.pie(\n",
    "    names=value_counts_train.index,\n",
    "    values=value_counts_train.values,\n",
    "    title=\"Porcentaje de Cada Etiqueta en el Conjunto de Entrenamiento\"\n",
    ")\n",
    "\n",
    "pie_fig.update_layout(title_x=0.5, width=800, height=600)                   # Configuración de diseño\n",
    "\n",
    "print(\"Distribución en el conjunto de entrenamiento\")                       \n",
    "print(\"---------------------------------------------\")                      \n",
    "print(pd.Series(y_train).value_counts().sort_index())\n",
    "print(\"---------------------------------------------\") \n",
    "pie_fig.show()                                                              # Mostrar gráfica"
   ]
  },
  {
   "cell_type": "code",
   "execution_count": 4,
   "metadata": {},
   "outputs": [
    {
     "name": "stdout",
     "output_type": "stream",
     "text": [
      "\n",
      "Distribución en el conjunto de prueba\n",
      "---------------------------------------------\n",
      "0.0    18118\n",
      "1.0      556\n",
      "2.0     1448\n",
      "3.0      162\n",
      "4.0     1608\n",
      "Name: count, dtype: int64\n",
      "---------------------------------------------\n"
     ]
    },
    {
     "data": {
      "application/vnd.plotly.v1+json": {
       "config": {
        "plotlyServerURL": "https://plot.ly"
       },
       "data": [
        {
         "domain": {
          "x": [
           0,
           1
          ],
          "y": [
           0,
           1
          ]
         },
         "hovertemplate": "label=%{label}<br>value=%{value}<extra></extra>",
         "labels": [
          "Normal",
          "Prematura Auricular",
          "Contracción Ventricular Prematura",
          "Fusión de Ventricular y Normal",
          "Fusión de Estimulación y Normal"
         ],
         "legendgroup": "",
         "name": "",
         "showlegend": true,
         "type": "pie",
         "values": [
          18118,
          556,
          1448,
          162,
          1608
         ]
        }
       ],
       "layout": {
        "height": 600,
        "legend": {
         "tracegroupgap": 0
        },
        "template": {
         "data": {
          "bar": [
           {
            "error_x": {
             "color": "#2a3f5f"
            },
            "error_y": {
             "color": "#2a3f5f"
            },
            "marker": {
             "line": {
              "color": "#E5ECF6",
              "width": 0.5
             },
             "pattern": {
              "fillmode": "overlay",
              "size": 10,
              "solidity": 0.2
             }
            },
            "type": "bar"
           }
          ],
          "barpolar": [
           {
            "marker": {
             "line": {
              "color": "#E5ECF6",
              "width": 0.5
             },
             "pattern": {
              "fillmode": "overlay",
              "size": 10,
              "solidity": 0.2
             }
            },
            "type": "barpolar"
           }
          ],
          "carpet": [
           {
            "aaxis": {
             "endlinecolor": "#2a3f5f",
             "gridcolor": "white",
             "linecolor": "white",
             "minorgridcolor": "white",
             "startlinecolor": "#2a3f5f"
            },
            "baxis": {
             "endlinecolor": "#2a3f5f",
             "gridcolor": "white",
             "linecolor": "white",
             "minorgridcolor": "white",
             "startlinecolor": "#2a3f5f"
            },
            "type": "carpet"
           }
          ],
          "choropleth": [
           {
            "colorbar": {
             "outlinewidth": 0,
             "ticks": ""
            },
            "type": "choropleth"
           }
          ],
          "contour": [
           {
            "colorbar": {
             "outlinewidth": 0,
             "ticks": ""
            },
            "colorscale": [
             [
              0,
              "#0d0887"
             ],
             [
              0.1111111111111111,
              "#46039f"
             ],
             [
              0.2222222222222222,
              "#7201a8"
             ],
             [
              0.3333333333333333,
              "#9c179e"
             ],
             [
              0.4444444444444444,
              "#bd3786"
             ],
             [
              0.5555555555555556,
              "#d8576b"
             ],
             [
              0.6666666666666666,
              "#ed7953"
             ],
             [
              0.7777777777777778,
              "#fb9f3a"
             ],
             [
              0.8888888888888888,
              "#fdca26"
             ],
             [
              1,
              "#f0f921"
             ]
            ],
            "type": "contour"
           }
          ],
          "contourcarpet": [
           {
            "colorbar": {
             "outlinewidth": 0,
             "ticks": ""
            },
            "type": "contourcarpet"
           }
          ],
          "heatmap": [
           {
            "colorbar": {
             "outlinewidth": 0,
             "ticks": ""
            },
            "colorscale": [
             [
              0,
              "#0d0887"
             ],
             [
              0.1111111111111111,
              "#46039f"
             ],
             [
              0.2222222222222222,
              "#7201a8"
             ],
             [
              0.3333333333333333,
              "#9c179e"
             ],
             [
              0.4444444444444444,
              "#bd3786"
             ],
             [
              0.5555555555555556,
              "#d8576b"
             ],
             [
              0.6666666666666666,
              "#ed7953"
             ],
             [
              0.7777777777777778,
              "#fb9f3a"
             ],
             [
              0.8888888888888888,
              "#fdca26"
             ],
             [
              1,
              "#f0f921"
             ]
            ],
            "type": "heatmap"
           }
          ],
          "heatmapgl": [
           {
            "colorbar": {
             "outlinewidth": 0,
             "ticks": ""
            },
            "colorscale": [
             [
              0,
              "#0d0887"
             ],
             [
              0.1111111111111111,
              "#46039f"
             ],
             [
              0.2222222222222222,
              "#7201a8"
             ],
             [
              0.3333333333333333,
              "#9c179e"
             ],
             [
              0.4444444444444444,
              "#bd3786"
             ],
             [
              0.5555555555555556,
              "#d8576b"
             ],
             [
              0.6666666666666666,
              "#ed7953"
             ],
             [
              0.7777777777777778,
              "#fb9f3a"
             ],
             [
              0.8888888888888888,
              "#fdca26"
             ],
             [
              1,
              "#f0f921"
             ]
            ],
            "type": "heatmapgl"
           }
          ],
          "histogram": [
           {
            "marker": {
             "pattern": {
              "fillmode": "overlay",
              "size": 10,
              "solidity": 0.2
             }
            },
            "type": "histogram"
           }
          ],
          "histogram2d": [
           {
            "colorbar": {
             "outlinewidth": 0,
             "ticks": ""
            },
            "colorscale": [
             [
              0,
              "#0d0887"
             ],
             [
              0.1111111111111111,
              "#46039f"
             ],
             [
              0.2222222222222222,
              "#7201a8"
             ],
             [
              0.3333333333333333,
              "#9c179e"
             ],
             [
              0.4444444444444444,
              "#bd3786"
             ],
             [
              0.5555555555555556,
              "#d8576b"
             ],
             [
              0.6666666666666666,
              "#ed7953"
             ],
             [
              0.7777777777777778,
              "#fb9f3a"
             ],
             [
              0.8888888888888888,
              "#fdca26"
             ],
             [
              1,
              "#f0f921"
             ]
            ],
            "type": "histogram2d"
           }
          ],
          "histogram2dcontour": [
           {
            "colorbar": {
             "outlinewidth": 0,
             "ticks": ""
            },
            "colorscale": [
             [
              0,
              "#0d0887"
             ],
             [
              0.1111111111111111,
              "#46039f"
             ],
             [
              0.2222222222222222,
              "#7201a8"
             ],
             [
              0.3333333333333333,
              "#9c179e"
             ],
             [
              0.4444444444444444,
              "#bd3786"
             ],
             [
              0.5555555555555556,
              "#d8576b"
             ],
             [
              0.6666666666666666,
              "#ed7953"
             ],
             [
              0.7777777777777778,
              "#fb9f3a"
             ],
             [
              0.8888888888888888,
              "#fdca26"
             ],
             [
              1,
              "#f0f921"
             ]
            ],
            "type": "histogram2dcontour"
           }
          ],
          "mesh3d": [
           {
            "colorbar": {
             "outlinewidth": 0,
             "ticks": ""
            },
            "type": "mesh3d"
           }
          ],
          "parcoords": [
           {
            "line": {
             "colorbar": {
              "outlinewidth": 0,
              "ticks": ""
             }
            },
            "type": "parcoords"
           }
          ],
          "pie": [
           {
            "automargin": true,
            "type": "pie"
           }
          ],
          "scatter": [
           {
            "fillpattern": {
             "fillmode": "overlay",
             "size": 10,
             "solidity": 0.2
            },
            "type": "scatter"
           }
          ],
          "scatter3d": [
           {
            "line": {
             "colorbar": {
              "outlinewidth": 0,
              "ticks": ""
             }
            },
            "marker": {
             "colorbar": {
              "outlinewidth": 0,
              "ticks": ""
             }
            },
            "type": "scatter3d"
           }
          ],
          "scattercarpet": [
           {
            "marker": {
             "colorbar": {
              "outlinewidth": 0,
              "ticks": ""
             }
            },
            "type": "scattercarpet"
           }
          ],
          "scattergeo": [
           {
            "marker": {
             "colorbar": {
              "outlinewidth": 0,
              "ticks": ""
             }
            },
            "type": "scattergeo"
           }
          ],
          "scattergl": [
           {
            "marker": {
             "colorbar": {
              "outlinewidth": 0,
              "ticks": ""
             }
            },
            "type": "scattergl"
           }
          ],
          "scattermapbox": [
           {
            "marker": {
             "colorbar": {
              "outlinewidth": 0,
              "ticks": ""
             }
            },
            "type": "scattermapbox"
           }
          ],
          "scatterpolar": [
           {
            "marker": {
             "colorbar": {
              "outlinewidth": 0,
              "ticks": ""
             }
            },
            "type": "scatterpolar"
           }
          ],
          "scatterpolargl": [
           {
            "marker": {
             "colorbar": {
              "outlinewidth": 0,
              "ticks": ""
             }
            },
            "type": "scatterpolargl"
           }
          ],
          "scatterternary": [
           {
            "marker": {
             "colorbar": {
              "outlinewidth": 0,
              "ticks": ""
             }
            },
            "type": "scatterternary"
           }
          ],
          "surface": [
           {
            "colorbar": {
             "outlinewidth": 0,
             "ticks": ""
            },
            "colorscale": [
             [
              0,
              "#0d0887"
             ],
             [
              0.1111111111111111,
              "#46039f"
             ],
             [
              0.2222222222222222,
              "#7201a8"
             ],
             [
              0.3333333333333333,
              "#9c179e"
             ],
             [
              0.4444444444444444,
              "#bd3786"
             ],
             [
              0.5555555555555556,
              "#d8576b"
             ],
             [
              0.6666666666666666,
              "#ed7953"
             ],
             [
              0.7777777777777778,
              "#fb9f3a"
             ],
             [
              0.8888888888888888,
              "#fdca26"
             ],
             [
              1,
              "#f0f921"
             ]
            ],
            "type": "surface"
           }
          ],
          "table": [
           {
            "cells": {
             "fill": {
              "color": "#EBF0F8"
             },
             "line": {
              "color": "white"
             }
            },
            "header": {
             "fill": {
              "color": "#C8D4E3"
             },
             "line": {
              "color": "white"
             }
            },
            "type": "table"
           }
          ]
         },
         "layout": {
          "annotationdefaults": {
           "arrowcolor": "#2a3f5f",
           "arrowhead": 0,
           "arrowwidth": 1
          },
          "autotypenumbers": "strict",
          "coloraxis": {
           "colorbar": {
            "outlinewidth": 0,
            "ticks": ""
           }
          },
          "colorscale": {
           "diverging": [
            [
             0,
             "#8e0152"
            ],
            [
             0.1,
             "#c51b7d"
            ],
            [
             0.2,
             "#de77ae"
            ],
            [
             0.3,
             "#f1b6da"
            ],
            [
             0.4,
             "#fde0ef"
            ],
            [
             0.5,
             "#f7f7f7"
            ],
            [
             0.6,
             "#e6f5d0"
            ],
            [
             0.7,
             "#b8e186"
            ],
            [
             0.8,
             "#7fbc41"
            ],
            [
             0.9,
             "#4d9221"
            ],
            [
             1,
             "#276419"
            ]
           ],
           "sequential": [
            [
             0,
             "#0d0887"
            ],
            [
             0.1111111111111111,
             "#46039f"
            ],
            [
             0.2222222222222222,
             "#7201a8"
            ],
            [
             0.3333333333333333,
             "#9c179e"
            ],
            [
             0.4444444444444444,
             "#bd3786"
            ],
            [
             0.5555555555555556,
             "#d8576b"
            ],
            [
             0.6666666666666666,
             "#ed7953"
            ],
            [
             0.7777777777777778,
             "#fb9f3a"
            ],
            [
             0.8888888888888888,
             "#fdca26"
            ],
            [
             1,
             "#f0f921"
            ]
           ],
           "sequentialminus": [
            [
             0,
             "#0d0887"
            ],
            [
             0.1111111111111111,
             "#46039f"
            ],
            [
             0.2222222222222222,
             "#7201a8"
            ],
            [
             0.3333333333333333,
             "#9c179e"
            ],
            [
             0.4444444444444444,
             "#bd3786"
            ],
            [
             0.5555555555555556,
             "#d8576b"
            ],
            [
             0.6666666666666666,
             "#ed7953"
            ],
            [
             0.7777777777777778,
             "#fb9f3a"
            ],
            [
             0.8888888888888888,
             "#fdca26"
            ],
            [
             1,
             "#f0f921"
            ]
           ]
          },
          "colorway": [
           "#636efa",
           "#EF553B",
           "#00cc96",
           "#ab63fa",
           "#FFA15A",
           "#19d3f3",
           "#FF6692",
           "#B6E880",
           "#FF97FF",
           "#FECB52"
          ],
          "font": {
           "color": "#2a3f5f"
          },
          "geo": {
           "bgcolor": "white",
           "lakecolor": "white",
           "landcolor": "#E5ECF6",
           "showlakes": true,
           "showland": true,
           "subunitcolor": "white"
          },
          "hoverlabel": {
           "align": "left"
          },
          "hovermode": "closest",
          "mapbox": {
           "style": "light"
          },
          "paper_bgcolor": "white",
          "plot_bgcolor": "#E5ECF6",
          "polar": {
           "angularaxis": {
            "gridcolor": "white",
            "linecolor": "white",
            "ticks": ""
           },
           "bgcolor": "#E5ECF6",
           "radialaxis": {
            "gridcolor": "white",
            "linecolor": "white",
            "ticks": ""
           }
          },
          "scene": {
           "xaxis": {
            "backgroundcolor": "#E5ECF6",
            "gridcolor": "white",
            "gridwidth": 2,
            "linecolor": "white",
            "showbackground": true,
            "ticks": "",
            "zerolinecolor": "white"
           },
           "yaxis": {
            "backgroundcolor": "#E5ECF6",
            "gridcolor": "white",
            "gridwidth": 2,
            "linecolor": "white",
            "showbackground": true,
            "ticks": "",
            "zerolinecolor": "white"
           },
           "zaxis": {
            "backgroundcolor": "#E5ECF6",
            "gridcolor": "white",
            "gridwidth": 2,
            "linecolor": "white",
            "showbackground": true,
            "ticks": "",
            "zerolinecolor": "white"
           }
          },
          "shapedefaults": {
           "line": {
            "color": "#2a3f5f"
           }
          },
          "ternary": {
           "aaxis": {
            "gridcolor": "white",
            "linecolor": "white",
            "ticks": ""
           },
           "baxis": {
            "gridcolor": "white",
            "linecolor": "white",
            "ticks": ""
           },
           "bgcolor": "#E5ECF6",
           "caxis": {
            "gridcolor": "white",
            "linecolor": "white",
            "ticks": ""
           }
          },
          "title": {
           "x": 0.05
          },
          "xaxis": {
           "automargin": true,
           "gridcolor": "white",
           "linecolor": "white",
           "ticks": "",
           "title": {
            "standoff": 15
           },
           "zerolinecolor": "white",
           "zerolinewidth": 2
          },
          "yaxis": {
           "automargin": true,
           "gridcolor": "white",
           "linecolor": "white",
           "ticks": "",
           "title": {
            "standoff": 15
           },
           "zerolinecolor": "white",
           "zerolinewidth": 2
          }
         }
        },
        "title": {
         "text": "Porcentaje de Cada Etiqueta en el Conjunto de Prueba",
         "x": 0.5
        },
        "width": 800
       }
      }
     },
     "metadata": {},
     "output_type": "display_data"
    }
   ],
   "source": [
    "# Conteo de etiquetas en el conjunto de prueba\n",
    "value_counts_test = pd.Series(y_test).value_counts().sort_index()           # Obtener conteo de cada clase\n",
    "value_counts_test.index = value_counts_test.index.map(labels)               # Renombrar índices con etiquetas legibles\n",
    "\n",
    "# Crear gráfica de pastel para el conjunto de prueba\n",
    "pie_fig_test = px.pie(\n",
    "    names=value_counts_test.index,\n",
    "    values=value_counts_test.values,\n",
    "    title=\"Porcentaje de Cada Etiqueta en el Conjunto de Prueba\"\n",
    ")\n",
    "\n",
    "pie_fig_test.update_layout(title_x=0.5, width=800, height=600)              # Configuración de diseño\n",
    "\n",
    "print(\"\\nDistribución en el conjunto de prueba\")\n",
    "print(\"---------------------------------------------\") \n",
    "print(pd.Series(y_test).value_counts().sort_index())\n",
    "print(\"---------------------------------------------\") \n",
    "pie_fig_test.show()                                                         # Mostrar gráfica"
   ]
  },
  {
   "cell_type": "code",
   "execution_count": 5,
   "metadata": {},
   "outputs": [
    {
     "data": {
      "application/vnd.plotly.v1+json": {
       "config": {
        "plotlyServerURL": "https://plot.ly"
       },
       "data": [
        {
         "hovertemplate": "Categorías=Normal<br>Intervalos de Tiempo=%{x}<br>Amplitud (mV)=%{y}<extra></extra>",
         "legendgroup": "Normal",
         "line": {
          "color": "#636efa",
          "dash": "solid"
         },
         "marker": {
          "symbol": "circle"
         },
         "mode": "lines",
         "name": "Normal",
         "orientation": "v",
         "showlegend": true,
         "type": "scatter",
         "x": [
          0,
          1,
          2,
          3,
          4,
          5,
          6,
          7,
          8,
          9,
          10,
          11,
          12,
          13,
          14,
          15,
          16,
          17,
          18,
          19,
          20,
          21,
          22,
          23,
          24,
          25,
          26,
          27,
          28,
          29,
          30,
          31,
          32,
          33,
          34,
          35,
          36,
          37,
          38,
          39,
          40,
          41,
          42,
          43,
          44,
          45,
          46,
          47,
          48,
          49,
          50,
          51,
          52,
          53,
          54,
          55,
          56,
          57,
          58,
          59,
          60,
          61,
          62,
          63,
          64,
          65,
          66,
          67,
          68,
          69,
          70,
          71,
          72,
          73,
          74,
          75,
          76,
          77,
          78,
          79,
          80,
          81,
          82,
          83,
          84,
          85,
          86,
          87,
          88,
          89,
          90,
          91,
          92,
          93,
          94,
          95,
          96,
          97,
          98,
          99,
          100,
          101,
          102,
          103,
          104,
          105,
          106,
          107,
          108,
          109,
          110,
          111,
          112,
          113,
          114,
          115,
          116,
          117,
          118,
          119,
          120,
          121,
          122,
          123,
          124,
          125,
          126,
          127,
          128,
          129,
          130,
          131,
          132,
          133,
          134,
          135,
          136,
          137,
          138,
          139,
          140,
          141,
          142,
          143,
          144,
          145,
          146,
          147,
          148,
          149,
          150,
          151,
          152,
          153,
          154,
          155,
          156,
          157,
          158,
          159,
          160,
          161,
          162,
          163,
          164,
          165,
          166,
          167,
          168,
          169,
          170,
          171,
          172,
          173,
          174,
          175,
          176,
          177,
          178,
          179,
          180,
          181,
          182,
          183,
          184,
          185,
          186
         ],
         "xaxis": "x",
         "y": [
          0.9601139426231384,
          0.8632478713989258,
          0.46153846383094793,
          0.19658119976520536,
          0.09401709586381912,
          0.12535612285137177,
          0.09971509873867035,
          0.0883190855383873,
          0.07407407462596893,
          0.08262108266353606,
          0.07407407462596893,
          0.06267806142568588,
          0.0655270665884018,
          0.0655270665884018,
          0.06267806142568588,
          0.07692307978868483,
          0.07122506946325302,
          0.08262108266353606,
          0.0911680907011032,
          0.09686609357595444,
          0.08262108266353606,
          0.08262108266353606,
          0.0911680907011032,
          0.10541310906410216,
          0.12250712513923644,
          0.14814814925193787,
          0.1823361814022064,
          0.19373218715190887,
          0.2136752158403397,
          0.20797720551490784,
          0.2222222238779068,
          0.25356125831604004,
          0.2706552743911743,
          0.28774929046630854,
          0.2849002778530121,
          0.2934472858905792,
          0.2564102709293365,
          0.2478632479906082,
          0.18803419172763824,
          0.14529915153980255,
          0.10826210677623747,
          0.08262108266353606,
          0.07977207750082016,
          0.07407407462596893,
          0.014245014637708664,
          0.0113960113376379,
          0.06267806142568588,
          0.05128205195069313,
          0.056980058550834656,
          0.04843304678797722,
          0.028490029275417328,
          0.03133903071284294,
          0.07692307978868483,
          0.025641025975346565,
          0.028490029275417328,
          0.037037037312984473,
          0.09401709586381912,
          0.08547008782625198,
          0.03988603875041008,
          0.05982905998826026,
          0.07407407462596893,
          0.07977207750082016,
          0.0911680907011032,
          0.09971509873867035,
          0.10826210677623747,
          0.0883190855383873,
          0.0911680907011032,
          0.0655270665884018,
          0.08547008782625198,
          0.0883190855383873,
          0.07692307978868483,
          0.08262108266353606,
          0.09686609357595444,
          0.09971509873867035,
          0.1339031308889389,
          0.10256410390138626,
          0.03988603875041008,
          0.0655270665884018,
          0.07407407462596893,
          0.08262108266353606,
          0.08547008782625198,
          0.056980058550834656,
          0.045584045350551605,
          0.10256410390138626,
          0.03988603875041008,
          0.0113960113376379,
          0.017094017937779427,
          0.03133903071284294,
          0.0056980056688189515,
          0.008547008968889713,
          0.03133903071284294,
          0.05128205195069313,
          0.056980058550834656,
          0.0883190855383873,
          0.0655270665884018,
          0.0113960113376379,
          0.056980058550834656,
          0.03988603875041008,
          0.03988603875041008,
          0.025641025975346565,
          0.0028490028344094758,
          0.01994301937520504,
          0.025641025975346565,
          0.0113960113376379,
          0.028490029275417328,
          0.01994301937520504,
          0.0227920226752758,
          0.03418803587555885,
          0.014245014637708664,
          0.05128205195069313,
          0.0683760717511177,
          0.13960114121437073,
          0.28774929046630854,
          0.5270655155181885,
          0.7777777910232544,
          1,
          0.8888888955116272,
          0.4928774833679199,
          0.19088318943977356,
          0.0883190855383873,
          0.06267806142568588,
          0.03418803587555885,
          0,
          0.03418803587555885,
          0.017094017937779427,
          0.0028490028344094758,
          0,
          0.04843304678797722,
          0.04843304678797722,
          0.05413105338811874,
          0.04273504391312599,
          0.05413105338811874,
          0.05982905998826026,
          0.06267806142568588,
          0.07122506946325302,
          0.07692307978868483,
          0.09971509873867035,
          0,
          0,
          0,
          0,
          0,
          0,
          0,
          0,
          0,
          0,
          0,
          0,
          0,
          0,
          0,
          0,
          0,
          0,
          0,
          0,
          0,
          0,
          0,
          0,
          0,
          0,
          0,
          0,
          0,
          0,
          0,
          0,
          0,
          0,
          0,
          0,
          0,
          0,
          0,
          0,
          0,
          0,
          0,
          0,
          0,
          0,
          0,
          0,
          0,
          0
         ],
         "yaxis": "y"
        },
        {
         "hovertemplate": "Categorías=Prematura Auricular<br>Intervalos de Tiempo=%{x}<br>Amplitud (mV)=%{y}<extra></extra>",
         "legendgroup": "Prematura Auricular",
         "line": {
          "color": "#EF553B",
          "dash": "solid"
         },
         "marker": {
          "symbol": "circle"
         },
         "mode": "lines",
         "name": "Prematura Auricular",
         "orientation": "v",
         "showlegend": true,
         "type": "scatter",
         "x": [
          0,
          1,
          2,
          3,
          4,
          5,
          6,
          7,
          8,
          9,
          10,
          11,
          12,
          13,
          14,
          15,
          16,
          17,
          18,
          19,
          20,
          21,
          22,
          23,
          24,
          25,
          26,
          27,
          28,
          29,
          30,
          31,
          32,
          33,
          34,
          35,
          36,
          37,
          38,
          39,
          40,
          41,
          42,
          43,
          44,
          45,
          46,
          47,
          48,
          49,
          50,
          51,
          52,
          53,
          54,
          55,
          56,
          57,
          58,
          59,
          60,
          61,
          62,
          63,
          64,
          65,
          66,
          67,
          68,
          69,
          70,
          71,
          72,
          73,
          74,
          75,
          76,
          77,
          78,
          79,
          80,
          81,
          82,
          83,
          84,
          85,
          86,
          87,
          88,
          89,
          90,
          91,
          92,
          93,
          94,
          95,
          96,
          97,
          98,
          99,
          100,
          101,
          102,
          103,
          104,
          105,
          106,
          107,
          108,
          109,
          110,
          111,
          112,
          113,
          114,
          115,
          116,
          117,
          118,
          119,
          120,
          121,
          122,
          123,
          124,
          125,
          126,
          127,
          128,
          129,
          130,
          131,
          132,
          133,
          134,
          135,
          136,
          137,
          138,
          139,
          140,
          141,
          142,
          143,
          144,
          145,
          146,
          147,
          148,
          149,
          150,
          151,
          152,
          153,
          154,
          155,
          156,
          157,
          158,
          159,
          160,
          161,
          162,
          163,
          164,
          165,
          166,
          167,
          168,
          169,
          170,
          171,
          172,
          173,
          174,
          175,
          176,
          177,
          178,
          179,
          180,
          181,
          182,
          183,
          184,
          185,
          186
         ],
         "xaxis": "x",
         "y": [
          0.9836956262588501,
          1,
          0.33152174949646,
          0,
          0.10869564861059187,
          0.16304348409175873,
          0.1304347813129425,
          0.19021739065647125,
          0.28804346919059753,
          0.22282609343528748,
          0.17934782803058624,
          0.27173912525177,
          0.40217390656471247,
          0.42391303181648254,
          0.39673912525177,
          0.41847825050354,
          0.44565218687057495,
          0.4402174055576325,
          0.4347825944423676,
          0.4347825944423676,
          0.4402174055576325,
          0.4402174055576325,
          0.4510869681835175,
          0.46195653080940247,
          0.48913043737411493,
          0.47826087474823,
          0.46195653080940247,
          0.5054348111152649,
          0.5489130616188049,
          0.5597826242446899,
          0.592391312122345,
          0.6521739363670349,
          0.6847826242446899,
          0.66847825050354,
          0.6630434989929199,
          0.7228260636329651,
          0.717391312122345,
          0.6793478131294249,
          0.657608687877655,
          0.6304348111152649,
          0.5652173757553101,
          0.5054348111152649,
          0.4836956560611725,
          0.46739131212234497,
          0.46195653080940247,
          0.4347825944423676,
          0.40217390656471247,
          0.40217390656471247,
          0.41304346919059753,
          0.41304346919059753,
          0.375,
          0.39673912525177,
          0.42391303181648254,
          0.3804347813129425,
          0.3913043439388275,
          0.41304346919059753,
          0.41304346919059753,
          0.41304346919059753,
          0.40217390656471247,
          0.42391303181648254,
          0.41304346919059753,
          0.4347825944423676,
          0.42934781312942494,
          0.41847825050354,
          0.4347825944423676,
          0.44565218687057495,
          0.41304346919059753,
          0.41304346919059753,
          0.4347825944423676,
          0.42934781312942494,
          0.41304346919059753,
          0.4402174055576325,
          0.41847825050354,
          0.40217390656471247,
          0.39673912525177,
          0.40217390656471247,
          0.4347825944423676,
          0.40217390656471247,
          0.40760868787765503,
          0.40760868787765503,
          0.39673912525177,
          0.40217390656471247,
          0.40760868787765503,
          0.40217390656471247,
          0.41847825050354,
          0.375,
          0.3804347813129425,
          0.40760868787765503,
          0.41304346919059753,
          0.39673912525177,
          0.40217390656471247,
          0.40760868787765503,
          0.39673912525177,
          0.39673912525177,
          0.39673912525177,
          0.42934781312942494,
          0.41304346919059753,
          0.41847825050354,
          0.40760868787765503,
          0.41304346919059753,
          0.39673912525177,
          0.39673912525177,
          0.3804347813129425,
          0.4402174055576325,
          0.4347825944423676,
          0.40760868787765503,
          0.3913043439388275,
          0.40760868787765503,
          0.42934781312942494,
          0.4402174055576325,
          0.40217390656471247,
          0.42391303181648254,
          0.42391303181648254,
          0.3913043439388275,
          0.40217390656471247,
          0.38586956262588495,
          0.41304346919059753,
          0.41847825050354,
          0.42934781312942494,
          0.42934781312942494,
          0.41304346919059753,
          0.40217390656471247,
          0.42391303181648254,
          0.44565218687057495,
          0.42391303181648254,
          0.40217390656471247,
          0.39673912525177,
          0.41847825050354,
          0.42934781312942494,
          0.4402174055576325,
          0.4347825944423676,
          0.4402174055576325,
          0.4347825944423676,
          0.41304346919059753,
          0.41304346919059753,
          0.44565218687057495,
          0.4402174055576325,
          0.4347825944423676,
          0.41304346919059753,
          0.41847825050354,
          0.41847825050354,
          0.42934781312942494,
          0.42934781312942494,
          0.44565218687057495,
          0.42391303181648254,
          0.42934781312942494,
          0.41304346919059753,
          0.41847825050354,
          0.45652174949646,
          0.4347825944423676,
          0.41847825050354,
          0.42391303181648254,
          0.4402174055576325,
          0.45652174949646,
          0.42934781312942494,
          0.4347825944423676,
          0.45652174949646,
          0.4402174055576325,
          0.42934781312942494,
          0.4402174055576325,
          0.4402174055576325,
          0.4510869681835175,
          0.4347825944423676,
          0.44565218687057495,
          0.4347825944423676,
          0.42934781312942494,
          0.40760868787765503,
          0.44565218687057495,
          0.4402174055576325,
          0.4510869681835175,
          0.4347825944423676,
          0.42934781312942494,
          0.4347825944423676,
          0.42934781312942494,
          0.41304346919059753,
          0.4402174055576325,
          0.45652174949646,
          0.4836956560611725,
          0.46195653080940247,
          0.4836956560611725,
          0.5,
          0.4945652186870575,
          0.510869562625885,
          0.510869562625885,
          0.5054348111152649,
          0.4728260934352874,
          0.4347825944423676
         ],
         "yaxis": "y"
        },
        {
         "hovertemplate": "Categorías=Contracción Ventricular Prematura<br>Intervalos de Tiempo=%{x}<br>Amplitud (mV)=%{y}<extra></extra>",
         "legendgroup": "Contracción Ventricular Prematura",
         "line": {
          "color": "#00cc96",
          "dash": "solid"
         },
         "marker": {
          "symbol": "circle"
         },
         "mode": "lines",
         "name": "Contracción Ventricular Prematura",
         "orientation": "v",
         "showlegend": true,
         "type": "scatter",
         "x": [
          0,
          1,
          2,
          3,
          4,
          5,
          6,
          7,
          8,
          9,
          10,
          11,
          12,
          13,
          14,
          15,
          16,
          17,
          18,
          19,
          20,
          21,
          22,
          23,
          24,
          25,
          26,
          27,
          28,
          29,
          30,
          31,
          32,
          33,
          34,
          35,
          36,
          37,
          38,
          39,
          40,
          41,
          42,
          43,
          44,
          45,
          46,
          47,
          48,
          49,
          50,
          51,
          52,
          53,
          54,
          55,
          56,
          57,
          58,
          59,
          60,
          61,
          62,
          63,
          64,
          65,
          66,
          67,
          68,
          69,
          70,
          71,
          72,
          73,
          74,
          75,
          76,
          77,
          78,
          79,
          80,
          81,
          82,
          83,
          84,
          85,
          86,
          87,
          88,
          89,
          90,
          91,
          92,
          93,
          94,
          95,
          96,
          97,
          98,
          99,
          100,
          101,
          102,
          103,
          104,
          105,
          106,
          107,
          108,
          109,
          110,
          111,
          112,
          113,
          114,
          115,
          116,
          117,
          118,
          119,
          120,
          121,
          122,
          123,
          124,
          125,
          126,
          127,
          128,
          129,
          130,
          131,
          132,
          133,
          134,
          135,
          136,
          137,
          138,
          139,
          140,
          141,
          142,
          143,
          144,
          145,
          146,
          147,
          148,
          149,
          150,
          151,
          152,
          153,
          154,
          155,
          156,
          157,
          158,
          159,
          160,
          161,
          162,
          163,
          164,
          165,
          166,
          167,
          168,
          169,
          170,
          171,
          172,
          173,
          174,
          175,
          176,
          177,
          178,
          179,
          180,
          181,
          182,
          183,
          184,
          185,
          186
         ],
         "xaxis": "x",
         "y": [
          1,
          0.8656716346740722,
          0.6604477763175964,
          0.4589552283287048,
          0.2425373196601868,
          0.1268656700849533,
          0.16417910158634183,
          0.2425373196601868,
          0.2985074520111084,
          0.3507462739944458,
          0.3731343150138855,
          0.44029849767684937,
          0.447761207818985,
          0.444029837846756,
          0.4253731369972229,
          0.4104477465152741,
          0.4141791164875031,
          0.39925372600555414,
          0.4067164063453674,
          0.4067164063453674,
          0.3955223858356476,
          0.3880597054958344,
          0.39925372600555414,
          0.4141791164875031,
          0.4253731369972229,
          0.4253731369972229,
          0.4514925479888916,
          0.4962686598300934,
          0.5373134613037108,
          0.5447761416435242,
          0.611940324306488,
          0.6641790866851808,
          0.7014925479888916,
          0.7276119589805603,
          0.75,
          0.7611940503120422,
          0.746268630027771,
          0.7126865386962891,
          0.6977611780166626,
          0.6902984976768494,
          0.641791045665741,
          0.6156716346740723,
          0.6007462739944458,
          0.5970149040222168,
          0.5708954930305481,
          0.5559701323509216,
          0.5485074520111084,
          0.5559701323509216,
          0.5410447716712952,
          0.5223880410194397,
          0.5298507213592529,
          0.5373134613037108,
          0.5373134613037108,
          0.5223880410194397,
          0.5298507213592529,
          0.5410447716712952,
          0.5447761416435242,
          0.5335820913314819,
          0.5298507213592529,
          0.5447761416435242,
          0.5261194109916687,
          0.5149253606796265,
          0.5223880410194397,
          0.5373134613037108,
          0.5223880410194397,
          0.5186567306518555,
          0.5149253606796265,
          0.5261194109916687,
          0.5223880410194397,
          0.5074626803398132,
          0.503731369972229,
          0.5261194109916687,
          0.5074626803398132,
          0.503731369972229,
          0.503731369972229,
          0.5186567306518555,
          0.5111940503120422,
          0.5074626803398132,
          0.5149253606796265,
          0.5223880410194397,
          0.5223880410194397,
          0.5335820913314819,
          0.5671641826629639,
          0.64552241563797,
          0.746268630027771,
          0.7761194109916686,
          0.7164179086685181,
          0.6194030046463013,
          0.447761207818985,
          0.1753731369972229,
          0,
          0.003731343196704984,
          0.08955223858356477,
          0.17164179682731628,
          0.2537313401699066,
          0.31716418266296387,
          0.34328359365463257,
          0.3880597054958344,
          0.4328358173370361,
          0.4813432693481445,
          0.48507463932037354,
          0.4738805890083313,
          0.4589552283287048,
          0.4776119291782379,
          0.4776119291782379,
          0.47014924883842474,
          0.4738805890083313,
          0.48880597949028015,
          0.4925373196601868,
          0.4925373196601868,
          0.5,
          0.5186567306518555,
          0.5149253606796265,
          0.5223880410194397,
          0,
          0,
          0,
          0,
          0,
          0,
          0,
          0,
          0,
          0,
          0,
          0,
          0,
          0,
          0,
          0,
          0,
          0,
          0,
          0,
          0,
          0,
          0,
          0,
          0,
          0,
          0,
          0,
          0,
          0,
          0,
          0,
          0,
          0,
          0,
          0,
          0,
          0,
          0,
          0,
          0,
          0,
          0,
          0,
          0,
          0,
          0,
          0,
          0,
          0,
          0,
          0,
          0,
          0,
          0,
          0,
          0,
          0,
          0,
          0,
          0,
          0,
          0,
          0,
          0,
          0,
          0,
          0,
          0,
          0,
          0,
          0,
          0
         ],
         "yaxis": "y"
        },
        {
         "hovertemplate": "Categorías=Fusión de Ventricular y Normal<br>Intervalos de Tiempo=%{x}<br>Amplitud (mV)=%{y}<extra></extra>",
         "legendgroup": "Fusión de Ventricular y Normal",
         "line": {
          "color": "#ab63fa",
          "dash": "solid"
         },
         "marker": {
          "symbol": "circle"
         },
         "mode": "lines",
         "name": "Fusión de Ventricular y Normal",
         "orientation": "v",
         "showlegend": true,
         "type": "scatter",
         "x": [
          0,
          1,
          2,
          3,
          4,
          5,
          6,
          7,
          8,
          9,
          10,
          11,
          12,
          13,
          14,
          15,
          16,
          17,
          18,
          19,
          20,
          21,
          22,
          23,
          24,
          25,
          26,
          27,
          28,
          29,
          30,
          31,
          32,
          33,
          34,
          35,
          36,
          37,
          38,
          39,
          40,
          41,
          42,
          43,
          44,
          45,
          46,
          47,
          48,
          49,
          50,
          51,
          52,
          53,
          54,
          55,
          56,
          57,
          58,
          59,
          60,
          61,
          62,
          63,
          64,
          65,
          66,
          67,
          68,
          69,
          70,
          71,
          72,
          73,
          74,
          75,
          76,
          77,
          78,
          79,
          80,
          81,
          82,
          83,
          84,
          85,
          86,
          87,
          88,
          89,
          90,
          91,
          92,
          93,
          94,
          95,
          96,
          97,
          98,
          99,
          100,
          101,
          102,
          103,
          104,
          105,
          106,
          107,
          108,
          109,
          110,
          111,
          112,
          113,
          114,
          115,
          116,
          117,
          118,
          119,
          120,
          121,
          122,
          123,
          124,
          125,
          126,
          127,
          128,
          129,
          130,
          131,
          132,
          133,
          134,
          135,
          136,
          137,
          138,
          139,
          140,
          141,
          142,
          143,
          144,
          145,
          146,
          147,
          148,
          149,
          150,
          151,
          152,
          153,
          154,
          155,
          156,
          157,
          158,
          159,
          160,
          161,
          162,
          163,
          164,
          165,
          166,
          167,
          168,
          169,
          170,
          171,
          172,
          173,
          174,
          175,
          176,
          177,
          178,
          179,
          180,
          181,
          182,
          183,
          184,
          185,
          186
         ],
         "xaxis": "x",
         "y": [
          0.7322515249252318,
          1,
          0.9837728142738342,
          0.48478701710700983,
          0.1784989833831787,
          0.11156186461448668,
          0.08113590627908705,
          0.05070994049310684,
          0.0466531440615654,
          0.0466531440615654,
          0.030425963923335075,
          0.038539554923772805,
          0.03448275849223137,
          0.03448275849223137,
          0.02434077113866806,
          0.022312372922897335,
          0.006085192784667015,
          0.018255578354001045,
          0.014198782853782175,
          0.016227180138230324,
          0,
          0.010141988284885883,
          0.010141988284885883,
          0.022312372922897335,
          0.014198782853782175,
          0.038539554923772805,
          0.04462474584579468,
          0.06085192784667015,
          0.06896551698446274,
          0.09939148277044296,
          0.10141988098621368,
          0.11561866104602812,
          0.10750506818294524,
          0.1135902628302574,
          0.10547666996717452,
          0.11764705926179884,
          0.10953346639871596,
          0.11156186461448668,
          0.1034482792019844,
          0.11156186461448668,
          0.10750506818294524,
          0.11156186461448668,
          0.1034482792019844,
          0.10953346639871596,
          0.10953346639871596,
          0.1135902628302574,
          0.10547666996717452,
          0.1135902628302574,
          0.10547666996717452,
          0.11967545747756958,
          0.11561866104602812,
          0.1298174411058426,
          0.14401622116565704,
          0.16227181255817413,
          0.1764705926179886,
          0.19472616910934448,
          0.18458418548107147,
          0.17241379618644714,
          0.1298174411058426,
          0.1318458467721939,
          0.1217038556933403,
          0.12373225390911102,
          0.11764705926179884,
          0.12373225390911102,
          0.11967545747756958,
          0.12373225390911102,
          0.10953346639871596,
          0.2352941185235977,
          0.5253549814224243,
          0.797160267829895,
          0.5415821671485901,
          0.10953346639871596,
          0.1034482792019844,
          0.12778905034065247,
          0.1318458467721939,
          0.1298174411058426,
          0.12373225390911102,
          0.12778905034065247,
          0.12373225390911102,
          0.1298174411058426,
          0.12778905034065247,
          0.13793103396892548,
          0,
          0,
          0,
          0,
          0,
          0,
          0,
          0,
          0,
          0,
          0,
          0,
          0,
          0,
          0,
          0,
          0,
          0,
          0,
          0,
          0,
          0,
          0,
          0,
          0,
          0,
          0,
          0,
          0,
          0,
          0,
          0,
          0,
          0,
          0,
          0,
          0,
          0,
          0,
          0,
          0,
          0,
          0,
          0,
          0,
          0,
          0,
          0,
          0,
          0,
          0,
          0,
          0,
          0,
          0,
          0,
          0,
          0,
          0,
          0,
          0,
          0,
          0,
          0,
          0,
          0,
          0,
          0,
          0,
          0,
          0,
          0,
          0,
          0,
          0,
          0,
          0,
          0,
          0,
          0,
          0,
          0,
          0,
          0,
          0,
          0,
          0,
          0,
          0,
          0,
          0,
          0,
          0,
          0,
          0,
          0,
          0,
          0,
          0,
          0,
          0,
          0,
          0,
          0,
          0
         ],
         "yaxis": "y"
        },
        {
         "hovertemplate": "Categorías=Fusión de Estimulación y Normal<br>Intervalos de Tiempo=%{x}<br>Amplitud (mV)=%{y}<extra></extra>",
         "legendgroup": "Fusión de Estimulación y Normal",
         "line": {
          "color": "#FFA15A",
          "dash": "solid"
         },
         "marker": {
          "symbol": "circle"
         },
         "mode": "lines",
         "name": "Fusión de Estimulación y Normal",
         "orientation": "v",
         "showlegend": true,
         "type": "scatter",
         "x": [
          0,
          1,
          2,
          3,
          4,
          5,
          6,
          7,
          8,
          9,
          10,
          11,
          12,
          13,
          14,
          15,
          16,
          17,
          18,
          19,
          20,
          21,
          22,
          23,
          24,
          25,
          26,
          27,
          28,
          29,
          30,
          31,
          32,
          33,
          34,
          35,
          36,
          37,
          38,
          39,
          40,
          41,
          42,
          43,
          44,
          45,
          46,
          47,
          48,
          49,
          50,
          51,
          52,
          53,
          54,
          55,
          56,
          57,
          58,
          59,
          60,
          61,
          62,
          63,
          64,
          65,
          66,
          67,
          68,
          69,
          70,
          71,
          72,
          73,
          74,
          75,
          76,
          77,
          78,
          79,
          80,
          81,
          82,
          83,
          84,
          85,
          86,
          87,
          88,
          89,
          90,
          91,
          92,
          93,
          94,
          95,
          96,
          97,
          98,
          99,
          100,
          101,
          102,
          103,
          104,
          105,
          106,
          107,
          108,
          109,
          110,
          111,
          112,
          113,
          114,
          115,
          116,
          117,
          118,
          119,
          120,
          121,
          122,
          123,
          124,
          125,
          126,
          127,
          128,
          129,
          130,
          131,
          132,
          133,
          134,
          135,
          136,
          137,
          138,
          139,
          140,
          141,
          142,
          143,
          144,
          145,
          146,
          147,
          148,
          149,
          150,
          151,
          152,
          153,
          154,
          155,
          156,
          157,
          158,
          159,
          160,
          161,
          162,
          163,
          164,
          165,
          166,
          167,
          168,
          169,
          170,
          171,
          172,
          173,
          174,
          175,
          176,
          177,
          178,
          179,
          180,
          181,
          182,
          183,
          184,
          185,
          186
         ],
         "xaxis": "x",
         "y": [
          1,
          0.4848484992980957,
          0.5416666865348816,
          0.5265151262283325,
          0.5227272510528564,
          0.5075757503509521,
          0.4962121248245239,
          0.41287878155708313,
          0.28409090638160706,
          0.1401515156030655,
          0,
          0.08712121099233627,
          0.10606060922145844,
          0.11363636702299118,
          0.14772726595401764,
          0.2083333283662796,
          0.17045454680919647,
          0.16287878155708313,
          0.17424242198467255,
          0.1818181872367859,
          0.18939393758773804,
          0.185606062412262,
          0.19318181276321408,
          0.1818181872367859,
          0.185606062412262,
          0.1818181872367859,
          0.18939393758773804,
          0.17424242198467255,
          0.19318181276321408,
          0.1818181872367859,
          0.185606062412262,
          0.19696970283985135,
          0.2083333283662796,
          0.21590909361839292,
          0.23863635957241056,
          0.2537878751754761,
          0.26893940567970276,
          0.2916666567325592,
          0.3030303120613098,
          0.310606062412262,
          0.3333333432674408,
          0.3484848439693451,
          0.344696968793869,
          0.3333333432674408,
          0.3333333432674408,
          0.31818181276321406,
          0.2954545319080353,
          0.29924243688583374,
          0.28409090638160706,
          0.2765151560306549,
          0.26893940567970276,
          0.2575757503509521,
          0.25,
          0.2575757503509521,
          0.2575757503509521,
          0.24242424964904785,
          0.26893940567970276,
          0.26893940567970276,
          0.2651515007019043,
          0.28409090638160706,
          0.27272728085517883,
          0.24621212482452393,
          0.2575757503509521,
          0.25,
          0.24621212482452393,
          0.21590909361839292,
          0.21590909361839292,
          0.219696968793869,
          0.219696968793869,
          0.2083333283662796,
          0.19696970283985135,
          0.19318181276321408,
          0.185606062412262,
          0.1818181872367859,
          0.1818181872367859,
          0.18939393758773804,
          0.18939393758773804,
          0.19318181276321408,
          0.19318181276321408,
          0.17045454680919647,
          0.17803029716014862,
          0.1818181872367859,
          0.17045454680919647,
          0.17424242198467255,
          0.1818181872367859,
          0.1818181872367859,
          0.20075757801532745,
          0.185606062412262,
          0.1818181872367859,
          0.185606062412262,
          0.185606062412262,
          0.18939393758773804,
          0.19696970283985135,
          0.185606062412262,
          0.2083333283662796,
          0.2083333283662796,
          0.2234848439693451,
          0.28409090638160706,
          0.6553030014038086,
          0.9431818127632141,
          0.4924242496490479,
          0.5530303120613098,
          0.5530303120613098,
          0.564393937587738,
          0.5151515007019042,
          0.5265151262283325,
          0.5189393758773804,
          0.4507575631141663,
          0.34090909361839294,
          0.15530303120613098,
          0.1666666716337204,
          0.18939393758773804,
          0.1401515156030655,
          0.10227272659540176,
          0.11363636702299118,
          0.11363636702299118,
          0.12878787517547607,
          0.125,
          0.09090909361839294,
          0,
          0,
          0,
          0,
          0,
          0,
          0,
          0,
          0,
          0,
          0,
          0,
          0,
          0,
          0,
          0,
          0,
          0,
          0,
          0,
          0,
          0,
          0,
          0,
          0,
          0,
          0,
          0,
          0,
          0,
          0,
          0,
          0,
          0,
          0,
          0,
          0,
          0,
          0,
          0,
          0,
          0,
          0,
          0,
          0,
          0,
          0,
          0,
          0,
          0,
          0,
          0,
          0,
          0,
          0,
          0,
          0,
          0,
          0,
          0,
          0,
          0,
          0,
          0,
          0,
          0,
          0,
          0
         ],
         "yaxis": "y"
        }
       ],
       "layout": {
        "height": 500,
        "legend": {
         "title": {
          "text": "Categorías"
         },
         "tracegroupgap": 0
        },
        "template": {
         "data": {
          "bar": [
           {
            "error_x": {
             "color": "#2a3f5f"
            },
            "error_y": {
             "color": "#2a3f5f"
            },
            "marker": {
             "line": {
              "color": "#E5ECF6",
              "width": 0.5
             },
             "pattern": {
              "fillmode": "overlay",
              "size": 10,
              "solidity": 0.2
             }
            },
            "type": "bar"
           }
          ],
          "barpolar": [
           {
            "marker": {
             "line": {
              "color": "#E5ECF6",
              "width": 0.5
             },
             "pattern": {
              "fillmode": "overlay",
              "size": 10,
              "solidity": 0.2
             }
            },
            "type": "barpolar"
           }
          ],
          "carpet": [
           {
            "aaxis": {
             "endlinecolor": "#2a3f5f",
             "gridcolor": "white",
             "linecolor": "white",
             "minorgridcolor": "white",
             "startlinecolor": "#2a3f5f"
            },
            "baxis": {
             "endlinecolor": "#2a3f5f",
             "gridcolor": "white",
             "linecolor": "white",
             "minorgridcolor": "white",
             "startlinecolor": "#2a3f5f"
            },
            "type": "carpet"
           }
          ],
          "choropleth": [
           {
            "colorbar": {
             "outlinewidth": 0,
             "ticks": ""
            },
            "type": "choropleth"
           }
          ],
          "contour": [
           {
            "colorbar": {
             "outlinewidth": 0,
             "ticks": ""
            },
            "colorscale": [
             [
              0,
              "#0d0887"
             ],
             [
              0.1111111111111111,
              "#46039f"
             ],
             [
              0.2222222222222222,
              "#7201a8"
             ],
             [
              0.3333333333333333,
              "#9c179e"
             ],
             [
              0.4444444444444444,
              "#bd3786"
             ],
             [
              0.5555555555555556,
              "#d8576b"
             ],
             [
              0.6666666666666666,
              "#ed7953"
             ],
             [
              0.7777777777777778,
              "#fb9f3a"
             ],
             [
              0.8888888888888888,
              "#fdca26"
             ],
             [
              1,
              "#f0f921"
             ]
            ],
            "type": "contour"
           }
          ],
          "contourcarpet": [
           {
            "colorbar": {
             "outlinewidth": 0,
             "ticks": ""
            },
            "type": "contourcarpet"
           }
          ],
          "heatmap": [
           {
            "colorbar": {
             "outlinewidth": 0,
             "ticks": ""
            },
            "colorscale": [
             [
              0,
              "#0d0887"
             ],
             [
              0.1111111111111111,
              "#46039f"
             ],
             [
              0.2222222222222222,
              "#7201a8"
             ],
             [
              0.3333333333333333,
              "#9c179e"
             ],
             [
              0.4444444444444444,
              "#bd3786"
             ],
             [
              0.5555555555555556,
              "#d8576b"
             ],
             [
              0.6666666666666666,
              "#ed7953"
             ],
             [
              0.7777777777777778,
              "#fb9f3a"
             ],
             [
              0.8888888888888888,
              "#fdca26"
             ],
             [
              1,
              "#f0f921"
             ]
            ],
            "type": "heatmap"
           }
          ],
          "heatmapgl": [
           {
            "colorbar": {
             "outlinewidth": 0,
             "ticks": ""
            },
            "colorscale": [
             [
              0,
              "#0d0887"
             ],
             [
              0.1111111111111111,
              "#46039f"
             ],
             [
              0.2222222222222222,
              "#7201a8"
             ],
             [
              0.3333333333333333,
              "#9c179e"
             ],
             [
              0.4444444444444444,
              "#bd3786"
             ],
             [
              0.5555555555555556,
              "#d8576b"
             ],
             [
              0.6666666666666666,
              "#ed7953"
             ],
             [
              0.7777777777777778,
              "#fb9f3a"
             ],
             [
              0.8888888888888888,
              "#fdca26"
             ],
             [
              1,
              "#f0f921"
             ]
            ],
            "type": "heatmapgl"
           }
          ],
          "histogram": [
           {
            "marker": {
             "pattern": {
              "fillmode": "overlay",
              "size": 10,
              "solidity": 0.2
             }
            },
            "type": "histogram"
           }
          ],
          "histogram2d": [
           {
            "colorbar": {
             "outlinewidth": 0,
             "ticks": ""
            },
            "colorscale": [
             [
              0,
              "#0d0887"
             ],
             [
              0.1111111111111111,
              "#46039f"
             ],
             [
              0.2222222222222222,
              "#7201a8"
             ],
             [
              0.3333333333333333,
              "#9c179e"
             ],
             [
              0.4444444444444444,
              "#bd3786"
             ],
             [
              0.5555555555555556,
              "#d8576b"
             ],
             [
              0.6666666666666666,
              "#ed7953"
             ],
             [
              0.7777777777777778,
              "#fb9f3a"
             ],
             [
              0.8888888888888888,
              "#fdca26"
             ],
             [
              1,
              "#f0f921"
             ]
            ],
            "type": "histogram2d"
           }
          ],
          "histogram2dcontour": [
           {
            "colorbar": {
             "outlinewidth": 0,
             "ticks": ""
            },
            "colorscale": [
             [
              0,
              "#0d0887"
             ],
             [
              0.1111111111111111,
              "#46039f"
             ],
             [
              0.2222222222222222,
              "#7201a8"
             ],
             [
              0.3333333333333333,
              "#9c179e"
             ],
             [
              0.4444444444444444,
              "#bd3786"
             ],
             [
              0.5555555555555556,
              "#d8576b"
             ],
             [
              0.6666666666666666,
              "#ed7953"
             ],
             [
              0.7777777777777778,
              "#fb9f3a"
             ],
             [
              0.8888888888888888,
              "#fdca26"
             ],
             [
              1,
              "#f0f921"
             ]
            ],
            "type": "histogram2dcontour"
           }
          ],
          "mesh3d": [
           {
            "colorbar": {
             "outlinewidth": 0,
             "ticks": ""
            },
            "type": "mesh3d"
           }
          ],
          "parcoords": [
           {
            "line": {
             "colorbar": {
              "outlinewidth": 0,
              "ticks": ""
             }
            },
            "type": "parcoords"
           }
          ],
          "pie": [
           {
            "automargin": true,
            "type": "pie"
           }
          ],
          "scatter": [
           {
            "fillpattern": {
             "fillmode": "overlay",
             "size": 10,
             "solidity": 0.2
            },
            "type": "scatter"
           }
          ],
          "scatter3d": [
           {
            "line": {
             "colorbar": {
              "outlinewidth": 0,
              "ticks": ""
             }
            },
            "marker": {
             "colorbar": {
              "outlinewidth": 0,
              "ticks": ""
             }
            },
            "type": "scatter3d"
           }
          ],
          "scattercarpet": [
           {
            "marker": {
             "colorbar": {
              "outlinewidth": 0,
              "ticks": ""
             }
            },
            "type": "scattercarpet"
           }
          ],
          "scattergeo": [
           {
            "marker": {
             "colorbar": {
              "outlinewidth": 0,
              "ticks": ""
             }
            },
            "type": "scattergeo"
           }
          ],
          "scattergl": [
           {
            "marker": {
             "colorbar": {
              "outlinewidth": 0,
              "ticks": ""
             }
            },
            "type": "scattergl"
           }
          ],
          "scattermapbox": [
           {
            "marker": {
             "colorbar": {
              "outlinewidth": 0,
              "ticks": ""
             }
            },
            "type": "scattermapbox"
           }
          ],
          "scatterpolar": [
           {
            "marker": {
             "colorbar": {
              "outlinewidth": 0,
              "ticks": ""
             }
            },
            "type": "scatterpolar"
           }
          ],
          "scatterpolargl": [
           {
            "marker": {
             "colorbar": {
              "outlinewidth": 0,
              "ticks": ""
             }
            },
            "type": "scatterpolargl"
           }
          ],
          "scatterternary": [
           {
            "marker": {
             "colorbar": {
              "outlinewidth": 0,
              "ticks": ""
             }
            },
            "type": "scatterternary"
           }
          ],
          "surface": [
           {
            "colorbar": {
             "outlinewidth": 0,
             "ticks": ""
            },
            "colorscale": [
             [
              0,
              "#0d0887"
             ],
             [
              0.1111111111111111,
              "#46039f"
             ],
             [
              0.2222222222222222,
              "#7201a8"
             ],
             [
              0.3333333333333333,
              "#9c179e"
             ],
             [
              0.4444444444444444,
              "#bd3786"
             ],
             [
              0.5555555555555556,
              "#d8576b"
             ],
             [
              0.6666666666666666,
              "#ed7953"
             ],
             [
              0.7777777777777778,
              "#fb9f3a"
             ],
             [
              0.8888888888888888,
              "#fdca26"
             ],
             [
              1,
              "#f0f921"
             ]
            ],
            "type": "surface"
           }
          ],
          "table": [
           {
            "cells": {
             "fill": {
              "color": "#EBF0F8"
             },
             "line": {
              "color": "white"
             }
            },
            "header": {
             "fill": {
              "color": "#C8D4E3"
             },
             "line": {
              "color": "white"
             }
            },
            "type": "table"
           }
          ]
         },
         "layout": {
          "annotationdefaults": {
           "arrowcolor": "#2a3f5f",
           "arrowhead": 0,
           "arrowwidth": 1
          },
          "autotypenumbers": "strict",
          "coloraxis": {
           "colorbar": {
            "outlinewidth": 0,
            "ticks": ""
           }
          },
          "colorscale": {
           "diverging": [
            [
             0,
             "#8e0152"
            ],
            [
             0.1,
             "#c51b7d"
            ],
            [
             0.2,
             "#de77ae"
            ],
            [
             0.3,
             "#f1b6da"
            ],
            [
             0.4,
             "#fde0ef"
            ],
            [
             0.5,
             "#f7f7f7"
            ],
            [
             0.6,
             "#e6f5d0"
            ],
            [
             0.7,
             "#b8e186"
            ],
            [
             0.8,
             "#7fbc41"
            ],
            [
             0.9,
             "#4d9221"
            ],
            [
             1,
             "#276419"
            ]
           ],
           "sequential": [
            [
             0,
             "#0d0887"
            ],
            [
             0.1111111111111111,
             "#46039f"
            ],
            [
             0.2222222222222222,
             "#7201a8"
            ],
            [
             0.3333333333333333,
             "#9c179e"
            ],
            [
             0.4444444444444444,
             "#bd3786"
            ],
            [
             0.5555555555555556,
             "#d8576b"
            ],
            [
             0.6666666666666666,
             "#ed7953"
            ],
            [
             0.7777777777777778,
             "#fb9f3a"
            ],
            [
             0.8888888888888888,
             "#fdca26"
            ],
            [
             1,
             "#f0f921"
            ]
           ],
           "sequentialminus": [
            [
             0,
             "#0d0887"
            ],
            [
             0.1111111111111111,
             "#46039f"
            ],
            [
             0.2222222222222222,
             "#7201a8"
            ],
            [
             0.3333333333333333,
             "#9c179e"
            ],
            [
             0.4444444444444444,
             "#bd3786"
            ],
            [
             0.5555555555555556,
             "#d8576b"
            ],
            [
             0.6666666666666666,
             "#ed7953"
            ],
            [
             0.7777777777777778,
             "#fb9f3a"
            ],
            [
             0.8888888888888888,
             "#fdca26"
            ],
            [
             1,
             "#f0f921"
            ]
           ]
          },
          "colorway": [
           "#636efa",
           "#EF553B",
           "#00cc96",
           "#ab63fa",
           "#FFA15A",
           "#19d3f3",
           "#FF6692",
           "#B6E880",
           "#FF97FF",
           "#FECB52"
          ],
          "font": {
           "color": "#2a3f5f"
          },
          "geo": {
           "bgcolor": "white",
           "lakecolor": "white",
           "landcolor": "#E5ECF6",
           "showlakes": true,
           "showland": true,
           "subunitcolor": "white"
          },
          "hoverlabel": {
           "align": "left"
          },
          "hovermode": "closest",
          "mapbox": {
           "style": "light"
          },
          "paper_bgcolor": "white",
          "plot_bgcolor": "#E5ECF6",
          "polar": {
           "angularaxis": {
            "gridcolor": "white",
            "linecolor": "white",
            "ticks": ""
           },
           "bgcolor": "#E5ECF6",
           "radialaxis": {
            "gridcolor": "white",
            "linecolor": "white",
            "ticks": ""
           }
          },
          "scene": {
           "xaxis": {
            "backgroundcolor": "#E5ECF6",
            "gridcolor": "white",
            "gridwidth": 2,
            "linecolor": "white",
            "showbackground": true,
            "ticks": "",
            "zerolinecolor": "white"
           },
           "yaxis": {
            "backgroundcolor": "#E5ECF6",
            "gridcolor": "white",
            "gridwidth": 2,
            "linecolor": "white",
            "showbackground": true,
            "ticks": "",
            "zerolinecolor": "white"
           },
           "zaxis": {
            "backgroundcolor": "#E5ECF6",
            "gridcolor": "white",
            "gridwidth": 2,
            "linecolor": "white",
            "showbackground": true,
            "ticks": "",
            "zerolinecolor": "white"
           }
          },
          "shapedefaults": {
           "line": {
            "color": "#2a3f5f"
           }
          },
          "ternary": {
           "aaxis": {
            "gridcolor": "white",
            "linecolor": "white",
            "ticks": ""
           },
           "baxis": {
            "gridcolor": "white",
            "linecolor": "white",
            "ticks": ""
           },
           "bgcolor": "#E5ECF6",
           "caxis": {
            "gridcolor": "white",
            "linecolor": "white",
            "ticks": ""
           }
          },
          "title": {
           "x": 0.05
          },
          "xaxis": {
           "automargin": true,
           "gridcolor": "white",
           "linecolor": "white",
           "ticks": "",
           "title": {
            "standoff": 15
           },
           "zerolinecolor": "white",
           "zerolinewidth": 2
          },
          "yaxis": {
           "automargin": true,
           "gridcolor": "white",
           "linecolor": "white",
           "ticks": "",
           "title": {
            "standoff": 15
           },
           "zerolinecolor": "white",
           "zerolinewidth": 2
          }
         }
        },
        "title": {
         "text": "Una Señal ECG de Cada Categoría",
         "x": 0.25
        },
        "width": 1000,
        "xaxis": {
         "anchor": "y",
         "domain": [
          0,
          1
         ],
         "title": {
          "text": "Intervalos de Tiempo"
         }
        },
        "yaxis": {
         "anchor": "x",
         "domain": [
          0,
          1
         ],
         "title": {
          "text": "Amplitud (mV)"
         }
        }
       }
      }
     },
     "metadata": {},
     "output_type": "display_data"
    }
   ],
   "source": [
    "train_data = pd.read_csv('MIT-BIH/mitbih_train.csv', header=None)           # Cargar datos desde el archivo CSV\n",
    "\n",
    "# Extraer señales representativas usando los parámetros actuales\n",
    "ecg_0 = train_data.loc[train_data[187] == 0, :].iloc[1, :187]               \n",
    "ecg_1 = train_data.loc[train_data[187] == 1, :].iloc[1, :187]               \n",
    "ecg_2 = train_data.loc[train_data[187] == 2, :].iloc[1, :187]              \n",
    "ecg_3 = train_data.loc[train_data[187] == 3, :].iloc[1, :187]               \n",
    "ecg_4 = train_data.loc[train_data[187] == 4, :].iloc[1, :187]               \n",
    "\n",
    "# Crear un DataFrame con las señales\n",
    "ecg_df = pd.DataFrame({\n",
    "    'Normal': ecg_0,\n",
    "    'Prematura Auricular': ecg_1,\n",
    "    'Contracción Ventricular Prematura': ecg_2,\n",
    "    'Fusión de Ventricular y Normal': ecg_3,\n",
    "    'Fusión de Estimulación y Normal': ecg_4\n",
    "})\n",
    "\n",
    "# Graficar con Plotly\n",
    "ecg_plot = px.line(\n",
    "    ecg_df,\n",
    "    labels={'index': 'Intervalos de Tiempo', 'value': 'Amplitud (mV)', 'variable': 'Categorías'},\n",
    "    title=\"Una Señal ECG de Cada Categoría\"\n",
    ")\n",
    "\n",
    "ecg_plot.update_layout(title_x=0.25, width=1000, height=500)                # Configurar diseño de la gráfica\n",
    "\n",
    "ecg_plot.show()                                                             # Mostrar gráfica"
   ]
  },
  {
   "cell_type": "code",
   "execution_count": 6,
   "metadata": {},
   "outputs": [
    {
     "data": {
      "application/vnd.plotly.v1+json": {
       "config": {
        "plotlyServerURL": "https://plot.ly"
       },
       "data": [
        {
         "hovertemplate": "Categorías=Normal<br>Intervalos de Tiempo=%{x}<br>Amplitud (mV)=%{y}<extra></extra>",
         "legendgroup": "Normal",
         "line": {
          "color": "#636efa",
          "dash": "solid"
         },
         "marker": {
          "symbol": "circle"
         },
         "mode": "lines",
         "name": "Normal",
         "orientation": "v",
         "showlegend": true,
         "type": "scatter",
         "x": [
          0,
          1,
          2,
          3,
          4,
          5,
          6,
          7,
          8,
          9,
          10,
          11,
          12,
          13,
          14,
          15,
          16,
          17,
          18,
          19,
          20,
          21,
          22,
          23,
          24,
          25,
          26,
          27,
          28,
          29,
          30,
          31,
          32,
          33,
          34,
          35,
          36,
          37,
          38,
          39,
          40,
          41,
          42,
          43,
          44,
          45,
          46,
          47,
          48,
          49,
          50,
          51,
          52,
          53,
          54,
          55,
          56,
          57,
          58,
          59,
          60,
          61,
          62,
          63,
          64,
          65,
          66,
          67,
          68,
          69,
          70,
          71,
          72,
          73,
          74,
          75,
          76,
          77,
          78,
          79,
          80,
          81,
          82,
          83,
          84,
          85,
          86,
          87,
          88,
          89,
          90,
          91,
          92,
          93,
          94,
          95,
          96,
          97,
          98,
          99,
          100,
          101,
          102,
          103,
          104,
          105,
          106,
          107,
          108,
          109,
          110,
          111,
          112,
          113,
          114,
          115,
          116,
          117,
          118,
          119,
          120,
          121,
          122,
          123,
          124,
          125,
          126,
          127,
          128,
          129,
          130,
          131,
          132,
          133,
          134,
          135,
          136,
          137,
          138,
          139,
          140,
          141,
          142,
          143,
          144,
          145,
          146,
          147,
          148,
          149,
          150,
          151,
          152,
          153,
          154,
          155,
          156,
          157,
          158,
          159,
          160,
          161,
          162,
          163,
          164,
          165,
          166,
          167,
          168,
          169,
          170,
          171,
          172,
          173,
          174,
          175,
          176,
          177,
          178,
          179,
          180,
          181,
          182,
          183,
          184,
          185,
          186
         ],
         "xaxis": "x",
         "y": [
          0.9084249138832092,
          0.7838827967643738,
          0.5311355590820312,
          0.3626373708248138,
          0.36630037426948553,
          0.3443223536014557,
          0.3333333432674408,
          0.3076923191547394,
          0.2967033088207245,
          0.30036631226539606,
          0.3040293157100677,
          0.3369963467121124,
          0.3772893846035004,
          0.3919413983821869,
          0.4395604431629181,
          0.44688645005226135,
          0.45787546038627613,
          0.479853481054306,
          0.512820541858673,
          0.5347985625267029,
          0.5860806107521057,
          0.5860806107521057,
          0.6043956279754639,
          0.6336996555328369,
          0.6153846383094788,
          0.5824176073074341,
          0.5641025900840759,
          0.5201465487480164,
          0.49084249138832087,
          0.49084249138832087,
          0.46886447072029114,
          0.4542124569416046,
          0.450549453496933,
          0.4652014672756195,
          0.450549453496933,
          0.4322344362735748,
          0.4249084293842316,
          0.41025641560554493,
          0.3919413983821869,
          0.3699633777141571,
          0.37362638115882874,
          0.36630037426948553,
          0.3186813294887543,
          0.311355322599411,
          0.32600733637809753,
          0.311355322599411,
          0.31501832604408264,
          0.3223443329334259,
          0.3443223536014557,
          0.3443223536014557,
          0.3333333432674408,
          0.3040293157100677,
          0.3076923191547394,
          0.282051295042038,
          0.27106228470802307,
          0.2857142984867096,
          0.2637362778186798,
          0.2747252881526947,
          0.282051295042038,
          0.26739928126335144,
          0.27838829159736633,
          0.2893773019313812,
          0.29304030537605286,
          0.2893773019313812,
          0.2893773019313812,
          0.2893773019313812,
          0.29304030537605286,
          0.282051295042038,
          0.26739928126335144,
          0.2564102709293365,
          0.25274726748466486,
          0.2161172181367874,
          0.22344322502613068,
          0.2380952388048172,
          0.2161172181367874,
          0.26739928126335144,
          0.4175824224948883,
          0.5824176073074341,
          0.6153846383094788,
          0.622710645198822,
          0.761904776096344,
          0.8644688725471495,
          1,
          0.9084249138832092,
          0.6739926934242249,
          0.31501832604408264,
          0.1538461595773697,
          0.1208791211247444,
          0.09890110045671464,
          0.04395604506134986,
          0.02197802253067493,
          0.02197802253067493,
          0.0293040294200182,
          0,
          0.010989011265337467,
          0.0293040294200182,
          0.014652014710009098,
          0.02197802253067493,
          0.04395604506134986,
          0.08791209012269972,
          0,
          0,
          0,
          0,
          0,
          0,
          0,
          0,
          0,
          0,
          0,
          0,
          0,
          0,
          0,
          0,
          0,
          0,
          0,
          0,
          0,
          0,
          0,
          0,
          0,
          0,
          0,
          0,
          0,
          0,
          0,
          0,
          0,
          0,
          0,
          0,
          0,
          0,
          0,
          0,
          0,
          0,
          0,
          0,
          0,
          0,
          0,
          0,
          0,
          0,
          0,
          0,
          0,
          0,
          0,
          0,
          0,
          0,
          0,
          0,
          0,
          0,
          0,
          0,
          0,
          0,
          0,
          0,
          0,
          0,
          0,
          0,
          0,
          0,
          0,
          0,
          0,
          0,
          0,
          0,
          0,
          0,
          0,
          0,
          0,
          0,
          0
         ],
         "yaxis": "y"
        },
        {
         "hovertemplate": "Categorías=Prematura Auricular<br>Intervalos de Tiempo=%{x}<br>Amplitud (mV)=%{y}<extra></extra>",
         "legendgroup": "Prematura Auricular",
         "line": {
          "color": "#EF553B",
          "dash": "solid"
         },
         "marker": {
          "symbol": "circle"
         },
         "mode": "lines",
         "name": "Prematura Auricular",
         "orientation": "v",
         "showlegend": true,
         "type": "scatter",
         "x": [
          0,
          1,
          2,
          3,
          4,
          5,
          6,
          7,
          8,
          9,
          10,
          11,
          12,
          13,
          14,
          15,
          16,
          17,
          18,
          19,
          20,
          21,
          22,
          23,
          24,
          25,
          26,
          27,
          28,
          29,
          30,
          31,
          32,
          33,
          34,
          35,
          36,
          37,
          38,
          39,
          40,
          41,
          42,
          43,
          44,
          45,
          46,
          47,
          48,
          49,
          50,
          51,
          52,
          53,
          54,
          55,
          56,
          57,
          58,
          59,
          60,
          61,
          62,
          63,
          64,
          65,
          66,
          67,
          68,
          69,
          70,
          71,
          72,
          73,
          74,
          75,
          76,
          77,
          78,
          79,
          80,
          81,
          82,
          83,
          84,
          85,
          86,
          87,
          88,
          89,
          90,
          91,
          92,
          93,
          94,
          95,
          96,
          97,
          98,
          99,
          100,
          101,
          102,
          103,
          104,
          105,
          106,
          107,
          108,
          109,
          110,
          111,
          112,
          113,
          114,
          115,
          116,
          117,
          118,
          119,
          120,
          121,
          122,
          123,
          124,
          125,
          126,
          127,
          128,
          129,
          130,
          131,
          132,
          133,
          134,
          135,
          136,
          137,
          138,
          139,
          140,
          141,
          142,
          143,
          144,
          145,
          146,
          147,
          148,
          149,
          150,
          151,
          152,
          153,
          154,
          155,
          156,
          157,
          158,
          159,
          160,
          161,
          162,
          163,
          164,
          165,
          166,
          167,
          168,
          169,
          170,
          171,
          172,
          173,
          174,
          175,
          176,
          177,
          178,
          179,
          180,
          181,
          182,
          183,
          184,
          185,
          186
         ],
         "xaxis": "x",
         "y": [
          1,
          0.7465564608573914,
          0.08815427124500273,
          0.03581267222762108,
          0.21212121844291687,
          0.25344353914260864,
          0.26997244358062744,
          0.2837465703487396,
          0.27548208832740784,
          0.27272728085517883,
          0.2782369256019592,
          0.2837465703487396,
          0.2975206673145294,
          0.28925618529319763,
          0.3002754747867584,
          0.3168044090270996,
          0.3112947642803192,
          0.3305785059928894,
          0.352617084980011,
          0.3691460192203522,
          0.382920116186142,
          0.39118456840515137,
          0.4214875996112824,
          0.42424243688583374,
          0.4462809860706329,
          0.4407713413238525,
          0.4517906308174133,
          0.43801653385162354,
          0.42699724435806274,
          0.40220385789871216,
          0.3608815371990204,
          0.34159779548645014,
          0.3278236985206604,
          0.3168044090270996,
          0.28925618529319763,
          0.2782369256019592,
          0.28099173307418823,
          0.26721763610839844,
          0.26997244358062744,
          0.2837465703487396,
          0.2837465703487396,
          0.2837465703487396,
          0.3030303120613098,
          0.3030303120613098,
          0.3057851195335388,
          0.3057851195335388,
          0.3112947642803192,
          0.3085399568080902,
          0.3002754747867584,
          0.292011022567749,
          0.292011022567749,
          0.28099173307418823,
          0.2782369256019592,
          0.28925618529319763,
          0.28925618529319763,
          0.26721763610839844,
          0.28650137782096863,
          0.27272728085517883,
          0.3002754747867584,
          0.3140496015548706,
          0.3112947642803192,
          0.32231405377388,
          0.3112947642803192,
          0.3168044090270996,
          0.3085399568080902,
          0.2782369256019592,
          0.3030303120613098,
          0.3057851195335388,
          0.28925618529319763,
          0.26170799136161804,
          0.25895315408706665,
          0.26997244358062744,
          0.27272728085517883,
          0.26721763610839844,
          0.26997244358062744,
          0.27272728085517883,
          0.25619834661483765,
          0.3168044090270996,
          0.5647382736206055,
          0.9504132270812988,
          0.9008264541625975,
          0.20936639606952667,
          0,
          0.1487603336572647,
          0.21487602591514587,
          0.24517905712127683,
          0.26721763610839844,
          0.25895315408706665,
          0.25895315408706665,
          0.25068870186805725,
          0.26170799136161804,
          0.26721763610839844,
          0.26997244358062744,
          0.28650137782096863,
          0.3057851195335388,
          0,
          0,
          0,
          0,
          0,
          0,
          0,
          0,
          0,
          0,
          0,
          0,
          0,
          0,
          0,
          0,
          0,
          0,
          0,
          0,
          0,
          0,
          0,
          0,
          0,
          0,
          0,
          0,
          0,
          0,
          0,
          0,
          0,
          0,
          0,
          0,
          0,
          0,
          0,
          0,
          0,
          0,
          0,
          0,
          0,
          0,
          0,
          0,
          0,
          0,
          0,
          0,
          0,
          0,
          0,
          0,
          0,
          0,
          0,
          0,
          0,
          0,
          0,
          0,
          0,
          0,
          0,
          0,
          0,
          0,
          0,
          0,
          0,
          0,
          0,
          0,
          0,
          0,
          0,
          0,
          0,
          0,
          0,
          0,
          0,
          0,
          0,
          0,
          0,
          0,
          0,
          0
         ],
         "yaxis": "y"
        },
        {
         "hovertemplate": "Categorías=Contracción Ventricular Prematura<br>Intervalos de Tiempo=%{x}<br>Amplitud (mV)=%{y}<extra></extra>",
         "legendgroup": "Contracción Ventricular Prematura",
         "line": {
          "color": "#00cc96",
          "dash": "solid"
         },
         "marker": {
          "symbol": "circle"
         },
         "mode": "lines",
         "name": "Contracción Ventricular Prematura",
         "orientation": "v",
         "showlegend": true,
         "type": "scatter",
         "x": [
          0,
          1,
          2,
          3,
          4,
          5,
          6,
          7,
          8,
          9,
          10,
          11,
          12,
          13,
          14,
          15,
          16,
          17,
          18,
          19,
          20,
          21,
          22,
          23,
          24,
          25,
          26,
          27,
          28,
          29,
          30,
          31,
          32,
          33,
          34,
          35,
          36,
          37,
          38,
          39,
          40,
          41,
          42,
          43,
          44,
          45,
          46,
          47,
          48,
          49,
          50,
          51,
          52,
          53,
          54,
          55,
          56,
          57,
          58,
          59,
          60,
          61,
          62,
          63,
          64,
          65,
          66,
          67,
          68,
          69,
          70,
          71,
          72,
          73,
          74,
          75,
          76,
          77,
          78,
          79,
          80,
          81,
          82,
          83,
          84,
          85,
          86,
          87,
          88,
          89,
          90,
          91,
          92,
          93,
          94,
          95,
          96,
          97,
          98,
          99,
          100,
          101,
          102,
          103,
          104,
          105,
          106,
          107,
          108,
          109,
          110,
          111,
          112,
          113,
          114,
          115,
          116,
          117,
          118,
          119,
          120,
          121,
          122,
          123,
          124,
          125,
          126,
          127,
          128,
          129,
          130,
          131,
          132,
          133,
          134,
          135,
          136,
          137,
          138,
          139,
          140,
          141,
          142,
          143,
          144,
          145,
          146,
          147,
          148,
          149,
          150,
          151,
          152,
          153,
          154,
          155,
          156,
          157,
          158,
          159,
          160,
          161,
          162,
          163,
          164,
          165,
          166,
          167,
          168,
          169,
          170,
          171,
          172,
          173,
          174,
          175,
          176,
          177,
          178,
          179,
          180,
          181,
          182,
          183,
          184,
          185,
          186
         ],
         "xaxis": "x",
         "y": [
          1,
          0.901785731315613,
          0.7607142925262451,
          0.6107142567634584,
          0.4660714268684387,
          0.3857142925262451,
          0.3642857074737549,
          0.3464285731315613,
          0.3142857253551483,
          0.3053571283817291,
          0.3089285790920257,
          0.3053571283817291,
          0.29107141494750977,
          0.2857142984867096,
          0.2839285731315613,
          0.27142858505249023,
          0.2553571462631225,
          0.26428571343421936,
          0.2607142925262451,
          0.2517857253551483,
          0.2410714328289032,
          0.22678571939468384,
          0.21785713732242584,
          0.20000000298023224,
          0.17321428656578064,
          0.16428571939468384,
          0.1607142835855484,
          0.15535713732242584,
          0.14107142388820648,
          0.14464285969734192,
          0.15535713732242584,
          0.16785714030265808,
          0.17499999701976776,
          0.19285714626312253,
          0.2232142835855484,
          0.2517857253551483,
          0.2553571462631225,
          0.2767857015132904,
          0.3107142746448517,
          0.3232142925262451,
          0.3232142925262451,
          0.32678571343421936,
          0.34285715222358704,
          0.3464285731315613,
          0.3392857015132904,
          0.34285715222358704,
          0.3482142984867096,
          0.3464285731315613,
          0.33571428060531616,
          0.33571428060531616,
          0.3392857015132904,
          0.3410714268684387,
          0.34285715222358704,
          0.3571428656578064,
          0.3589285612106323,
          0.3285714387893677,
          0.3089285790920257,
          0.36071428656578064,
          0.4553571343421936,
          0.4571428596973419,
          0.3660714328289032,
          0.2053571492433548,
          0.11428571492433548,
          0.04821428656578064,
          0,
          0.04107142984867096,
          0.10178571194410324,
          0.14642857015132904,
          0.1875,
          0.24642856419086456,
          0.3017857074737549,
          0.35178571939468384,
          0.3821428716182709,
          0.38749998807907104,
          0.39821428060531616,
          0.40714284777641296,
          0.40714284777641296,
          0.4107142984867096,
          0.4214285612106323,
          0,
          0,
          0,
          0,
          0,
          0,
          0,
          0,
          0,
          0,
          0,
          0,
          0,
          0,
          0,
          0,
          0,
          0,
          0,
          0,
          0,
          0,
          0,
          0,
          0,
          0,
          0,
          0,
          0,
          0,
          0,
          0,
          0,
          0,
          0,
          0,
          0,
          0,
          0,
          0,
          0,
          0,
          0,
          0,
          0,
          0,
          0,
          0,
          0,
          0,
          0,
          0,
          0,
          0,
          0,
          0,
          0,
          0,
          0,
          0,
          0,
          0,
          0,
          0,
          0,
          0,
          0,
          0,
          0,
          0,
          0,
          0,
          0,
          0,
          0,
          0,
          0,
          0,
          0,
          0,
          0,
          0,
          0,
          0,
          0,
          0,
          0,
          0,
          0,
          0,
          0,
          0,
          0,
          0,
          0,
          0,
          0,
          0,
          0,
          0,
          0,
          0,
          0,
          0,
          0,
          0,
          0,
          0
         ],
         "yaxis": "y"
        },
        {
         "hovertemplate": "Categorías=Fusión de Ventricular y Normal<br>Intervalos de Tiempo=%{x}<br>Amplitud (mV)=%{y}<extra></extra>",
         "legendgroup": "Fusión de Ventricular y Normal",
         "line": {
          "color": "#ab63fa",
          "dash": "solid"
         },
         "marker": {
          "symbol": "circle"
         },
         "mode": "lines",
         "name": "Fusión de Ventricular y Normal",
         "orientation": "v",
         "showlegend": true,
         "type": "scatter",
         "x": [
          0,
          1,
          2,
          3,
          4,
          5,
          6,
          7,
          8,
          9,
          10,
          11,
          12,
          13,
          14,
          15,
          16,
          17,
          18,
          19,
          20,
          21,
          22,
          23,
          24,
          25,
          26,
          27,
          28,
          29,
          30,
          31,
          32,
          33,
          34,
          35,
          36,
          37,
          38,
          39,
          40,
          41,
          42,
          43,
          44,
          45,
          46,
          47,
          48,
          49,
          50,
          51,
          52,
          53,
          54,
          55,
          56,
          57,
          58,
          59,
          60,
          61,
          62,
          63,
          64,
          65,
          66,
          67,
          68,
          69,
          70,
          71,
          72,
          73,
          74,
          75,
          76,
          77,
          78,
          79,
          80,
          81,
          82,
          83,
          84,
          85,
          86,
          87,
          88,
          89,
          90,
          91,
          92,
          93,
          94,
          95,
          96,
          97,
          98,
          99,
          100,
          101,
          102,
          103,
          104,
          105,
          106,
          107,
          108,
          109,
          110,
          111,
          112,
          113,
          114,
          115,
          116,
          117,
          118,
          119,
          120,
          121,
          122,
          123,
          124,
          125,
          126,
          127,
          128,
          129,
          130,
          131,
          132,
          133,
          134,
          135,
          136,
          137,
          138,
          139,
          140,
          141,
          142,
          143,
          144,
          145,
          146,
          147,
          148,
          149,
          150,
          151,
          152,
          153,
          154,
          155,
          156,
          157,
          158,
          159,
          160,
          161,
          162,
          163,
          164,
          165,
          166,
          167,
          168,
          169,
          170,
          171,
          172,
          173,
          174,
          175,
          176,
          177,
          178,
          179,
          180,
          181,
          182,
          183,
          184,
          185,
          186
         ],
         "xaxis": "x",
         "y": [
          1,
          0.7680251002311705,
          0.42006269097328186,
          0.15830720961093903,
          0,
          0.06739811599254608,
          0.13793103396892548,
          0.10815046727657318,
          0.08463949710130692,
          0.09717868268489836,
          0.08777429163455963,
          0.07210031151771545,
          0.07836990803480147,
          0.07680250704288481,
          0.07836990803480147,
          0.07993730157613754,
          0.08463949710130692,
          0.11285266280174255,
          0.11755485832691193,
          0.12695924937725067,
          0.15830720961093903,
          0.18965516984462735,
          0.2257053256034851,
          0.2601880729198456,
          0.3009404242038727,
          0.3432601988315582,
          0.3620689511299133,
          0.39655172824859614,
          0.4263322949409485,
          0.44357365369796753,
          0.4545454680919647,
          0.4482758641242981,
          0.44043886661529535,
          0.43887147307395935,
          0.4137931168079376,
          0.3934169411659241,
          0.369905948638916,
          0.352664589881897,
          0.3322884142398834,
          0.3009404242038727,
          0.2868338525295257,
          0.2852664589881897,
          0.2742946743965149,
          0.26802507042884827,
          0.277429461479187,
          0.3009404242038727,
          0.33855798840522766,
          0.3432601988315582,
          0.3589341640472412,
          0.369905948638916,
          0.32131659984588623,
          0.26489028334617615,
          0.23040752112865448,
          0.2319749146699905,
          0.24137930572032928,
          0.2210031300783157,
          0.22257053852081296,
          0.2288401275873184,
          0.22413793206214905,
          0.22257053852081296,
          0.20376175642013547,
          0.2962382435798645,
          0.5987460613250732,
          0.9341692924499512,
          0.9780564308166506,
          0.6943573951721193,
          0.3072100281715393,
          0.048589341342449195,
          0.06112852692604065,
          0.17241379618644714,
          0.1630094051361084,
          0.13166144490242004,
          0.14263322949409485,
          0.14733542501926422,
          0.1332288384437561,
          0.1300940364599228,
          0.13479623198509216,
          0,
          0,
          0,
          0,
          0,
          0,
          0,
          0,
          0,
          0,
          0,
          0,
          0,
          0,
          0,
          0,
          0,
          0,
          0,
          0,
          0,
          0,
          0,
          0,
          0,
          0,
          0,
          0,
          0,
          0,
          0,
          0,
          0,
          0,
          0,
          0,
          0,
          0,
          0,
          0,
          0,
          0,
          0,
          0,
          0,
          0,
          0,
          0,
          0,
          0,
          0,
          0,
          0,
          0,
          0,
          0,
          0,
          0,
          0,
          0,
          0,
          0,
          0,
          0,
          0,
          0,
          0,
          0,
          0,
          0,
          0,
          0,
          0,
          0,
          0,
          0,
          0,
          0,
          0,
          0,
          0,
          0,
          0,
          0,
          0,
          0,
          0,
          0,
          0,
          0,
          0,
          0,
          0,
          0,
          0,
          0,
          0,
          0,
          0,
          0,
          0,
          0,
          0,
          0,
          0,
          0,
          0,
          0,
          0,
          0
         ],
         "yaxis": "y"
        },
        {
         "hovertemplate": "Categorías=Fusión de Estimulación y Normal<br>Intervalos de Tiempo=%{x}<br>Amplitud (mV)=%{y}<extra></extra>",
         "legendgroup": "Fusión de Estimulación y Normal",
         "line": {
          "color": "#FFA15A",
          "dash": "solid"
         },
         "marker": {
          "symbol": "circle"
         },
         "mode": "lines",
         "name": "Fusión de Estimulación y Normal",
         "orientation": "v",
         "showlegend": true,
         "type": "scatter",
         "x": [
          0,
          1,
          2,
          3,
          4,
          5,
          6,
          7,
          8,
          9,
          10,
          11,
          12,
          13,
          14,
          15,
          16,
          17,
          18,
          19,
          20,
          21,
          22,
          23,
          24,
          25,
          26,
          27,
          28,
          29,
          30,
          31,
          32,
          33,
          34,
          35,
          36,
          37,
          38,
          39,
          40,
          41,
          42,
          43,
          44,
          45,
          46,
          47,
          48,
          49,
          50,
          51,
          52,
          53,
          54,
          55,
          56,
          57,
          58,
          59,
          60,
          61,
          62,
          63,
          64,
          65,
          66,
          67,
          68,
          69,
          70,
          71,
          72,
          73,
          74,
          75,
          76,
          77,
          78,
          79,
          80,
          81,
          82,
          83,
          84,
          85,
          86,
          87,
          88,
          89,
          90,
          91,
          92,
          93,
          94,
          95,
          96,
          97,
          98,
          99,
          100,
          101,
          102,
          103,
          104,
          105,
          106,
          107,
          108,
          109,
          110,
          111,
          112,
          113,
          114,
          115,
          116,
          117,
          118,
          119,
          120,
          121,
          122,
          123,
          124,
          125,
          126,
          127,
          128,
          129,
          130,
          131,
          132,
          133,
          134,
          135,
          136,
          137,
          138,
          139,
          140,
          141,
          142,
          143,
          144,
          145,
          146,
          147,
          148,
          149,
          150,
          151,
          152,
          153,
          154,
          155,
          156,
          157,
          158,
          159,
          160,
          161,
          162,
          163,
          164,
          165,
          166,
          167,
          168,
          169,
          170,
          171,
          172,
          173,
          174,
          175,
          176,
          177,
          178,
          179,
          180,
          181,
          182,
          183,
          184,
          185,
          186
         ],
         "xaxis": "x",
         "y": [
          0.7364568114280701,
          0.6442167162895203,
          0.5344070196151732,
          0.418740838766098,
          0.2986822724342346,
          0.190336748957634,
          0.1185944378376007,
          0.07174231112003326,
          0.04245973750948906,
          0.046852122992277145,
          0.06734992563724518,
          0.10980966687202452,
          0.19765739142894745,
          0.3118594288825989,
          0.34407028555870056,
          0.385065883398056,
          0.4363103806972504,
          0.4934114217758178,
          0.5402635335922241,
          0.5915080308914185,
          0.6207906007766724,
          0.6442167162895203,
          0.645680844783783,
          0.6603221297264099,
          0.6632503867149353,
          0.6676427721977234,
          0.6705710291862488,
          0.6837481856346129,
          0.6896046996116638,
          0.6969253420829773,
          0.7027818560600281,
          0.7159590125083923,
          0.7247437834739685,
          0.7349926829338074,
          0.7467057108879089,
          0.7598828673362733,
          0.7642752528190612,
          0.7891654372215272,
          0.8023425936698914,
          0.8228403925895691,
          0.8404099345207214,
          0.8623718619346618,
          0.8740848898887633,
          0.8901903629302977,
          0.8945827484130859,
          0.9004392623901366,
          0.9033675193786621,
          0.9077599048614501,
          0.9077599048614501,
          0.9019033908843994,
          0.8770132064819336,
          0.8550512194633485,
          0.818448007106781,
          0.7906295657157899,
          0.7510980963706969,
          0.721815526485443,
          0.6822840571403505,
          0.6588580012321472,
          0.6281113028526306,
          0.6105417013168335,
          0.5900439023971558,
          0.5768667459487915,
          0.5592972040176392,
          0.5578330755233765,
          0.5490483045578003,
          0.5490483045578003,
          0.5475841760635376,
          0.5490483045578003,
          0.5373352766036987,
          0.5431917905807495,
          0.5387994050979614,
          0.5417276620864868,
          0.5344070196151732,
          0.5461200475692749,
          0.535871148109436,
          0.535871148109436,
          0.5329428911209105,
          0.5285505056381226,
          0.5241581201553345,
          0.52708637714386,
          0.5212298631668091,
          0.531478762626648,
          0.5300146341323853,
          0.5329428911209105,
          0.5226939916610718,
          0.5300146341323853,
          0.5226939916610718,
          0.5300146341323853,
          0.5197657346725464,
          0.5153733491897583,
          0.5095168352127075,
          0.516837477684021,
          0.5095168352127075,
          0.5139092206954956,
          0.5139092206954956,
          0.5183016061782837,
          0.5124450922012329,
          0.5183016061782837,
          0.5153733491897583,
          0.5241581201553345,
          0.5197657346725464,
          0.52708637714386,
          0.516837477684021,
          0.5226939916610718,
          0.5139092206954956,
          0.5226939916610718,
          0.516837477684021,
          0.5124450922012329,
          0.5124450922012329,
          0.5109809637069702,
          0.5065885782241821,
          0.5153733491897583,
          0.5080527067184448,
          0.5212298631668091,
          0.535871148109436,
          0.5783308744430542,
          0.761346995830536,
          1,
          0.852122962474823,
          0.7891654372215272,
          0.6969253420829773,
          0.6076134443283081,
          0.48755490779876715,
          0.3689604699611664,
          0.2401171326637268,
          0.13469985127449036,
          0.06588579714298248,
          0.02196193300187588,
          0,
          0.029282577335834503,
          0.07320643961429597,
          0.1800878494977951,
          0.29428988695144653,
          0.34553441405296326,
          0.3836017549037933,
          0.44363105297088623,
          0.5051244497299193,
          0.5724743604660033,
          0.6002928018569945,
          0.6266471743583679,
          0,
          0,
          0,
          0,
          0,
          0,
          0,
          0,
          0,
          0,
          0,
          0,
          0,
          0,
          0,
          0,
          0,
          0,
          0,
          0,
          0,
          0,
          0,
          0,
          0,
          0,
          0,
          0,
          0,
          0,
          0,
          0,
          0,
          0,
          0,
          0,
          0,
          0,
          0,
          0,
          0,
          0,
          0,
          0,
          0,
          0,
          0
         ],
         "yaxis": "y"
        }
       ],
       "layout": {
        "height": 500,
        "legend": {
         "title": {
          "text": "Categorías"
         },
         "tracegroupgap": 0
        },
        "template": {
         "data": {
          "bar": [
           {
            "error_x": {
             "color": "#2a3f5f"
            },
            "error_y": {
             "color": "#2a3f5f"
            },
            "marker": {
             "line": {
              "color": "#E5ECF6",
              "width": 0.5
             },
             "pattern": {
              "fillmode": "overlay",
              "size": 10,
              "solidity": 0.2
             }
            },
            "type": "bar"
           }
          ],
          "barpolar": [
           {
            "marker": {
             "line": {
              "color": "#E5ECF6",
              "width": 0.5
             },
             "pattern": {
              "fillmode": "overlay",
              "size": 10,
              "solidity": 0.2
             }
            },
            "type": "barpolar"
           }
          ],
          "carpet": [
           {
            "aaxis": {
             "endlinecolor": "#2a3f5f",
             "gridcolor": "white",
             "linecolor": "white",
             "minorgridcolor": "white",
             "startlinecolor": "#2a3f5f"
            },
            "baxis": {
             "endlinecolor": "#2a3f5f",
             "gridcolor": "white",
             "linecolor": "white",
             "minorgridcolor": "white",
             "startlinecolor": "#2a3f5f"
            },
            "type": "carpet"
           }
          ],
          "choropleth": [
           {
            "colorbar": {
             "outlinewidth": 0,
             "ticks": ""
            },
            "type": "choropleth"
           }
          ],
          "contour": [
           {
            "colorbar": {
             "outlinewidth": 0,
             "ticks": ""
            },
            "colorscale": [
             [
              0,
              "#0d0887"
             ],
             [
              0.1111111111111111,
              "#46039f"
             ],
             [
              0.2222222222222222,
              "#7201a8"
             ],
             [
              0.3333333333333333,
              "#9c179e"
             ],
             [
              0.4444444444444444,
              "#bd3786"
             ],
             [
              0.5555555555555556,
              "#d8576b"
             ],
             [
              0.6666666666666666,
              "#ed7953"
             ],
             [
              0.7777777777777778,
              "#fb9f3a"
             ],
             [
              0.8888888888888888,
              "#fdca26"
             ],
             [
              1,
              "#f0f921"
             ]
            ],
            "type": "contour"
           }
          ],
          "contourcarpet": [
           {
            "colorbar": {
             "outlinewidth": 0,
             "ticks": ""
            },
            "type": "contourcarpet"
           }
          ],
          "heatmap": [
           {
            "colorbar": {
             "outlinewidth": 0,
             "ticks": ""
            },
            "colorscale": [
             [
              0,
              "#0d0887"
             ],
             [
              0.1111111111111111,
              "#46039f"
             ],
             [
              0.2222222222222222,
              "#7201a8"
             ],
             [
              0.3333333333333333,
              "#9c179e"
             ],
             [
              0.4444444444444444,
              "#bd3786"
             ],
             [
              0.5555555555555556,
              "#d8576b"
             ],
             [
              0.6666666666666666,
              "#ed7953"
             ],
             [
              0.7777777777777778,
              "#fb9f3a"
             ],
             [
              0.8888888888888888,
              "#fdca26"
             ],
             [
              1,
              "#f0f921"
             ]
            ],
            "type": "heatmap"
           }
          ],
          "heatmapgl": [
           {
            "colorbar": {
             "outlinewidth": 0,
             "ticks": ""
            },
            "colorscale": [
             [
              0,
              "#0d0887"
             ],
             [
              0.1111111111111111,
              "#46039f"
             ],
             [
              0.2222222222222222,
              "#7201a8"
             ],
             [
              0.3333333333333333,
              "#9c179e"
             ],
             [
              0.4444444444444444,
              "#bd3786"
             ],
             [
              0.5555555555555556,
              "#d8576b"
             ],
             [
              0.6666666666666666,
              "#ed7953"
             ],
             [
              0.7777777777777778,
              "#fb9f3a"
             ],
             [
              0.8888888888888888,
              "#fdca26"
             ],
             [
              1,
              "#f0f921"
             ]
            ],
            "type": "heatmapgl"
           }
          ],
          "histogram": [
           {
            "marker": {
             "pattern": {
              "fillmode": "overlay",
              "size": 10,
              "solidity": 0.2
             }
            },
            "type": "histogram"
           }
          ],
          "histogram2d": [
           {
            "colorbar": {
             "outlinewidth": 0,
             "ticks": ""
            },
            "colorscale": [
             [
              0,
              "#0d0887"
             ],
             [
              0.1111111111111111,
              "#46039f"
             ],
             [
              0.2222222222222222,
              "#7201a8"
             ],
             [
              0.3333333333333333,
              "#9c179e"
             ],
             [
              0.4444444444444444,
              "#bd3786"
             ],
             [
              0.5555555555555556,
              "#d8576b"
             ],
             [
              0.6666666666666666,
              "#ed7953"
             ],
             [
              0.7777777777777778,
              "#fb9f3a"
             ],
             [
              0.8888888888888888,
              "#fdca26"
             ],
             [
              1,
              "#f0f921"
             ]
            ],
            "type": "histogram2d"
           }
          ],
          "histogram2dcontour": [
           {
            "colorbar": {
             "outlinewidth": 0,
             "ticks": ""
            },
            "colorscale": [
             [
              0,
              "#0d0887"
             ],
             [
              0.1111111111111111,
              "#46039f"
             ],
             [
              0.2222222222222222,
              "#7201a8"
             ],
             [
              0.3333333333333333,
              "#9c179e"
             ],
             [
              0.4444444444444444,
              "#bd3786"
             ],
             [
              0.5555555555555556,
              "#d8576b"
             ],
             [
              0.6666666666666666,
              "#ed7953"
             ],
             [
              0.7777777777777778,
              "#fb9f3a"
             ],
             [
              0.8888888888888888,
              "#fdca26"
             ],
             [
              1,
              "#f0f921"
             ]
            ],
            "type": "histogram2dcontour"
           }
          ],
          "mesh3d": [
           {
            "colorbar": {
             "outlinewidth": 0,
             "ticks": ""
            },
            "type": "mesh3d"
           }
          ],
          "parcoords": [
           {
            "line": {
             "colorbar": {
              "outlinewidth": 0,
              "ticks": ""
             }
            },
            "type": "parcoords"
           }
          ],
          "pie": [
           {
            "automargin": true,
            "type": "pie"
           }
          ],
          "scatter": [
           {
            "fillpattern": {
             "fillmode": "overlay",
             "size": 10,
             "solidity": 0.2
            },
            "type": "scatter"
           }
          ],
          "scatter3d": [
           {
            "line": {
             "colorbar": {
              "outlinewidth": 0,
              "ticks": ""
             }
            },
            "marker": {
             "colorbar": {
              "outlinewidth": 0,
              "ticks": ""
             }
            },
            "type": "scatter3d"
           }
          ],
          "scattercarpet": [
           {
            "marker": {
             "colorbar": {
              "outlinewidth": 0,
              "ticks": ""
             }
            },
            "type": "scattercarpet"
           }
          ],
          "scattergeo": [
           {
            "marker": {
             "colorbar": {
              "outlinewidth": 0,
              "ticks": ""
             }
            },
            "type": "scattergeo"
           }
          ],
          "scattergl": [
           {
            "marker": {
             "colorbar": {
              "outlinewidth": 0,
              "ticks": ""
             }
            },
            "type": "scattergl"
           }
          ],
          "scattermapbox": [
           {
            "marker": {
             "colorbar": {
              "outlinewidth": 0,
              "ticks": ""
             }
            },
            "type": "scattermapbox"
           }
          ],
          "scatterpolar": [
           {
            "marker": {
             "colorbar": {
              "outlinewidth": 0,
              "ticks": ""
             }
            },
            "type": "scatterpolar"
           }
          ],
          "scatterpolargl": [
           {
            "marker": {
             "colorbar": {
              "outlinewidth": 0,
              "ticks": ""
             }
            },
            "type": "scatterpolargl"
           }
          ],
          "scatterternary": [
           {
            "marker": {
             "colorbar": {
              "outlinewidth": 0,
              "ticks": ""
             }
            },
            "type": "scatterternary"
           }
          ],
          "surface": [
           {
            "colorbar": {
             "outlinewidth": 0,
             "ticks": ""
            },
            "colorscale": [
             [
              0,
              "#0d0887"
             ],
             [
              0.1111111111111111,
              "#46039f"
             ],
             [
              0.2222222222222222,
              "#7201a8"
             ],
             [
              0.3333333333333333,
              "#9c179e"
             ],
             [
              0.4444444444444444,
              "#bd3786"
             ],
             [
              0.5555555555555556,
              "#d8576b"
             ],
             [
              0.6666666666666666,
              "#ed7953"
             ],
             [
              0.7777777777777778,
              "#fb9f3a"
             ],
             [
              0.8888888888888888,
              "#fdca26"
             ],
             [
              1,
              "#f0f921"
             ]
            ],
            "type": "surface"
           }
          ],
          "table": [
           {
            "cells": {
             "fill": {
              "color": "#EBF0F8"
             },
             "line": {
              "color": "white"
             }
            },
            "header": {
             "fill": {
              "color": "#C8D4E3"
             },
             "line": {
              "color": "white"
             }
            },
            "type": "table"
           }
          ]
         },
         "layout": {
          "annotationdefaults": {
           "arrowcolor": "#2a3f5f",
           "arrowhead": 0,
           "arrowwidth": 1
          },
          "autotypenumbers": "strict",
          "coloraxis": {
           "colorbar": {
            "outlinewidth": 0,
            "ticks": ""
           }
          },
          "colorscale": {
           "diverging": [
            [
             0,
             "#8e0152"
            ],
            [
             0.1,
             "#c51b7d"
            ],
            [
             0.2,
             "#de77ae"
            ],
            [
             0.3,
             "#f1b6da"
            ],
            [
             0.4,
             "#fde0ef"
            ],
            [
             0.5,
             "#f7f7f7"
            ],
            [
             0.6,
             "#e6f5d0"
            ],
            [
             0.7,
             "#b8e186"
            ],
            [
             0.8,
             "#7fbc41"
            ],
            [
             0.9,
             "#4d9221"
            ],
            [
             1,
             "#276419"
            ]
           ],
           "sequential": [
            [
             0,
             "#0d0887"
            ],
            [
             0.1111111111111111,
             "#46039f"
            ],
            [
             0.2222222222222222,
             "#7201a8"
            ],
            [
             0.3333333333333333,
             "#9c179e"
            ],
            [
             0.4444444444444444,
             "#bd3786"
            ],
            [
             0.5555555555555556,
             "#d8576b"
            ],
            [
             0.6666666666666666,
             "#ed7953"
            ],
            [
             0.7777777777777778,
             "#fb9f3a"
            ],
            [
             0.8888888888888888,
             "#fdca26"
            ],
            [
             1,
             "#f0f921"
            ]
           ],
           "sequentialminus": [
            [
             0,
             "#0d0887"
            ],
            [
             0.1111111111111111,
             "#46039f"
            ],
            [
             0.2222222222222222,
             "#7201a8"
            ],
            [
             0.3333333333333333,
             "#9c179e"
            ],
            [
             0.4444444444444444,
             "#bd3786"
            ],
            [
             0.5555555555555556,
             "#d8576b"
            ],
            [
             0.6666666666666666,
             "#ed7953"
            ],
            [
             0.7777777777777778,
             "#fb9f3a"
            ],
            [
             0.8888888888888888,
             "#fdca26"
            ],
            [
             1,
             "#f0f921"
            ]
           ]
          },
          "colorway": [
           "#636efa",
           "#EF553B",
           "#00cc96",
           "#ab63fa",
           "#FFA15A",
           "#19d3f3",
           "#FF6692",
           "#B6E880",
           "#FF97FF",
           "#FECB52"
          ],
          "font": {
           "color": "#2a3f5f"
          },
          "geo": {
           "bgcolor": "white",
           "lakecolor": "white",
           "landcolor": "#E5ECF6",
           "showlakes": true,
           "showland": true,
           "subunitcolor": "white"
          },
          "hoverlabel": {
           "align": "left"
          },
          "hovermode": "closest",
          "mapbox": {
           "style": "light"
          },
          "paper_bgcolor": "white",
          "plot_bgcolor": "#E5ECF6",
          "polar": {
           "angularaxis": {
            "gridcolor": "white",
            "linecolor": "white",
            "ticks": ""
           },
           "bgcolor": "#E5ECF6",
           "radialaxis": {
            "gridcolor": "white",
            "linecolor": "white",
            "ticks": ""
           }
          },
          "scene": {
           "xaxis": {
            "backgroundcolor": "#E5ECF6",
            "gridcolor": "white",
            "gridwidth": 2,
            "linecolor": "white",
            "showbackground": true,
            "ticks": "",
            "zerolinecolor": "white"
           },
           "yaxis": {
            "backgroundcolor": "#E5ECF6",
            "gridcolor": "white",
            "gridwidth": 2,
            "linecolor": "white",
            "showbackground": true,
            "ticks": "",
            "zerolinecolor": "white"
           },
           "zaxis": {
            "backgroundcolor": "#E5ECF6",
            "gridcolor": "white",
            "gridwidth": 2,
            "linecolor": "white",
            "showbackground": true,
            "ticks": "",
            "zerolinecolor": "white"
           }
          },
          "shapedefaults": {
           "line": {
            "color": "#2a3f5f"
           }
          },
          "ternary": {
           "aaxis": {
            "gridcolor": "white",
            "linecolor": "white",
            "ticks": ""
           },
           "baxis": {
            "gridcolor": "white",
            "linecolor": "white",
            "ticks": ""
           },
           "bgcolor": "#E5ECF6",
           "caxis": {
            "gridcolor": "white",
            "linecolor": "white",
            "ticks": ""
           }
          },
          "title": {
           "x": 0.05
          },
          "xaxis": {
           "automargin": true,
           "gridcolor": "white",
           "linecolor": "white",
           "ticks": "",
           "title": {
            "standoff": 15
           },
           "zerolinecolor": "white",
           "zerolinewidth": 2
          },
          "yaxis": {
           "automargin": true,
           "gridcolor": "white",
           "linecolor": "white",
           "ticks": "",
           "title": {
            "standoff": 15
           },
           "zerolinecolor": "white",
           "zerolinewidth": 2
          }
         }
        },
        "title": {
         "text": "Una Señal ECG de Cada Categoría en el Conjunto de Prueba",
         "x": 0.25
        },
        "width": 1000,
        "xaxis": {
         "anchor": "y",
         "domain": [
          0,
          1
         ],
         "title": {
          "text": "Intervalos de Tiempo"
         }
        },
        "yaxis": {
         "anchor": "x",
         "domain": [
          0,
          1
         ],
         "title": {
          "text": "Amplitud (mV)"
         }
        }
       }
      }
     },
     "metadata": {},
     "output_type": "display_data"
    }
   ],
   "source": [
    "test_data = pd.read_csv('MIT-BIH/mitbih_test.csv', header=None)           # Cargar datos desde el archivo CSV\n",
    "\n",
    "# Extraer señales representativas usando los parámetros actuales para el conjunto de prueba\n",
    "ecg_0_test = test_data.loc[test_data[187] == 0, :].iloc[1, :187]  \n",
    "ecg_1_test = test_data.loc[test_data[187] == 1, :].iloc[1, :187]  \n",
    "ecg_2_test = test_data.loc[test_data[187] == 2, :].iloc[1, :187]  \n",
    "ecg_3_test = test_data.loc[test_data[187] == 3, :].iloc[1, :187]  \n",
    "ecg_4_test = test_data.loc[test_data[187] == 4, :].iloc[1, :187]  \n",
    "\n",
    "# Crear un DataFrame con las señales del conjunto de prueba\n",
    "ecg_df_test = pd.DataFrame({\n",
    "    'Normal': ecg_0_test,\n",
    "    'Prematura Auricular': ecg_1_test,\n",
    "    'Contracción Ventricular Prematura': ecg_2_test,\n",
    "    'Fusión de Ventricular y Normal': ecg_3_test,\n",
    "    'Fusión de Estimulación y Normal': ecg_4_test\n",
    "})\n",
    "\n",
    "# Graficar con Plotly para el conjunto de prueba\n",
    "ecg_plot_test = px.line(\n",
    "    ecg_df_test,\n",
    "    labels={'index': 'Intervalos de Tiempo', 'value': 'Amplitud (mV)', 'variable': 'Categorías'},\n",
    "    title=\"Una Señal ECG de Cada Categoría en el Conjunto de Prueba\"\n",
    ")\n",
    "\n",
    "ecg_plot_test.update_layout(title_x=0.25, width=1000, height=500)       # Configurar diseño de la gráfica\n",
    "\n",
    "ecg_plot_test.show()                                                    # Mostrar gráfica\n"
   ]
  },
  {
   "cell_type": "code",
   "execution_count": 7,
   "metadata": {},
   "outputs": [
    {
     "name": "stdout",
     "output_type": "stream",
     "text": [
      "Balanceando las clases con RandomOverSampler...\n",
      "Dimensiones después del balanceo: (362355, 187)\n",
      "Nuevo tamaño del conjunto de datos balanceado: (362355, 188)\n"
     ]
    }
   ],
   "source": [
    "# Separar características y etiquetas\n",
    "data = train_data.iloc[:, :187]                                         # Columnas de características (señales)\n",
    "labels = train_data.iloc[:, 187]                                        # Última columna como etiquetas\n",
    "\n",
    "# Balancear las clases con RandomOverSampler\n",
    "print(\"Balanceando las clases con RandomOverSampler...\")\n",
    "ros = RandomOverSampler(random_state=42)\n",
    "data_resampled, labels_resampled = ros.fit_resample(data, labels)\n",
    "print(f\"Dimensiones después del balanceo: {data_resampled.shape}\")\n",
    "\n",
    "# Combinar las características y etiquetas balanceadas\n",
    "train_df = pd.concat([pd.DataFrame(data_resampled), pd.DataFrame(labels_resampled)], axis=1)\n",
    "train_df.columns = list(range(train_df.shape[1]))                       # Asignar columnas con índices consecutivos\n",
    "\n",
    "print(f\"Nuevo tamaño del conjunto de datos balanceado: {train_df.shape}\")"
   ]
  },
  {
   "cell_type": "code",
   "execution_count": 8,
   "metadata": {},
   "outputs": [
    {
     "data": {
      "application/vnd.plotly.v1+json": {
       "config": {
        "plotlyServerURL": "https://plot.ly"
       },
       "data": [
        {
         "domain": {
          "x": [
           0,
           1
          ],
          "y": [
           0,
           1
          ]
         },
         "hovertemplate": "label=%{label}<br>value=%{value}<extra></extra>",
         "labels": [
          "Normal",
          "Artial Premature",
          "Premature ventricular contraction",
          "Fusion of ventricular and normal",
          "Fusion of paced and normal"
         ],
         "legendgroup": "",
         "name": "",
         "showlegend": true,
         "type": "pie",
         "values": [
          72471,
          72471,
          72471,
          72471,
          72471
         ]
        }
       ],
       "layout": {
        "height": 600,
        "legend": {
         "tracegroupgap": 0
        },
        "template": {
         "data": {
          "bar": [
           {
            "error_x": {
             "color": "#2a3f5f"
            },
            "error_y": {
             "color": "#2a3f5f"
            },
            "marker": {
             "line": {
              "color": "#E5ECF6",
              "width": 0.5
             },
             "pattern": {
              "fillmode": "overlay",
              "size": 10,
              "solidity": 0.2
             }
            },
            "type": "bar"
           }
          ],
          "barpolar": [
           {
            "marker": {
             "line": {
              "color": "#E5ECF6",
              "width": 0.5
             },
             "pattern": {
              "fillmode": "overlay",
              "size": 10,
              "solidity": 0.2
             }
            },
            "type": "barpolar"
           }
          ],
          "carpet": [
           {
            "aaxis": {
             "endlinecolor": "#2a3f5f",
             "gridcolor": "white",
             "linecolor": "white",
             "minorgridcolor": "white",
             "startlinecolor": "#2a3f5f"
            },
            "baxis": {
             "endlinecolor": "#2a3f5f",
             "gridcolor": "white",
             "linecolor": "white",
             "minorgridcolor": "white",
             "startlinecolor": "#2a3f5f"
            },
            "type": "carpet"
           }
          ],
          "choropleth": [
           {
            "colorbar": {
             "outlinewidth": 0,
             "ticks": ""
            },
            "type": "choropleth"
           }
          ],
          "contour": [
           {
            "colorbar": {
             "outlinewidth": 0,
             "ticks": ""
            },
            "colorscale": [
             [
              0,
              "#0d0887"
             ],
             [
              0.1111111111111111,
              "#46039f"
             ],
             [
              0.2222222222222222,
              "#7201a8"
             ],
             [
              0.3333333333333333,
              "#9c179e"
             ],
             [
              0.4444444444444444,
              "#bd3786"
             ],
             [
              0.5555555555555556,
              "#d8576b"
             ],
             [
              0.6666666666666666,
              "#ed7953"
             ],
             [
              0.7777777777777778,
              "#fb9f3a"
             ],
             [
              0.8888888888888888,
              "#fdca26"
             ],
             [
              1,
              "#f0f921"
             ]
            ],
            "type": "contour"
           }
          ],
          "contourcarpet": [
           {
            "colorbar": {
             "outlinewidth": 0,
             "ticks": ""
            },
            "type": "contourcarpet"
           }
          ],
          "heatmap": [
           {
            "colorbar": {
             "outlinewidth": 0,
             "ticks": ""
            },
            "colorscale": [
             [
              0,
              "#0d0887"
             ],
             [
              0.1111111111111111,
              "#46039f"
             ],
             [
              0.2222222222222222,
              "#7201a8"
             ],
             [
              0.3333333333333333,
              "#9c179e"
             ],
             [
              0.4444444444444444,
              "#bd3786"
             ],
             [
              0.5555555555555556,
              "#d8576b"
             ],
             [
              0.6666666666666666,
              "#ed7953"
             ],
             [
              0.7777777777777778,
              "#fb9f3a"
             ],
             [
              0.8888888888888888,
              "#fdca26"
             ],
             [
              1,
              "#f0f921"
             ]
            ],
            "type": "heatmap"
           }
          ],
          "heatmapgl": [
           {
            "colorbar": {
             "outlinewidth": 0,
             "ticks": ""
            },
            "colorscale": [
             [
              0,
              "#0d0887"
             ],
             [
              0.1111111111111111,
              "#46039f"
             ],
             [
              0.2222222222222222,
              "#7201a8"
             ],
             [
              0.3333333333333333,
              "#9c179e"
             ],
             [
              0.4444444444444444,
              "#bd3786"
             ],
             [
              0.5555555555555556,
              "#d8576b"
             ],
             [
              0.6666666666666666,
              "#ed7953"
             ],
             [
              0.7777777777777778,
              "#fb9f3a"
             ],
             [
              0.8888888888888888,
              "#fdca26"
             ],
             [
              1,
              "#f0f921"
             ]
            ],
            "type": "heatmapgl"
           }
          ],
          "histogram": [
           {
            "marker": {
             "pattern": {
              "fillmode": "overlay",
              "size": 10,
              "solidity": 0.2
             }
            },
            "type": "histogram"
           }
          ],
          "histogram2d": [
           {
            "colorbar": {
             "outlinewidth": 0,
             "ticks": ""
            },
            "colorscale": [
             [
              0,
              "#0d0887"
             ],
             [
              0.1111111111111111,
              "#46039f"
             ],
             [
              0.2222222222222222,
              "#7201a8"
             ],
             [
              0.3333333333333333,
              "#9c179e"
             ],
             [
              0.4444444444444444,
              "#bd3786"
             ],
             [
              0.5555555555555556,
              "#d8576b"
             ],
             [
              0.6666666666666666,
              "#ed7953"
             ],
             [
              0.7777777777777778,
              "#fb9f3a"
             ],
             [
              0.8888888888888888,
              "#fdca26"
             ],
             [
              1,
              "#f0f921"
             ]
            ],
            "type": "histogram2d"
           }
          ],
          "histogram2dcontour": [
           {
            "colorbar": {
             "outlinewidth": 0,
             "ticks": ""
            },
            "colorscale": [
             [
              0,
              "#0d0887"
             ],
             [
              0.1111111111111111,
              "#46039f"
             ],
             [
              0.2222222222222222,
              "#7201a8"
             ],
             [
              0.3333333333333333,
              "#9c179e"
             ],
             [
              0.4444444444444444,
              "#bd3786"
             ],
             [
              0.5555555555555556,
              "#d8576b"
             ],
             [
              0.6666666666666666,
              "#ed7953"
             ],
             [
              0.7777777777777778,
              "#fb9f3a"
             ],
             [
              0.8888888888888888,
              "#fdca26"
             ],
             [
              1,
              "#f0f921"
             ]
            ],
            "type": "histogram2dcontour"
           }
          ],
          "mesh3d": [
           {
            "colorbar": {
             "outlinewidth": 0,
             "ticks": ""
            },
            "type": "mesh3d"
           }
          ],
          "parcoords": [
           {
            "line": {
             "colorbar": {
              "outlinewidth": 0,
              "ticks": ""
             }
            },
            "type": "parcoords"
           }
          ],
          "pie": [
           {
            "automargin": true,
            "type": "pie"
           }
          ],
          "scatter": [
           {
            "fillpattern": {
             "fillmode": "overlay",
             "size": 10,
             "solidity": 0.2
            },
            "type": "scatter"
           }
          ],
          "scatter3d": [
           {
            "line": {
             "colorbar": {
              "outlinewidth": 0,
              "ticks": ""
             }
            },
            "marker": {
             "colorbar": {
              "outlinewidth": 0,
              "ticks": ""
             }
            },
            "type": "scatter3d"
           }
          ],
          "scattercarpet": [
           {
            "marker": {
             "colorbar": {
              "outlinewidth": 0,
              "ticks": ""
             }
            },
            "type": "scattercarpet"
           }
          ],
          "scattergeo": [
           {
            "marker": {
             "colorbar": {
              "outlinewidth": 0,
              "ticks": ""
             }
            },
            "type": "scattergeo"
           }
          ],
          "scattergl": [
           {
            "marker": {
             "colorbar": {
              "outlinewidth": 0,
              "ticks": ""
             }
            },
            "type": "scattergl"
           }
          ],
          "scattermapbox": [
           {
            "marker": {
             "colorbar": {
              "outlinewidth": 0,
              "ticks": ""
             }
            },
            "type": "scattermapbox"
           }
          ],
          "scatterpolar": [
           {
            "marker": {
             "colorbar": {
              "outlinewidth": 0,
              "ticks": ""
             }
            },
            "type": "scatterpolar"
           }
          ],
          "scatterpolargl": [
           {
            "marker": {
             "colorbar": {
              "outlinewidth": 0,
              "ticks": ""
             }
            },
            "type": "scatterpolargl"
           }
          ],
          "scatterternary": [
           {
            "marker": {
             "colorbar": {
              "outlinewidth": 0,
              "ticks": ""
             }
            },
            "type": "scatterternary"
           }
          ],
          "surface": [
           {
            "colorbar": {
             "outlinewidth": 0,
             "ticks": ""
            },
            "colorscale": [
             [
              0,
              "#0d0887"
             ],
             [
              0.1111111111111111,
              "#46039f"
             ],
             [
              0.2222222222222222,
              "#7201a8"
             ],
             [
              0.3333333333333333,
              "#9c179e"
             ],
             [
              0.4444444444444444,
              "#bd3786"
             ],
             [
              0.5555555555555556,
              "#d8576b"
             ],
             [
              0.6666666666666666,
              "#ed7953"
             ],
             [
              0.7777777777777778,
              "#fb9f3a"
             ],
             [
              0.8888888888888888,
              "#fdca26"
             ],
             [
              1,
              "#f0f921"
             ]
            ],
            "type": "surface"
           }
          ],
          "table": [
           {
            "cells": {
             "fill": {
              "color": "#EBF0F8"
             },
             "line": {
              "color": "white"
             }
            },
            "header": {
             "fill": {
              "color": "#C8D4E3"
             },
             "line": {
              "color": "white"
             }
            },
            "type": "table"
           }
          ]
         },
         "layout": {
          "annotationdefaults": {
           "arrowcolor": "#2a3f5f",
           "arrowhead": 0,
           "arrowwidth": 1
          },
          "autotypenumbers": "strict",
          "coloraxis": {
           "colorbar": {
            "outlinewidth": 0,
            "ticks": ""
           }
          },
          "colorscale": {
           "diverging": [
            [
             0,
             "#8e0152"
            ],
            [
             0.1,
             "#c51b7d"
            ],
            [
             0.2,
             "#de77ae"
            ],
            [
             0.3,
             "#f1b6da"
            ],
            [
             0.4,
             "#fde0ef"
            ],
            [
             0.5,
             "#f7f7f7"
            ],
            [
             0.6,
             "#e6f5d0"
            ],
            [
             0.7,
             "#b8e186"
            ],
            [
             0.8,
             "#7fbc41"
            ],
            [
             0.9,
             "#4d9221"
            ],
            [
             1,
             "#276419"
            ]
           ],
           "sequential": [
            [
             0,
             "#0d0887"
            ],
            [
             0.1111111111111111,
             "#46039f"
            ],
            [
             0.2222222222222222,
             "#7201a8"
            ],
            [
             0.3333333333333333,
             "#9c179e"
            ],
            [
             0.4444444444444444,
             "#bd3786"
            ],
            [
             0.5555555555555556,
             "#d8576b"
            ],
            [
             0.6666666666666666,
             "#ed7953"
            ],
            [
             0.7777777777777778,
             "#fb9f3a"
            ],
            [
             0.8888888888888888,
             "#fdca26"
            ],
            [
             1,
             "#f0f921"
            ]
           ],
           "sequentialminus": [
            [
             0,
             "#0d0887"
            ],
            [
             0.1111111111111111,
             "#46039f"
            ],
            [
             0.2222222222222222,
             "#7201a8"
            ],
            [
             0.3333333333333333,
             "#9c179e"
            ],
            [
             0.4444444444444444,
             "#bd3786"
            ],
            [
             0.5555555555555556,
             "#d8576b"
            ],
            [
             0.6666666666666666,
             "#ed7953"
            ],
            [
             0.7777777777777778,
             "#fb9f3a"
            ],
            [
             0.8888888888888888,
             "#fdca26"
            ],
            [
             1,
             "#f0f921"
            ]
           ]
          },
          "colorway": [
           "#636efa",
           "#EF553B",
           "#00cc96",
           "#ab63fa",
           "#FFA15A",
           "#19d3f3",
           "#FF6692",
           "#B6E880",
           "#FF97FF",
           "#FECB52"
          ],
          "font": {
           "color": "#2a3f5f"
          },
          "geo": {
           "bgcolor": "white",
           "lakecolor": "white",
           "landcolor": "#E5ECF6",
           "showlakes": true,
           "showland": true,
           "subunitcolor": "white"
          },
          "hoverlabel": {
           "align": "left"
          },
          "hovermode": "closest",
          "mapbox": {
           "style": "light"
          },
          "paper_bgcolor": "white",
          "plot_bgcolor": "#E5ECF6",
          "polar": {
           "angularaxis": {
            "gridcolor": "white",
            "linecolor": "white",
            "ticks": ""
           },
           "bgcolor": "#E5ECF6",
           "radialaxis": {
            "gridcolor": "white",
            "linecolor": "white",
            "ticks": ""
           }
          },
          "scene": {
           "xaxis": {
            "backgroundcolor": "#E5ECF6",
            "gridcolor": "white",
            "gridwidth": 2,
            "linecolor": "white",
            "showbackground": true,
            "ticks": "",
            "zerolinecolor": "white"
           },
           "yaxis": {
            "backgroundcolor": "#E5ECF6",
            "gridcolor": "white",
            "gridwidth": 2,
            "linecolor": "white",
            "showbackground": true,
            "ticks": "",
            "zerolinecolor": "white"
           },
           "zaxis": {
            "backgroundcolor": "#E5ECF6",
            "gridcolor": "white",
            "gridwidth": 2,
            "linecolor": "white",
            "showbackground": true,
            "ticks": "",
            "zerolinecolor": "white"
           }
          },
          "shapedefaults": {
           "line": {
            "color": "#2a3f5f"
           }
          },
          "ternary": {
           "aaxis": {
            "gridcolor": "white",
            "linecolor": "white",
            "ticks": ""
           },
           "baxis": {
            "gridcolor": "white",
            "linecolor": "white",
            "ticks": ""
           },
           "bgcolor": "#E5ECF6",
           "caxis": {
            "gridcolor": "white",
            "linecolor": "white",
            "ticks": ""
           }
          },
          "title": {
           "x": 0.05
          },
          "xaxis": {
           "automargin": true,
           "gridcolor": "white",
           "linecolor": "white",
           "ticks": "",
           "title": {
            "standoff": 15
           },
           "zerolinecolor": "white",
           "zerolinewidth": 2
          },
          "yaxis": {
           "automargin": true,
           "gridcolor": "white",
           "linecolor": "white",
           "ticks": "",
           "title": {
            "standoff": 15
           },
           "zerolinecolor": "white",
           "zerolinewidth": 2
          }
         }
        },
        "title": {
         "text": "The Percentage of Each Label After Balancing",
         "x": 0.5
        },
        "width": 800
       }
      }
     },
     "metadata": {},
     "output_type": "display_data"
    }
   ],
   "source": [
    "# Diccionario para mapear las clases numéricas a nombres descriptivos\n",
    "classes = {\n",
    "    0: \"Normal\",\n",
    "    1: \"Artial Premature\",\n",
    "    2: \"Premature ventricular contraction\",\n",
    "    3: \"Fusion of ventricular and normal\",\n",
    "    4: \"Fusion of paced and normal\"\n",
    "}\n",
    "\n",
    "value_counts = train_df.iloc[:, -1].value_counts().rename(classes)      # Contar la cantidad de muestras por clase y renombrar con etiquetas descriptivas\n",
    "\n",
    "# Crear una gráfica de pastel para visualizar la distribución de clases balanceadas\n",
    "pie_fig = px.pie(\n",
    "    names=value_counts.index,                                           # Nombres de las clases\n",
    "    values=value_counts.values,                                         # Cantidad de muestras por clase\n",
    "    title=\"The Percentage of Each Label After Balancing\"                # Título de la gráfica\n",
    ")\n",
    "\n",
    "pie_fig.update_layout(title_x=0.5, width=800, height=600)               # Configurar y mostrar la gráfica\n",
    "pie_fig.show()                                                          # Mostrar gráfica\n"
   ]
  },
  {
   "cell_type": "code",
   "execution_count": 9,
   "metadata": {},
   "outputs": [
    {
     "name": "stdout",
     "output_type": "stream",
     "text": [
      "Iniciando preprocesamiento de señales...\n",
      "Señales estandarizadas: (362355, 187) (Longitud fija: 187)\n"
     ]
    }
   ],
   "source": [
    "# Función para estandarizar la longitud de las señales\n",
    "def estandarizar_longitud(señales, longitud_objetivo=187):\n",
    "    señales_estandarizadas = [resample(señal, longitud_objetivo) for señal in señales]\n",
    "    return np.array(señales_estandarizadas)\n",
    "\n",
    "# Separar características y etiquetas del DataFrame balanceado\n",
    "data = train_df.iloc[:, :187].values                                     # Señales (características)\n",
    "labels = train_df.iloc[:, 187].values                                    # Etiquetas\n",
    "\n",
    "print(\"Iniciando preprocesamiento de señales...\")                       # Estandarizar la longitud de las señales\n",
    "longitud_objetivo = 187                                                 # Definir longitud fija para las señales\n",
    "data_estandarizada = estandarizar_longitud(data, longitud_objetivo)\n",
    "print(f\"Señales estandarizadas: {data_estandarizada.shape} (Longitud fija: {longitud_objetivo})\")"
   ]
  },
  {
   "cell_type": "code",
   "execution_count": 10,
   "metadata": {},
   "outputs": [
    {
     "name": "stdout",
     "output_type": "stream",
     "text": [
      "Normalizando las señales...\n",
      "Señales normalizadas: (362355, 187) (Rango: 0 a 1)\n",
      "Preprocesamiento completado. Los datos están listos para el modelo.\n",
      "Tamaño final de las señales: (362355, 187)\n",
      "Cantidad de etiquetas: 362355\n",
      "\n",
      "Normalizando datos de entrenamiento y prueba...\n",
      "completado. Los datos están listos para el modelo.\n",
      "-------------------------------------------------------------------\n",
      "Datos de entrenamiento normalizados: (87554, 187)\n",
      "Datos de prueba normalizados: (21892, 187)\n"
     ]
    }
   ],
   "source": [
    "# Normalizar las señales\n",
    "print(\"Normalizando las señales...\")\n",
    "scaler = MinMaxScaler(feature_range=(0, 1))                             # Normalización en rango [0, 1]\n",
    "data_normalizada = scaler.fit_transform(data_estandarizada)\n",
    "print(f\"Señales normalizadas: {data_normalizada.shape} (Rango: 0 a 1)\")\n",
    "\n",
    "print(\"Preprocesamiento completado. Los datos están listos para el modelo.\")\n",
    "print(f\"Tamaño final de las señales: {data_normalizada.shape}\")\n",
    "print(f\"Cantidad de etiquetas: {len(labels)}\")\n",
    "\n",
    "# normalizar X_train y X_test adicionalmente                            # normalizar X_train y X_test adicionalmente\n",
    "print(\"\\nNormalizando datos de entrenamiento y prueba...\")\n",
    "X_train_normalized = scaler.fit_transform(X_train)                      # Normalización de entrenamiento\n",
    "X_test_normalized = scaler.transform(X_test)                            # Normalización de prueba\n",
    "\n",
    "print(\"completado. Los datos están listos para el modelo.\")\n",
    "print(\"-------------------------------------------------------------------\")\n",
    "print(f\"Datos de entrenamiento normalizados: {X_train_normalized.shape}\")\n",
    "print(f\"Datos de prueba normalizados: {X_test_normalized.shape}\")\n"
   ]
  },
  {
   "cell_type": "code",
   "execution_count": 19,
   "metadata": {},
   "outputs": [
    {
     "name": "stdout",
     "output_type": "stream",
     "text": [
      "Tamaño del conjunto de entrenamiento: (289884, 187)\n",
      "Tamaño del conjunto de validación: (72471, 187)\n",
      "Tamaño del conjunto de prueba: (21892, 187)\n",
      "---------------------------------------------------------\n",
      "x_train shape:  (289884, 187, 1)\n",
      "y_train shape:  (289884, 5)\n",
      "x_val shape:  (72471, 187, 1)\n",
      "y_val shape:  (72471, 5)\n",
      "x_test shape:  (21892, 187, 1)\n",
      "y_test shape:  (21892, 5)\n",
      "---------------------------------------------------------\n"
     ]
    }
   ],
   "source": [
    "x = train_df.iloc[:,:187]                                               # Separar características y etiquetas de train_df\n",
    "y = train_df.iloc[:,187]\n",
    "x_test = test_data.iloc[:,:187]                                         # Separar características y etiquetas del conjunto de prueba\n",
    "y_test = test_data.iloc[: ,187]\n",
    "\n",
    "# Dividir train_df en conjunto de entrenamiento y validación\n",
    "x_train, x_val, y_train, y_val = train_test_split(\n",
    "    x, y, test_size=0.2, random_state=42, stratify=y\n",
    ")\n",
    "\n",
    "print(f\"Tamaño del conjunto de entrenamiento: {x_train.shape}\")         # Imprimir las dimensiones de los conjuntos resultantes\n",
    "print(f\"Tamaño del conjunto de validación: {x_val.shape}\")\n",
    "print(f\"Tamaño del conjunto de prueba: {x_test.shape}\")\n",
    "\n",
    "x_train = x_train.values.reshape(x_train.shape[0], -1, 1)               # Cambiar la forma de los datos para que sean compatibles con CNN\n",
    "x_val = x_val.values.reshape(x_val.shape[0], -1, 1)\n",
    "x_test = x_test.values.reshape(x_test.shape[0], -1, 1)\n",
    "\n",
    "y_train = tf.keras.utils.to_categorical(y_train)                        # Convertir las etiquetas a formato one-hot encoding\n",
    "y_val = tf.keras.utils.to_categorical(y_val)\n",
    "y_test = tf.keras.utils.to_categorical(y_test)\n",
    "print(\"---------------------------------------------------------\")\n",
    "print('x_train shape: ', x_train.shape)                                 # Verificar las dimensiones de los conjuntos después del preprocesamiento\n",
    "print('y_train shape: ', y_train.shape)\n",
    "print('x_val shape: ', x_val.shape)\n",
    "print('y_val shape: ', y_val.shape)\n",
    "print('x_test shape: ', x_test.shape)\n",
    "print('y_test shape: ', y_test.shape)\n",
    "print(\"---------------------------------------------------------\")"
   ]
  },
  {
   "cell_type": "markdown",
   "metadata": {},
   "source": [
    "2.\tDefinición del Modelo:\n",
    "\n",
    "        a) Prueba 1: Modelo ANN (Red Neuronal Artificial)\n",
    "\n",
    "    - Implementar una red neuronal completamente conectada con varias capas densas para extraer características básicas de las señales de ECG.\n",
    "\n",
    "    - Seleccionar la cantidad de neuronas en cada capa y usar funciones de activación ReLU para las capas intermedias.\n",
    "\n",
    "    - Agregar capas de Dropout para reducir el sobreajuste.\n",
    "\n",
    "    - La capa de salida debe tener tantas neuronas como clases de arritmias, usando una función de activación softmax.\n",
    "\n",
    "    - Compilar el modelo utilizando un optimizador como Adam y la función de pérdida categorical_crossentropy."
   ]
  },
  {
   "cell_type": "code",
   "execution_count": null,
   "metadata": {},
   "outputs": [
    {
     "name": "stdout",
     "output_type": "stream",
     "text": [
      "Model: \"sequential\"\n",
      "_________________________________________________________________\n",
      " Layer (type)                Output Shape              Param #   \n",
      "=================================================================\n",
      " dense (Dense)               (None, 128)               24064     \n",
      "                                                                 \n",
      " dropout (Dropout)           (None, 128)               0         \n",
      "                                                                 \n",
      " dense_1 (Dense)             (None, 64)                8256      \n",
      "                                                                 \n",
      " dropout_1 (Dropout)         (None, 64)                0         \n",
      "                                                                 \n",
      " dense_2 (Dense)             (None, 5)                 325       \n",
      "                                                                 \n",
      "=================================================================\n",
      "Total params: 32645 (127.52 KB)\n",
      "Trainable params: 32645 (127.52 KB)\n",
      "Non-trainable params: 0 (0.00 Byte)\n",
      "_________________________________________________________________\n"
     ]
    }
   ],
   "source": [
    " #Definir el modelo ANN\n",
    "def crear_modelo_ann(input_dim, num_clases):\n",
    "    modelo = Sequential()\n",
    "    \n",
    "    # Capa de entrada y primera capa oculta\n",
    "    modelo.add(Dense(128, activation='relu', input_dim=input_dim))          \n",
    "    modelo.add(Dropout(0.3))                                                # Dropout para reducir el sobreajuste\n",
    "    \n",
    "    # Segunda capa oculta\n",
    "    modelo.add(Dense(64, activation='relu'))\n",
    "    modelo.add(Dropout(0.3))\n",
    "    \n",
    "    # Capa de salida\n",
    "    modelo.add(Dense(num_clases, activation='softmax'))                     # Softmax para clasificación multiclase\n",
    "    \n",
    "    # Compilar el modelo\n",
    "    modelo.compile(\n",
    "        optimizer=Adam(learning_rate=0.001),\n",
    "        loss='categorical_crossentropy',\n",
    "        metrics=['accuracy']\n",
    "    )\n",
    "    return modelo\n",
    "\n",
    "# Crear modelo ANN\n",
    "input_dim = x_train.shape[1]                                                # Número de características de entrada\n",
    "num_clases = y_train.shape[1]                                               # Número de clases en formato One-Hot Encoding\n",
    "modelo_ann = crear_modelo_ann(input_dim, num_clases)\n",
    "\n",
    "modelo_ann.summary()                                                        # Mostrar resumen del modelo"
   ]
  },
  {
   "cell_type": "code",
   "execution_count": 26,
   "metadata": {},
   "outputs": [
    {
     "name": "stdout",
     "output_type": "stream",
     "text": [
      "--------------------------------------------\n",
      " Cargando el modelo desde el checkpoint...\n",
      "--------------------------------------------\n",
      "Epoch 1/20\n",
      "4527/4530 [============================>.] - ETA: 0s - loss: 0.2887 - accuracy: 0.8950\n",
      "Epoch 1: val_loss improved from inf to 0.18498, saving model to modelo_ann_checkpoint.h5\n"
     ]
    },
    {
     "name": "stderr",
     "output_type": "stream",
     "text": [
      "d:\\Documentos\\Proyectos\\sem_IA2\\.venv\\lib\\site-packages\\keras\\src\\engine\\training.py:3000: UserWarning:\n",
      "\n",
      "You are saving your model as an HDF5 file via `model.save()`. This file format is considered legacy. We recommend using instead the native Keras format, e.g. `model.save('my_model.keras')`.\n",
      "\n"
     ]
    },
    {
     "name": "stdout",
     "output_type": "stream",
     "text": [
      "4530/4530 [==============================] - 32s 7ms/step - loss: 0.2887 - accuracy: 0.8950 - val_loss: 0.1850 - val_accuracy: 0.9308\n",
      "Epoch 2/20\n",
      "4523/4530 [============================>.] - ETA: 0s - loss: 0.2276 - accuracy: 0.9167\n",
      "Epoch 2: val_loss improved from 0.18498 to 0.14399, saving model to modelo_ann_checkpoint.h5\n",
      "4530/4530 [==============================] - 29s 6ms/step - loss: 0.2275 - accuracy: 0.9167 - val_loss: 0.1440 - val_accuracy: 0.9501\n",
      "Epoch 3/20\n",
      "4526/4530 [============================>.] - ETA: 0s - loss: 0.1969 - accuracy: 0.9284\n",
      "Epoch 3: val_loss improved from 0.14399 to 0.12038, saving model to modelo_ann_checkpoint.h5\n",
      "4530/4530 [==============================] - 33s 7ms/step - loss: 0.1968 - accuracy: 0.9284 - val_loss: 0.1204 - val_accuracy: 0.9586\n",
      "Epoch 4/20\n",
      "4526/4530 [============================>.] - ETA: 0s - loss: 0.1789 - accuracy: 0.9353\n",
      "Epoch 4: val_loss did not improve from 0.12038\n",
      "4530/4530 [==============================] - 32s 7ms/step - loss: 0.1790 - accuracy: 0.9353 - val_loss: 0.1230 - val_accuracy: 0.9572\n",
      "Epoch 5/20\n",
      "4527/4530 [============================>.] - ETA: 0s - loss: 0.1667 - accuracy: 0.9396\n",
      "Epoch 5: val_loss improved from 0.12038 to 0.09957, saving model to modelo_ann_checkpoint.h5\n",
      "4530/4530 [==============================] - 30s 7ms/step - loss: 0.1667 - accuracy: 0.9396 - val_loss: 0.0996 - val_accuracy: 0.9667\n",
      "Epoch 6/20\n",
      "4526/4530 [============================>.] - ETA: 0s - loss: 0.1562 - accuracy: 0.9437\n",
      "Epoch 6: val_loss improved from 0.09957 to 0.09172, saving model to modelo_ann_checkpoint.h5\n",
      "4530/4530 [==============================] - 28s 6ms/step - loss: 0.1563 - accuracy: 0.9437 - val_loss: 0.0917 - val_accuracy: 0.9680\n",
      "Epoch 7/20\n",
      "4522/4530 [============================>.] - ETA: 0s - loss: 0.1502 - accuracy: 0.9460\n",
      "Epoch 7: val_loss did not improve from 0.09172\n",
      "4530/4530 [==============================] - 27s 6ms/step - loss: 0.1502 - accuracy: 0.9459 - val_loss: 0.0930 - val_accuracy: 0.9677\n",
      "Epoch 8/20\n",
      "4524/4530 [============================>.] - ETA: 0s - loss: 0.1459 - accuracy: 0.9476\n",
      "Epoch 8: val_loss improved from 0.09172 to 0.08879, saving model to modelo_ann_checkpoint.h5\n",
      "4530/4530 [==============================] - 28s 6ms/step - loss: 0.1459 - accuracy: 0.9476 - val_loss: 0.0888 - val_accuracy: 0.9684\n",
      "Epoch 9/20\n",
      "4524/4530 [============================>.] - ETA: 0s - loss: 0.1395 - accuracy: 0.9500\n",
      "Epoch 9: val_loss improved from 0.08879 to 0.08132, saving model to modelo_ann_checkpoint.h5\n",
      "4530/4530 [==============================] - 28s 6ms/step - loss: 0.1396 - accuracy: 0.9500 - val_loss: 0.0813 - val_accuracy: 0.9722\n",
      "Epoch 10/20\n",
      "4523/4530 [============================>.] - ETA: 0s - loss: 0.1352 - accuracy: 0.9515\n",
      "Epoch 10: val_loss improved from 0.08132 to 0.07394, saving model to modelo_ann_checkpoint.h5\n",
      "4530/4530 [==============================] - 29s 6ms/step - loss: 0.1352 - accuracy: 0.9515 - val_loss: 0.0739 - val_accuracy: 0.9762\n",
      "Epoch 11/20\n",
      "4527/4530 [============================>.] - ETA: 0s - loss: 0.1300 - accuracy: 0.9533\n",
      "Epoch 11: val_loss improved from 0.07394 to 0.07088, saving model to modelo_ann_checkpoint.h5\n",
      "4530/4530 [==============================] - 29s 6ms/step - loss: 0.1301 - accuracy: 0.9533 - val_loss: 0.0709 - val_accuracy: 0.9767\n",
      "Epoch 12/20\n",
      "4530/4530 [==============================] - ETA: 0s - loss: 0.1278 - accuracy: 0.9542\n",
      "Epoch 12: val_loss did not improve from 0.07088\n",
      "4530/4530 [==============================] - 44s 10ms/step - loss: 0.1278 - accuracy: 0.9542 - val_loss: 0.0711 - val_accuracy: 0.9756\n",
      "Epoch 13/20\n",
      "4528/4530 [============================>.] - ETA: 0s - loss: 0.1244 - accuracy: 0.9557\n",
      "Epoch 13: val_loss did not improve from 0.07088\n",
      "4530/4530 [==============================] - 34s 8ms/step - loss: 0.1244 - accuracy: 0.9557 - val_loss: 0.0712 - val_accuracy: 0.9765\n",
      "Epoch 14/20\n",
      "4523/4530 [============================>.] - ETA: 0s - loss: 0.1233 - accuracy: 0.9557\n",
      "Epoch 14: val_loss improved from 0.07088 to 0.06263, saving model to modelo_ann_checkpoint.h5\n",
      "4530/4530 [==============================] - 30s 7ms/step - loss: 0.1233 - accuracy: 0.9557 - val_loss: 0.0626 - val_accuracy: 0.9793\n",
      "Epoch 15/20\n",
      "4526/4530 [============================>.] - ETA: 0s - loss: 0.1205 - accuracy: 0.9569\n",
      "Epoch 15: val_loss did not improve from 0.06263\n",
      "4530/4530 [==============================] - 28s 6ms/step - loss: 0.1205 - accuracy: 0.9569 - val_loss: 0.0653 - val_accuracy: 0.9783\n",
      "Epoch 16/20\n",
      "4529/4530 [============================>.] - ETA: 0s - loss: 0.1171 - accuracy: 0.9584\n",
      "Epoch 16: val_loss did not improve from 0.06263\n",
      "4530/4530 [==============================] - 28s 6ms/step - loss: 0.1171 - accuracy: 0.9584 - val_loss: 0.0628 - val_accuracy: 0.9787\n",
      "Epoch 17/20\n",
      "4524/4530 [============================>.] - ETA: 0s - loss: 0.1156 - accuracy: 0.9592\n",
      "Epoch 17: val_loss improved from 0.06263 to 0.06256, saving model to modelo_ann_checkpoint.h5\n",
      "4530/4530 [==============================] - 28s 6ms/step - loss: 0.1155 - accuracy: 0.9592 - val_loss: 0.0626 - val_accuracy: 0.9794\n",
      "Epoch 18/20\n",
      "4523/4530 [============================>.] - ETA: 0s - loss: 0.1129 - accuracy: 0.9602\n",
      "Epoch 18: val_loss improved from 0.06256 to 0.05605, saving model to modelo_ann_checkpoint.h5\n",
      "4530/4530 [==============================] - 28s 6ms/step - loss: 0.1129 - accuracy: 0.9602 - val_loss: 0.0560 - val_accuracy: 0.9813\n",
      "Epoch 19/20\n",
      "4522/4530 [============================>.] - ETA: 0s - loss: 0.1125 - accuracy: 0.9602\n",
      "Epoch 19: val_loss did not improve from 0.05605\n",
      "4530/4530 [==============================] - 28s 6ms/step - loss: 0.1125 - accuracy: 0.9602 - val_loss: 0.0563 - val_accuracy: 0.9811\n",
      "Epoch 20/20\n",
      "4528/4530 [============================>.] - ETA: 0s - loss: 0.1104 - accuracy: 0.9611\n",
      "Epoch 20: val_loss did not improve from 0.05605\n",
      "4530/4530 [==============================] - 29s 6ms/step - loss: 0.1103 - accuracy: 0.9611 - val_loss: 0.0586 - val_accuracy: 0.9812\n",
      "-------------------------------------------------------------------\n",
      "Cargando el mejor modelo desde el checkpoint...\n",
      "685/685 [==============================] - 3s 4ms/step - loss: 0.1892 - accuracy: 0.9387\n",
      "-------------------------------------------------------------------\n",
      "Pérdida en prueba: 0.1892\n",
      "Precisión en prueba: 0.9387\n",
      "-------------------------------------------------------------------\n"
     ]
    }
   ],
   "source": [
    "# Cargar el modelo desde el checkpoint existente\n",
    "model_path = 'modelo_ann_checkpoint.h5'\n",
    "if os.path.exists(model_path):\n",
    "    print(\"--------------------------------------------\")\n",
    "    print(\" Cargando el modelo desde el checkpoint...\")\n",
    "    print(\"--------------------------------------------\")\n",
    "    modelo_rnn = tf.keras.models.load_model(model_path)\n",
    "else:\n",
    "    raise FileNotFoundError(f\"El checkpoint '{model_path}' no existe. Por favor, asegúrate de haber guardado el modelo previamente.\")\n",
    "\n",
    "# Guardar el mejor modelo\n",
    "checkpoint = ModelCheckpoint( filepath='modelo_ann_checkpoint.h5', save_best_only=True, monitor='val_loss', verbose=1)\n",
    "early_stopping = EarlyStopping(monitor='val_loss', patience=5, restore_best_weights=True)\n",
    "\n",
    "# Entrenar el modelo\n",
    "history = modelo_ann.fit(\n",
    "    x_train, y_train,                                                       # Datos de entrenamiento\n",
    "    validation_data=(x_val, y_val),                                         # Datos de validación\n",
    "    epochs=20,\n",
    "    batch_size=64,\n",
    "    callbacks=[checkpoint, early_stopping]\n",
    ")\n",
    "\n",
    "# Evaluar el modelo con el conjunto de prueba\n",
    "print(\"-------------------------------------------------------------------\")\n",
    "print(\"Cargando el mejor modelo desde el checkpoint...\")\n",
    "modelo_ann = tf.keras.models.load_model('modelo_ann_checkpoint.h5')\n",
    "loss, accuracy = modelo_ann.evaluate(x_test, y_test)\n",
    "print(\"-------------------------------------------------------------------\")\n",
    "print(f\"Pérdida en prueba: {loss:.4f}\")\n",
    "print(f\"Precisión en prueba: {accuracy:.4f}\")\n",
    "print(\"-------------------------------------------------------------------\")"
   ]
  },
  {
   "cell_type": "code",
   "execution_count": null,
   "metadata": {},
   "outputs": [
    {
     "data": {
      "image/png": "[encoded data removed]",
      "text/plain": [
       "<Figure size 1000x600 with 1 Axes>"
      ]
     },
     "metadata": {},
     "output_type": "display_data"
    },
    {
     "data": {
      "image/png": "[encoded data removed]",
      "text/plain": [
       "<Figure size 1000x600 with 1 Axes>"
      ]
     },
     "metadata": {},
     "output_type": "display_data"
    }
   ],
   "source": [
    "# Crear gráficos de precisión y pérdida\n",
    "def plot_metrics_simple(history):\n",
    "    # Graficar precisión\n",
    "    plt.figure(figsize=(10, 6))\n",
    "    plt.plot(history.history['accuracy'], label='Precisión de Entrenamiento')\n",
    "    plt.plot(history.history['val_accuracy'], label='Precisión de Validación')\n",
    "    plt.title('Precisión durante el entrenamiento')\n",
    "    plt.xlabel('Épocas')\n",
    "    plt.ylabel('Precisión')\n",
    "    plt.legend()\n",
    "    plt.grid(visible=True, linestyle='--', linewidth=0.5)\n",
    "    plt.show()\n",
    "\n",
    "    # Graficar pérdida\n",
    "    plt.figure(figsize=(10, 6))\n",
    "    plt.plot(history.history['loss'], label='Pérdida de Entrenamiento')\n",
    "    plt.plot(history.history['val_loss'], label='Pérdida de Validación')\n",
    "    plt.title('Pérdida durante el entrenamiento')\n",
    "    plt.xlabel('Épocas')\n",
    "    plt.ylabel('Pérdida')\n",
    "    plt.legend()\n",
    "    plt.grid(visible=True, linestyle='--', linewidth=0.5)\n",
    "    plt.show()\n",
    "\n",
    "plot_metrics_simple(history)                                                # Llamar a la función para graficar"
   ]
  },
  {
   "cell_type": "code",
   "execution_count": 34,
   "metadata": {},
   "outputs": [
    {
     "name": "stdout",
     "output_type": "stream",
     "text": [
      "685/685 [==============================] - 2s 3ms/step\n",
      "--------------------------------------------------------\n",
      " Reporte de Clasificación para ANN\n",
      "--------------------------------------------------------\n",
      "              precision    recall  f1-score   support\n",
      "\n",
      "     Clase 0       0.99      0.94      0.96     18118\n",
      "     Clase 1       0.41      0.84      0.55       556\n",
      "     Clase 2       0.84      0.95      0.89      1448\n",
      "     Clase 3       0.41      0.87      0.55       162\n",
      "     Clase 4       0.95      0.99      0.97      1608\n",
      "\n",
      "    accuracy                           0.94     21892\n",
      "   macro avg       0.72      0.92      0.79     21892\n",
      "weighted avg       0.96      0.94      0.95     21892\n",
      "\n",
      "--------------------------------------------------------\n"
     ]
    }
   ],
   "source": [
    "# Generar predicciones para el conjunto de prueba con ANN\n",
    "y_pred_ann = modelo_ann.predict(x_test)\n",
    "y_pred_classes_ann = np.argmax(y_pred_ann, axis=1)                          # Convertir probabilidades a clases\n",
    "y_true_classes_ann = np.argmax(y_test, axis=1)                              # Etiquetas reales en formato one-hot\n",
    "\n",
    "conf_matrix_ann = confusion_matrix(y_true_classes_ann, y_pred_classes_ann)  # Crear la matriz de confusión para ANN\n",
    "\n",
    "# Calcular métricas de evaluación para ANN\n",
    "report_ann = classification_report(\n",
    "    y_true_classes_ann,\n",
    "    y_pred_classes_ann,\n",
    "    target_names=[f\"Clase {i}\" for i in range(y_test.shape[1])]\n",
    ")\n",
    "print(\"--------------------------------------------------------\")\n",
    "print(\" Reporte de Clasificación para ANN\")\n",
    "print(\"--------------------------------------------------------\")\n",
    "print(report_ann)\n",
    "print(\"--------------------------------------------------------\")"
   ]
  },
  {
   "cell_type": "code",
   "execution_count": 35,
   "metadata": {},
   "outputs": [
    {
     "data": {
      "image/png": "[encoded data removed]",
      "text/plain": [
       "<Figure size 1000x800 with 2 Axes>"
      ]
     },
     "metadata": {},
     "output_type": "display_data"
    }
   ],
   "source": [
    "# Graficar la matriz de confusión para ANN\n",
    "plt.figure(figsize=(10, 8))\n",
    "sns.heatmap(\n",
    "    conf_matrix_ann, annot=True, fmt=\"d\", cmap=\"Blues\",\n",
    "    xticklabels=[f\"Clase {i}\" for i in range(y_test.shape[1])],\n",
    "    yticklabels=[f\"Clase {i}\" for i in range(y_test.shape[1])]\n",
    ")\n",
    "plt.xlabel(\"Predicción\")\n",
    "plt.ylabel(\"Verdadero\")\n",
    "plt.title(\"Matriz de Confusión para ANN\")\n",
    "plt.show()\n"
   ]
  },
  {
   "cell_type": "markdown",
   "metadata": {},
   "source": [
    "\n",
    "2.\tDefinición del Modelo:\n",
    "\n",
    "        b) Prueba 2: Modelo CNN (Red Neuronal Convolucional)\n",
    "\n",
    "    - Implementar una CNN con capas convolucionales para extraer características espaciales de las señales.   \n",
    "\n",
    "    - Las capas convolucionales deben incluir filtros de distintas profundidades (por ejemplo, 32, 64, 128), con funciones de activación ReLU.\n",
    "\n",
    "    - Usar capas de Batch Normalization para estabilizar el entrenamiento y mejorar la generalización.\n",
    "\n",
    "    - Agregar capas de MaxPooling para reducir la dimensionalidad.\n",
    "\n",
    "    - Incluir capas Dropout para evitar el sobreajuste.\n",
    "\n",
    "    - La capa de salida debe tener tantas neuronas como clases de arritmias, usando una función de activación softmax."
   ]
  },
  {
   "cell_type": "code",
   "execution_count": 61,
   "metadata": {},
   "outputs": [
    {
     "name": "stdout",
     "output_type": "stream",
     "text": [
      "Model: \"sequential_18\"\n",
      "_________________________________________________________________\n",
      " Layer (type)                Output Shape              Param #   \n",
      "=================================================================\n",
      " conv1d_6 (Conv1D)           (None, 185, 32)           128       \n",
      "                                                                 \n",
      " batch_normalization_6 (Bat  (None, 185, 32)           128       \n",
      " chNormalization)                                                \n",
      "                                                                 \n",
      " max_pooling1d_6 (MaxPoolin  (None, 92, 32)            0         \n",
      " g1D)                                                            \n",
      "                                                                 \n",
      " dropout_40 (Dropout)        (None, 92, 32)            0         \n",
      "                                                                 \n",
      " conv1d_7 (Conv1D)           (None, 90, 64)            6208      \n",
      "                                                                 \n",
      " batch_normalization_7 (Bat  (None, 90, 64)            256       \n",
      " chNormalization)                                                \n",
      "                                                                 \n",
      " max_pooling1d_7 (MaxPoolin  (None, 45, 64)            0         \n",
      " g1D)                                                            \n",
      "                                                                 \n",
      " dropout_41 (Dropout)        (None, 45, 64)            0         \n",
      "                                                                 \n",
      " conv1d_8 (Conv1D)           (None, 43, 128)           24704     \n",
      "                                                                 \n",
      " batch_normalization_8 (Bat  (None, 43, 128)           512       \n",
      " chNormalization)                                                \n",
      "                                                                 \n",
      " max_pooling1d_8 (MaxPoolin  (None, 21, 128)           0         \n",
      " g1D)                                                            \n",
      "                                                                 \n",
      " dropout_42 (Dropout)        (None, 21, 128)           0         \n",
      "                                                                 \n",
      " flatten_2 (Flatten)         (None, 2688)              0         \n",
      "                                                                 \n",
      " dense_52 (Dense)            (None, 128)               344192    \n",
      "                                                                 \n",
      " dropout_43 (Dropout)        (None, 128)               0         \n",
      "                                                                 \n",
      " dense_53 (Dense)            (None, 5)                 645       \n",
      "                                                                 \n",
      "=================================================================\n",
      "Total params: 376773 (1.44 MB)\n",
      "Trainable params: 376325 (1.44 MB)\n",
      "Non-trainable params: 448 (1.75 KB)\n",
      "_________________________________________________________________\n"
     ]
    }
   ],
   "source": [
    "# Definir el modelo CNN\n",
    "def crear_modelo_cnn(input_shape, num_clases):\n",
    "    modelo = Sequential()\n",
    "\n",
    "    # Primera capa convolucional\n",
    "    modelo.add(Conv1D(filters=32, kernel_size=3, activation='relu', input_shape=input_shape))\n",
    "    modelo.add(BatchNormalization())  # Batch Normalization\n",
    "    modelo.add(MaxPooling1D(pool_size=2))  # MaxPooling para reducir dimensionalidad\n",
    "    modelo.add(Dropout(0.3))  # Dropout para evitar sobreajuste\n",
    "\n",
    "    # Segunda capa convolucional\n",
    "    modelo.add(Conv1D(filters=64, kernel_size=3, activation='relu'))\n",
    "    modelo.add(BatchNormalization())\n",
    "    modelo.add(MaxPooling1D(pool_size=2))\n",
    "    modelo.add(Dropout(0.3))\n",
    "\n",
    "    # Tercera capa convolucional\n",
    "    modelo.add(Conv1D(filters=128, kernel_size=3, activation='relu'))\n",
    "    modelo.add(BatchNormalization())\n",
    "    modelo.add(MaxPooling1D(pool_size=2))\n",
    "    modelo.add(Dropout(0.4))\n",
    "\n",
    "    # Capa completamente conectada\n",
    "    modelo.add(Flatten())  # Aplanar la salida de las capas convolucionales\n",
    "    modelo.add(Dense(128, activation='relu'))  # Capa densa intermedia\n",
    "    modelo.add(Dropout(0.4))  # Dropout adicional\n",
    "\n",
    "    # Capa de salida\n",
    "    modelo.add(Dense(num_clases, activation='softmax'))  # Softmax para clasificación multiclase\n",
    "\n",
    "    # Compilar el modelo\n",
    "    modelo.compile(\n",
    "        optimizer=Adam(learning_rate=0.001),\n",
    "        loss='categorical_crossentropy',\n",
    "        metrics=['accuracy']\n",
    "    )\n",
    "\n",
    "    return modelo\n",
    "\n",
    "# Crear el modelo CNN\n",
    "input_shape = x_train.shape[1:]  # Forma de entrada (señales ya preprocesadas y normalizadas)\n",
    "num_clases = y_train.shape[1]  # Número de clases en formato One-Hot Encoding\n",
    "modelo_cnn = crear_modelo_cnn(input_shape, num_clases)\n",
    "\n",
    "# Mostrar resumen del modelo\n",
    "modelo_cnn.summary()\n"
   ]
  },
  {
   "cell_type": "code",
   "execution_count": null,
   "metadata": {},
   "outputs": [
    {
     "name": "stdout",
     "output_type": "stream",
     "text": [
      "Epoch 1/20\n",
      "4529/4530 [============================>.] - ETA: 0s - loss: 0.3426 - accuracy: 0.8752\n",
      "Epoch 1: val_loss improved from inf to 0.22452, saving model to modelo_cnn_checkpoint.h5\n",
      "4530/4530 [==============================] - 319s 70ms/step - loss: 0.3425 - accuracy: 0.8752 - val_loss: 0.2245 - val_accuracy: 0.9225\n",
      "Epoch 2/20\n"
     ]
    },
    {
     "name": "stderr",
     "output_type": "stream",
     "text": [
      "d:\\Documentos\\Proyectos\\sem_IA2\\.venv\\lib\\site-packages\\keras\\src\\engine\\training.py:3000: UserWarning:\n",
      "\n",
      "You are saving your model as an HDF5 file via `model.save()`. This file format is considered legacy. We recommend using instead the native Keras format, e.g. `model.save('my_model.keras')`.\n",
      "\n"
     ]
    },
    {
     "name": "stdout",
     "output_type": "stream",
     "text": [
      "4529/4530 [============================>.] - ETA: 0s - loss: 0.1770 - accuracy: 0.9357\n",
      "Epoch 2: val_loss improved from 0.22452 to 0.08986, saving model to modelo_cnn_checkpoint.h5\n",
      "4530/4530 [==============================] - 320s 71ms/step - loss: 0.1770 - accuracy: 0.9357 - val_loss: 0.0899 - val_accuracy: 0.9691\n",
      "Epoch 3/20\n",
      "4529/4530 [============================>.] - ETA: 0s - loss: 0.1394 - accuracy: 0.9500\n",
      "Epoch 3: val_loss improved from 0.08986 to 0.06498, saving model to modelo_cnn_checkpoint.h5\n",
      "4530/4530 [==============================] - 348s 77ms/step - loss: 0.1394 - accuracy: 0.9500 - val_loss: 0.0650 - val_accuracy: 0.9779\n",
      "Epoch 4/20\n",
      "4529/4530 [============================>.] - ETA: 0s - loss: 0.1207 - accuracy: 0.9566\n",
      "Epoch 4: val_loss improved from 0.06498 to 0.05470, saving model to modelo_cnn_checkpoint.h5\n",
      "4530/4530 [==============================] - 378s 83ms/step - loss: 0.1207 - accuracy: 0.9566 - val_loss: 0.0547 - val_accuracy: 0.9794\n",
      "Epoch 5/20\n",
      "4529/4530 [============================>.] - ETA: 0s - loss: 0.1067 - accuracy: 0.9622\n",
      "Epoch 5: val_loss did not improve from 0.05470\n",
      "4530/4530 [==============================] - 325s 72ms/step - loss: 0.1067 - accuracy: 0.9622 - val_loss: 0.0784 - val_accuracy: 0.9694\n",
      "Epoch 6/20\n",
      "4529/4530 [============================>.] - ETA: 0s - loss: 0.0960 - accuracy: 0.9662\n",
      "Epoch 6: val_loss improved from 0.05470 to 0.04721, saving model to modelo_cnn_checkpoint.h5\n",
      "4530/4530 [==============================] - 327s 72ms/step - loss: 0.0960 - accuracy: 0.9662 - val_loss: 0.0472 - val_accuracy: 0.9835\n",
      "Epoch 7/20\n",
      "4529/4530 [============================>.] - ETA: 0s - loss: 0.0902 - accuracy: 0.9682\n",
      "Epoch 7: val_loss did not improve from 0.04721\n",
      "4530/4530 [==============================] - 350s 77ms/step - loss: 0.0902 - accuracy: 0.9682 - val_loss: 0.0884 - val_accuracy: 0.9683\n",
      "Epoch 8/20\n",
      "4529/4530 [============================>.] - ETA: 0s - loss: 0.0835 - accuracy: 0.9705\n",
      "Epoch 8: val_loss improved from 0.04721 to 0.03304, saving model to modelo_cnn_checkpoint.h5\n",
      "4530/4530 [==============================] - 350s 77ms/step - loss: 0.0836 - accuracy: 0.9705 - val_loss: 0.0330 - val_accuracy: 0.9886\n",
      "Epoch 9/20\n",
      "4529/4530 [============================>.] - ETA: 0s - loss: 0.0784 - accuracy: 0.9723\n",
      "Epoch 9: val_loss did not improve from 0.03304\n",
      "4530/4530 [==============================] - 343s 76ms/step - loss: 0.0784 - accuracy: 0.9723 - val_loss: 0.0343 - val_accuracy: 0.9881\n",
      "Epoch 10/20\n",
      "4529/4530 [============================>.] - ETA: 0s - loss: 0.0761 - accuracy: 0.9731\n",
      "Epoch 10: val_loss did not improve from 0.03304\n",
      "4530/4530 [==============================] - 344s 76ms/step - loss: 0.0761 - accuracy: 0.9731 - val_loss: 0.0382 - val_accuracy: 0.9862\n",
      "Epoch 11/20\n",
      "4529/4530 [============================>.] - ETA: 0s - loss: 0.0722 - accuracy: 0.9747\n",
      "Epoch 11: val_loss improved from 0.03304 to 0.03124, saving model to modelo_cnn_checkpoint.h5\n",
      "4530/4530 [==============================] - 340s 75ms/step - loss: 0.0722 - accuracy: 0.9747 - val_loss: 0.0312 - val_accuracy: 0.9911\n",
      "Epoch 12/20\n",
      "4530/4530 [==============================] - ETA: 0s - loss: 0.0696 - accuracy: 0.9756\n",
      "Epoch 12: val_loss did not improve from 0.03124\n",
      "4530/4530 [==============================] - 340s 75ms/step - loss: 0.0696 - accuracy: 0.9756 - val_loss: 0.0772 - val_accuracy: 0.9703\n",
      "Epoch 13/20\n",
      "4529/4530 [============================>.] - ETA: 0s - loss: 0.0674 - accuracy: 0.9764\n",
      "Epoch 13: val_loss improved from 0.03124 to 0.02642, saving model to modelo_cnn_checkpoint.h5\n",
      "4530/4530 [==============================] - 341s 75ms/step - loss: 0.0674 - accuracy: 0.9764 - val_loss: 0.0264 - val_accuracy: 0.9914\n",
      "Epoch 14/20\n",
      "4529/4530 [============================>.] - ETA: 0s - loss: 0.0659 - accuracy: 0.9768\n",
      "Epoch 14: val_loss did not improve from 0.02642\n",
      "4530/4530 [==============================] - 343s 76ms/step - loss: 0.0659 - accuracy: 0.9768 - val_loss: 0.0275 - val_accuracy: 0.9916\n",
      "Epoch 15/20\n",
      "4530/4530 [==============================] - ETA: 0s - loss: 0.0638 - accuracy: 0.9776\n",
      "Epoch 15: val_loss improved from 0.02642 to 0.02420, saving model to modelo_cnn_checkpoint.h5\n",
      "4530/4530 [==============================] - 344s 76ms/step - loss: 0.0638 - accuracy: 0.9776 - val_loss: 0.0242 - val_accuracy: 0.9924\n",
      "Epoch 16/20\n",
      "4529/4530 [============================>.] - ETA: 0s - loss: 0.0619 - accuracy: 0.9782\n",
      "Epoch 16: val_loss did not improve from 0.02420\n",
      "4530/4530 [==============================] - 349s 77ms/step - loss: 0.0619 - accuracy: 0.9782 - val_loss: 0.0243 - val_accuracy: 0.9921\n",
      "Epoch 17/20\n",
      "4529/4530 [============================>.] - ETA: 0s - loss: 0.0597 - accuracy: 0.9792\n",
      "Epoch 17: val_loss improved from 0.02420 to 0.02392, saving model to modelo_cnn_checkpoint.h5\n",
      "4530/4530 [==============================] - 343s 76ms/step - loss: 0.0597 - accuracy: 0.9792 - val_loss: 0.0239 - val_accuracy: 0.9920\n",
      "Epoch 18/20\n",
      "4529/4530 [============================>.] - ETA: 0s - loss: 0.0593 - accuracy: 0.9795\n",
      "Epoch 18: val_loss did not improve from 0.02392\n",
      "4530/4530 [==============================] - 348s 77ms/step - loss: 0.0593 - accuracy: 0.9795 - val_loss: 0.0249 - val_accuracy: 0.9915\n",
      "Epoch 19/20\n",
      "4529/4530 [============================>.] - ETA: 0s - loss: 0.0581 - accuracy: 0.9800\n",
      "Epoch 19: val_loss improved from 0.02392 to 0.02180, saving model to modelo_cnn_checkpoint.h5\n",
      "4530/4530 [==============================] - 347s 77ms/step - loss: 0.0581 - accuracy: 0.9800 - val_loss: 0.0218 - val_accuracy: 0.9934\n",
      "Epoch 20/20\n",
      "4529/4530 [============================>.] - ETA: 0s - loss: 0.0563 - accuracy: 0.9803\n",
      "Epoch 20: val_loss did not improve from 0.02180\n",
      "4530/4530 [==============================] - 347s 77ms/step - loss: 0.0563 - accuracy: 0.9803 - val_loss: 0.0288 - val_accuracy: 0.9916\n",
      "\n",
      "Cargando el mejor modelo desde el checkpoint...\n",
      "685/685 [==============================] - 6s 8ms/step - loss: 0.0917 - accuracy: 0.9735\n",
      "\n",
      "Pérdida en prueba: 0.0917\n",
      "Precisión en prueba: 0.9735\n"
     ]
    },
    {
     "data": {
      "image/png": "[encoded data removed]",
      "text/plain": [
       "<Figure size 1000x600 with 1 Axes>"
      ]
     },
     "metadata": {},
     "output_type": "display_data"
    },
    {
     "data": {
      "image/png": "[encoded data removed]",
      "text/plain": [
       "<Figure size 1000x600 with 1 Axes>"
      ]
     },
     "metadata": {},
     "output_type": "display_data"
    }
   ],
   "source": [
    "# Cargar el modelo desde el checkpoint existente\n",
    "model_path = 'modelo_cnn_checkpoint.h5'\n",
    "if os.path.exists(model_path):\n",
    "    print(\"\\nCargando el modelo desde el checkpoint...\")\n",
    "    modelo_rnn = tf.keras.models.load_model(model_path)\n",
    "else:\n",
    "    raise FileNotFoundError(f\"El checkpoint '{model_path}' no existe. Por favor, asegúrate de haber guardado el modelo previamente.\")\n",
    "\n",
    "# Guardar el mejor modelo\n",
    "checkpoint = ModelCheckpoint(filepath='modelo_cnn_checkpoint.h5', save_best_only=True, monitor='val_loss', verbose=1)\n",
    "early_stopping = EarlyStopping(monitor='val_loss', patience=5, restore_best_weights=True)\n",
    "\n",
    "# Entrenar el modelo\n",
    "history_cnn = modelo_cnn.fit(\n",
    "    x_train, y_train,  # Datos de entrenamiento\n",
    "    validation_data=(x_val, y_val),  # Datos de validación\n",
    "    epochs=20,\n",
    "    batch_size=64,\n",
    "    callbacks=[checkpoint, early_stopping]\n",
    ")\n",
    "\n",
    "# Evaluar el modelo en el conjunto de prueba\n",
    "print(\"\\nCargando el mejor modelo desde el checkpoint...\")\n",
    "modelo_cnn = tf.keras.models.load_model('modelo_cnn_checkpoint.h5')\n",
    "\n",
    "loss, accuracy = modelo_cnn.evaluate(x_test, y_test)\n",
    "print(f\"\\nPérdida en prueba: {loss:.4f}\")\n",
    "print(f\"Precisión en prueba: {accuracy:.4f}\")\n",
    "\n",
    "# Crear gráficos de métricas\n",
    "plot_metrics(history_cnn)"
   ]
  },
  {
   "cell_type": "code",
   "execution_count": 63,
   "metadata": {},
   "outputs": [
    {
     "data": {
      "image/png": "[encoded data removed]",
      "text/plain": [
       "<Figure size 1000x600 with 1 Axes>"
      ]
     },
     "metadata": {},
     "output_type": "display_data"
    },
    {
     "data": {
      "image/png": "[encoded data removed]",
      "text/plain": [
       "<Figure size 1000x600 with 1 Axes>"
      ]
     },
     "metadata": {},
     "output_type": "display_data"
    }
   ],
   "source": [
    "# Crear tablas de precisión y pérdida\n",
    "def plot_metrics(history):\n",
    "    # Crear un DataFrame con las métricas\n",
    "    metrics_df = pd.DataFrame({\n",
    "        'Época': range(1, len(history.history['accuracy']) + 1),\n",
    "        'Precisión de Entrenamiento': history.history['accuracy'],\n",
    "        'Precisión de Validación': history.history['val_accuracy'],\n",
    "        'Pérdida de Entrenamiento': history.history['loss'],\n",
    "        'Pérdida de Validación': history.history['val_loss']\n",
    "    })\n",
    "\n",
    "    # Plot de Precisión\n",
    "    plt.figure(figsize=(10, 6))\n",
    "    sns.lineplot(x='Época', y='value', hue='variable',\n",
    "                 data=metrics_df.melt(id_vars=['Época'], value_vars=[\n",
    "                     'Precisión de Entrenamiento', 'Precisión de Validación']))\n",
    "    plt.title('Precisión durante el entrenamiento', fontsize=16)\n",
    "    plt.xlabel('Épocas', fontsize=12)\n",
    "    plt.ylabel('Precisión', fontsize=12)\n",
    "    plt.legend(title='Tipo', loc='lower right')\n",
    "    plt.grid(visible=True, linestyle='--', linewidth=0.5)\n",
    "    plt.show()\n",
    "\n",
    "    # Plot de Pérdida\n",
    "    plt.figure(figsize=(10, 6))\n",
    "    sns.lineplot(x='Época', y='value', hue='variable',\n",
    "                 data=metrics_df.melt(id_vars=['Época'], value_vars=[\n",
    "                     'Pérdida de Entrenamiento', 'Pérdida de Validación']))\n",
    "    plt.title('Pérdida durante el entrenamiento', fontsize=16)\n",
    "    plt.xlabel('Épocas', fontsize=12)\n",
    "    plt.ylabel('Pérdida', fontsize=12)\n",
    "    plt.legend(title='Tipo', loc='upper right')\n",
    "    plt.grid(visible=True, linestyle='--', linewidth=0.5)\n",
    "    plt.show()\n",
    "\n",
    "# Llamar a la función para graficar\n",
    "plot_metrics(history_cnn)\n"
   ]
  },
  {
   "cell_type": "markdown",
   "metadata": {},
   "source": [
    "2.\tDefinición del Modelo:\n",
    "    \n",
    "        c) Prueba 3: Modelo RNN (Red Neuronal Recurrente)\n",
    "        \n",
    "    -\tImplementar una RNN, específicamente utilizando capas LSTM, para capturar dependencias temporales en las señales de ECG.\n",
    "\n",
    "    -\tAgregar varias capas LSTM con un número adecuado de unidades y usar capas Dropout para mejorar la generalización.\n",
    "\n",
    "    -\tLa capa de salida debe tener tantas neuronas como clases de arritmias, usando una función de activación softmax.\n",
    "\n",
    "    -   Compilar el modelo usando un optimizador como Adam y categorical_crossentropy como función de pérdida. \n"
   ]
  },
  {
   "cell_type": "code",
   "execution_count": null,
   "metadata": {},
   "outputs": [
    {
     "name": "stdout",
     "output_type": "stream",
     "text": [
      "Model: \"sequential_20\"\n",
      "_________________________________________________________________\n",
      " Layer (type)                Output Shape              Param #   \n",
      "=================================================================\n",
      " lstm_2 (LSTM)               (None, 187, 64)           16896     \n",
      "                                                                 \n",
      " dropout_46 (Dropout)        (None, 187, 64)           0         \n",
      "                                                                 \n",
      " lstm_3 (LSTM)               (None, 64)                33024     \n",
      "                                                                 \n",
      " dropout_47 (Dropout)        (None, 64)                0         \n",
      "                                                                 \n",
      " dense_55 (Dense)            (None, 5)                 325       \n",
      "                                                                 \n",
      "=================================================================\n",
      "Total params: 50245 (196.27 KB)\n",
      "Trainable params: 50245 (196.27 KB)\n",
      "Non-trainable params: 0 (0.00 Byte)\n",
      "_________________________________________________________________\n"
     ]
    }
   ],
   "source": [
    "# Definir el modelo RNN con capas LSTM\n",
    "def crear_modelo_rnn(input_shape, num_clases):\n",
    "    modelo = Sequential()\n",
    "    \n",
    "    # Primera capa LSTM\n",
    "    modelo.add(LSTM(128, activation='tanh', return_sequences=True, input_shape=input_shape))\n",
    "    modelo.add(Dropout(0.3))  # Dropout para reducir sobreajuste\n",
    "\n",
    "    # Segunda capa LSTM\n",
    "    modelo.add(LSTM(128, activation='tanh', return_sequences=False))\n",
    "    modelo.add(Dropout(0.3))  # Dropout para reducir sobreajuste\n",
    "\n",
    "    # Capa de salida\n",
    "    modelo.add(Dense(num_clases, activation='softmax'))  # Softmax para clasificación multiclase\n",
    "\n",
    "    # Compilar el modelo\n",
    "    modelo.compile(\n",
    "        optimizer=Adam(learning_rate=0.0001),\n",
    "        loss='categorical_crossentropy',\n",
    "        metrics=['accuracy']\n",
    "    )\n",
    "\n",
    "    return modelo\n",
    "\n",
    "# Crear el modelo RNN\n",
    "input_shape = (x_train.shape[1], x_train.shape[2])  # Dimensiones de entrada (tiempo, características)\n",
    "num_clases = y_train.shape[1]  # Número de clases en formato One-Hot Encoding\n",
    "modelo_rnn = crear_modelo_rnn(input_shape, num_clases)\n",
    "\n",
    "# Mostrar resumen del modelo\n",
    "modelo_rnn.summary()"
   ]
  },
  {
   "cell_type": "code",
   "execution_count": 77,
   "metadata": {},
   "outputs": [
    {
     "name": "stdout",
     "output_type": "stream",
     "text": [
      "\n",
      "Cargando el modelo desde el checkpoint...\n",
      "\n",
      "Continuando el entrenamiento del modelo...\n",
      "Epoch 1/5\n"
     ]
    },
    {
     "ename": "KeyboardInterrupt",
     "evalue": "",
     "output_type": "error",
     "traceback": [
      "\u001b[1;31m---------------------------------------------------------------------------\u001b[0m",
      "\u001b[1;31mKeyboardInterrupt\u001b[0m                         Traceback (most recent call last)",
      "Cell \u001b[1;32mIn[77], line 15\u001b[0m\n\u001b[0;32m     13\u001b[0m \u001b[38;5;66;03m# Continuar el entrenamiento del modelo\u001b[39;00m\n\u001b[0;32m     14\u001b[0m \u001b[38;5;28mprint\u001b[39m(\u001b[38;5;124m\"\u001b[39m\u001b[38;5;130;01m\\n\u001b[39;00m\u001b[38;5;124mContinuando el entrenamiento del modelo...\u001b[39m\u001b[38;5;124m\"\u001b[39m)\n\u001b[1;32m---> 15\u001b[0m history_rnn \u001b[38;5;241m=\u001b[39m \u001b[43mmodelo_rnn\u001b[49m\u001b[38;5;241;43m.\u001b[39;49m\u001b[43mfit\u001b[49m\u001b[43m(\u001b[49m\n\u001b[0;32m     16\u001b[0m \u001b[43m    \u001b[49m\u001b[43mx_train\u001b[49m\u001b[43m,\u001b[49m\u001b[43m \u001b[49m\u001b[43my_train\u001b[49m\u001b[43m,\u001b[49m\u001b[43m  \u001b[49m\u001b[38;5;66;43;03m# Datos de entrenamiento\u001b[39;49;00m\n\u001b[0;32m     17\u001b[0m \u001b[43m    \u001b[49m\u001b[43mvalidation_data\u001b[49m\u001b[38;5;241;43m=\u001b[39;49m\u001b[43m(\u001b[49m\u001b[43mx_val\u001b[49m\u001b[43m,\u001b[49m\u001b[43m \u001b[49m\u001b[43my_val\u001b[49m\u001b[43m)\u001b[49m\u001b[43m,\u001b[49m\u001b[43m  \u001b[49m\u001b[38;5;66;43;03m# Datos de validación\u001b[39;49;00m\n\u001b[0;32m     18\u001b[0m \u001b[43m    \u001b[49m\u001b[43mepochs\u001b[49m\u001b[38;5;241;43m=\u001b[39;49m\u001b[38;5;241;43m5\u001b[39;49m\u001b[43m,\u001b[49m\u001b[43m  \u001b[49m\u001b[38;5;66;43;03m# Número adicional de épocas\u001b[39;49;00m\n\u001b[0;32m     19\u001b[0m \u001b[43m    \u001b[49m\u001b[43mbatch_size\u001b[49m\u001b[38;5;241;43m=\u001b[39;49m\u001b[38;5;241;43m32\u001b[39;49m\u001b[43m,\u001b[49m\n\u001b[0;32m     20\u001b[0m \u001b[43m    \u001b[49m\u001b[43mcallbacks\u001b[49m\u001b[38;5;241;43m=\u001b[39;49m\u001b[43m[\u001b[49m\u001b[43mcheckpoint\u001b[49m\u001b[43m,\u001b[49m\u001b[43m \u001b[49m\u001b[43mearly_stopping\u001b[49m\u001b[43m]\u001b[49m\n\u001b[0;32m     21\u001b[0m \u001b[43m)\u001b[49m\n\u001b[0;32m     23\u001b[0m \u001b[38;5;66;03m# Evaluar el modelo nuevamente en el conjunto de prueba\u001b[39;00m\n\u001b[0;32m     24\u001b[0m \u001b[38;5;28mprint\u001b[39m(\u001b[38;5;124m\"\u001b[39m\u001b[38;5;130;01m\\n\u001b[39;00m\u001b[38;5;124mEvaluando el modelo actualizado en el conjunto de prueba...\u001b[39m\u001b[38;5;124m\"\u001b[39m)\n",
      "File \u001b[1;32md:\\Documentos\\Proyectos\\sem_IA2\\.venv\\lib\\site-packages\\keras\\src\\utils\\traceback_utils.py:65\u001b[0m, in \u001b[0;36mfilter_traceback.<locals>.error_handler\u001b[1;34m(*args, **kwargs)\u001b[0m\n\u001b[0;32m     63\u001b[0m filtered_tb \u001b[38;5;241m=\u001b[39m \u001b[38;5;28;01mNone\u001b[39;00m\n\u001b[0;32m     64\u001b[0m \u001b[38;5;28;01mtry\u001b[39;00m:\n\u001b[1;32m---> 65\u001b[0m     \u001b[38;5;28;01mreturn\u001b[39;00m \u001b[43mfn\u001b[49m\u001b[43m(\u001b[49m\u001b[38;5;241;43m*\u001b[39;49m\u001b[43margs\u001b[49m\u001b[43m,\u001b[49m\u001b[43m \u001b[49m\u001b[38;5;241;43m*\u001b[39;49m\u001b[38;5;241;43m*\u001b[39;49m\u001b[43mkwargs\u001b[49m\u001b[43m)\u001b[49m\n\u001b[0;32m     66\u001b[0m \u001b[38;5;28;01mexcept\u001b[39;00m \u001b[38;5;167;01mException\u001b[39;00m \u001b[38;5;28;01mas\u001b[39;00m e:\n\u001b[0;32m     67\u001b[0m     filtered_tb \u001b[38;5;241m=\u001b[39m _process_traceback_frames(e\u001b[38;5;241m.\u001b[39m__traceback__)\n",
      "File \u001b[1;32md:\\Documentos\\Proyectos\\sem_IA2\\.venv\\lib\\site-packages\\keras\\src\\engine\\training.py:1742\u001b[0m, in \u001b[0;36mModel.fit\u001b[1;34m(self, x, y, batch_size, epochs, verbose, callbacks, validation_split, validation_data, shuffle, class_weight, sample_weight, initial_epoch, steps_per_epoch, validation_steps, validation_batch_size, validation_freq, max_queue_size, workers, use_multiprocessing)\u001b[0m\n\u001b[0;32m   1734\u001b[0m \u001b[38;5;28;01mwith\u001b[39;00m tf\u001b[38;5;241m.\u001b[39mprofiler\u001b[38;5;241m.\u001b[39mexperimental\u001b[38;5;241m.\u001b[39mTrace(\n\u001b[0;32m   1735\u001b[0m     \u001b[38;5;124m\"\u001b[39m\u001b[38;5;124mtrain\u001b[39m\u001b[38;5;124m\"\u001b[39m,\n\u001b[0;32m   1736\u001b[0m     epoch_num\u001b[38;5;241m=\u001b[39mepoch,\n\u001b[1;32m   (...)\u001b[0m\n\u001b[0;32m   1739\u001b[0m     _r\u001b[38;5;241m=\u001b[39m\u001b[38;5;241m1\u001b[39m,\n\u001b[0;32m   1740\u001b[0m ):\n\u001b[0;32m   1741\u001b[0m     callbacks\u001b[38;5;241m.\u001b[39mon_train_batch_begin(step)\n\u001b[1;32m-> 1742\u001b[0m     tmp_logs \u001b[38;5;241m=\u001b[39m \u001b[38;5;28;43mself\u001b[39;49m\u001b[38;5;241;43m.\u001b[39;49m\u001b[43mtrain_function\u001b[49m\u001b[43m(\u001b[49m\u001b[43miterator\u001b[49m\u001b[43m)\u001b[49m\n\u001b[0;32m   1743\u001b[0m     \u001b[38;5;28;01mif\u001b[39;00m data_handler\u001b[38;5;241m.\u001b[39mshould_sync:\n\u001b[0;32m   1744\u001b[0m         context\u001b[38;5;241m.\u001b[39masync_wait()\n",
      "File \u001b[1;32md:\\Documentos\\Proyectos\\sem_IA2\\.venv\\lib\\site-packages\\tensorflow\\python\\util\\traceback_utils.py:150\u001b[0m, in \u001b[0;36mfilter_traceback.<locals>.error_handler\u001b[1;34m(*args, **kwargs)\u001b[0m\n\u001b[0;32m    148\u001b[0m filtered_tb \u001b[38;5;241m=\u001b[39m \u001b[38;5;28;01mNone\u001b[39;00m\n\u001b[0;32m    149\u001b[0m \u001b[38;5;28;01mtry\u001b[39;00m:\n\u001b[1;32m--> 150\u001b[0m   \u001b[38;5;28;01mreturn\u001b[39;00m \u001b[43mfn\u001b[49m\u001b[43m(\u001b[49m\u001b[38;5;241;43m*\u001b[39;49m\u001b[43margs\u001b[49m\u001b[43m,\u001b[49m\u001b[43m \u001b[49m\u001b[38;5;241;43m*\u001b[39;49m\u001b[38;5;241;43m*\u001b[39;49m\u001b[43mkwargs\u001b[49m\u001b[43m)\u001b[49m\n\u001b[0;32m    151\u001b[0m \u001b[38;5;28;01mexcept\u001b[39;00m \u001b[38;5;167;01mException\u001b[39;00m \u001b[38;5;28;01mas\u001b[39;00m e:\n\u001b[0;32m    152\u001b[0m   filtered_tb \u001b[38;5;241m=\u001b[39m _process_traceback_frames(e\u001b[38;5;241m.\u001b[39m__traceback__)\n",
      "File \u001b[1;32md:\\Documentos\\Proyectos\\sem_IA2\\.venv\\lib\\site-packages\\tensorflow\\python\\eager\\polymorphic_function\\polymorphic_function.py:825\u001b[0m, in \u001b[0;36mFunction.__call__\u001b[1;34m(self, *args, **kwds)\u001b[0m\n\u001b[0;32m    822\u001b[0m compiler \u001b[38;5;241m=\u001b[39m \u001b[38;5;124m\"\u001b[39m\u001b[38;5;124mxla\u001b[39m\u001b[38;5;124m\"\u001b[39m \u001b[38;5;28;01mif\u001b[39;00m \u001b[38;5;28mself\u001b[39m\u001b[38;5;241m.\u001b[39m_jit_compile \u001b[38;5;28;01melse\u001b[39;00m \u001b[38;5;124m\"\u001b[39m\u001b[38;5;124mnonXla\u001b[39m\u001b[38;5;124m\"\u001b[39m\n\u001b[0;32m    824\u001b[0m \u001b[38;5;28;01mwith\u001b[39;00m OptionalXlaContext(\u001b[38;5;28mself\u001b[39m\u001b[38;5;241m.\u001b[39m_jit_compile):\n\u001b[1;32m--> 825\u001b[0m   result \u001b[38;5;241m=\u001b[39m \u001b[38;5;28;43mself\u001b[39;49m\u001b[38;5;241;43m.\u001b[39;49m\u001b[43m_call\u001b[49m\u001b[43m(\u001b[49m\u001b[38;5;241;43m*\u001b[39;49m\u001b[43margs\u001b[49m\u001b[43m,\u001b[49m\u001b[43m \u001b[49m\u001b[38;5;241;43m*\u001b[39;49m\u001b[38;5;241;43m*\u001b[39;49m\u001b[43mkwds\u001b[49m\u001b[43m)\u001b[49m\n\u001b[0;32m    827\u001b[0m new_tracing_count \u001b[38;5;241m=\u001b[39m \u001b[38;5;28mself\u001b[39m\u001b[38;5;241m.\u001b[39mexperimental_get_tracing_count()\n\u001b[0;32m    828\u001b[0m without_tracing \u001b[38;5;241m=\u001b[39m (tracing_count \u001b[38;5;241m==\u001b[39m new_tracing_count)\n",
      "File \u001b[1;32md:\\Documentos\\Proyectos\\sem_IA2\\.venv\\lib\\site-packages\\tensorflow\\python\\eager\\polymorphic_function\\polymorphic_function.py:897\u001b[0m, in \u001b[0;36mFunction._call\u001b[1;34m(self, *args, **kwds)\u001b[0m\n\u001b[0;32m    892\u001b[0m   _, _, filtered_flat_args \u001b[38;5;241m=\u001b[39m (\n\u001b[0;32m    893\u001b[0m       \u001b[38;5;28mself\u001b[39m\u001b[38;5;241m.\u001b[39m_variable_creation_fn\u001b[38;5;241m.\u001b[39m_function_spec  \u001b[38;5;66;03m# pylint: disable=protected-access\u001b[39;00m\n\u001b[0;32m    894\u001b[0m       \u001b[38;5;241m.\u001b[39mcanonicalize_function_inputs(\n\u001b[0;32m    895\u001b[0m           args, kwds))\n\u001b[0;32m    896\u001b[0m   \u001b[38;5;66;03m# If we did not create any variables the trace we have is good enough.\u001b[39;00m\n\u001b[1;32m--> 897\u001b[0m   \u001b[38;5;28;01mreturn\u001b[39;00m \u001b[38;5;28;43mself\u001b[39;49m\u001b[38;5;241;43m.\u001b[39;49m\u001b[43m_concrete_variable_creation_fn\u001b[49m\u001b[38;5;241;43m.\u001b[39;49m\u001b[43m_call_flat\u001b[49m\u001b[43m(\u001b[49m\u001b[43m   \u001b[49m\u001b[38;5;66;43;03m# pylint: disable=protected-access\u001b[39;49;00m\n\u001b[0;32m    898\u001b[0m \u001b[43m      \u001b[49m\u001b[43mfiltered_flat_args\u001b[49m\u001b[43m,\u001b[49m\n\u001b[0;32m    899\u001b[0m \u001b[43m      \u001b[49m\u001b[38;5;28;43mself\u001b[39;49m\u001b[38;5;241;43m.\u001b[39;49m\u001b[43m_concrete_variable_creation_fn\u001b[49m\u001b[38;5;241;43m.\u001b[39;49m\u001b[43mcaptured_inputs\u001b[49m\u001b[43m)\u001b[49m\n\u001b[0;32m    901\u001b[0m \u001b[38;5;28;01mdef\u001b[39;00m \u001b[38;5;21mfn_with_cond\u001b[39m(inner_args, inner_kwds, inner_filtered_flat_args):\n\u001b[0;32m    902\u001b[0m \u001b[38;5;250m  \u001b[39m\u001b[38;5;124;03m\"\"\"Conditionally runs initialization if it's needed.\"\"\"\u001b[39;00m\n",
      "File \u001b[1;32md:\\Documentos\\Proyectos\\sem_IA2\\.venv\\lib\\site-packages\\tensorflow\\python\\eager\\polymorphic_function\\monomorphic_function.py:1349\u001b[0m, in \u001b[0;36mConcreteFunction._call_flat\u001b[1;34m(self, args, captured_inputs)\u001b[0m\n\u001b[0;32m   1345\u001b[0m possible_gradient_type \u001b[38;5;241m=\u001b[39m gradients_util\u001b[38;5;241m.\u001b[39mPossibleTapeGradientTypes(args)\n\u001b[0;32m   1346\u001b[0m \u001b[38;5;28;01mif\u001b[39;00m (possible_gradient_type \u001b[38;5;241m==\u001b[39m gradients_util\u001b[38;5;241m.\u001b[39mPOSSIBLE_GRADIENT_TYPES_NONE\n\u001b[0;32m   1347\u001b[0m     \u001b[38;5;129;01mand\u001b[39;00m executing_eagerly):\n\u001b[0;32m   1348\u001b[0m   \u001b[38;5;66;03m# No tape is watching; skip to running the function.\u001b[39;00m\n\u001b[1;32m-> 1349\u001b[0m   \u001b[38;5;28;01mreturn\u001b[39;00m \u001b[38;5;28mself\u001b[39m\u001b[38;5;241m.\u001b[39m_build_call_outputs(\u001b[38;5;28;43mself\u001b[39;49m\u001b[38;5;241;43m.\u001b[39;49m\u001b[43m_inference_function\u001b[49m\u001b[43m(\u001b[49m\u001b[38;5;241;43m*\u001b[39;49m\u001b[43margs\u001b[49m\u001b[43m)\u001b[49m)\n\u001b[0;32m   1350\u001b[0m forward_backward \u001b[38;5;241m=\u001b[39m \u001b[38;5;28mself\u001b[39m\u001b[38;5;241m.\u001b[39m_select_forward_and_backward_functions(\n\u001b[0;32m   1351\u001b[0m     args,\n\u001b[0;32m   1352\u001b[0m     possible_gradient_type,\n\u001b[0;32m   1353\u001b[0m     executing_eagerly)\n\u001b[0;32m   1354\u001b[0m forward_function, args_with_tangents \u001b[38;5;241m=\u001b[39m forward_backward\u001b[38;5;241m.\u001b[39mforward()\n",
      "File \u001b[1;32md:\\Documentos\\Proyectos\\sem_IA2\\.venv\\lib\\site-packages\\tensorflow\\python\\eager\\polymorphic_function\\atomic_function.py:196\u001b[0m, in \u001b[0;36mAtomicFunction.__call__\u001b[1;34m(self, *args)\u001b[0m\n\u001b[0;32m    194\u001b[0m \u001b[38;5;28;01mwith\u001b[39;00m record\u001b[38;5;241m.\u001b[39mstop_recording():\n\u001b[0;32m    195\u001b[0m   \u001b[38;5;28;01mif\u001b[39;00m \u001b[38;5;28mself\u001b[39m\u001b[38;5;241m.\u001b[39m_bound_context\u001b[38;5;241m.\u001b[39mexecuting_eagerly():\n\u001b[1;32m--> 196\u001b[0m     outputs \u001b[38;5;241m=\u001b[39m \u001b[38;5;28;43mself\u001b[39;49m\u001b[38;5;241;43m.\u001b[39;49m\u001b[43m_bound_context\u001b[49m\u001b[38;5;241;43m.\u001b[39;49m\u001b[43mcall_function\u001b[49m\u001b[43m(\u001b[49m\n\u001b[0;32m    197\u001b[0m \u001b[43m        \u001b[49m\u001b[38;5;28;43mself\u001b[39;49m\u001b[38;5;241;43m.\u001b[39;49m\u001b[43mname\u001b[49m\u001b[43m,\u001b[49m\n\u001b[0;32m    198\u001b[0m \u001b[43m        \u001b[49m\u001b[38;5;28;43mlist\u001b[39;49m\u001b[43m(\u001b[49m\u001b[43margs\u001b[49m\u001b[43m)\u001b[49m\u001b[43m,\u001b[49m\n\u001b[0;32m    199\u001b[0m \u001b[43m        \u001b[49m\u001b[38;5;28;43mlen\u001b[39;49m\u001b[43m(\u001b[49m\u001b[38;5;28;43mself\u001b[39;49m\u001b[38;5;241;43m.\u001b[39;49m\u001b[43mfunction_type\u001b[49m\u001b[38;5;241;43m.\u001b[39;49m\u001b[43mflat_outputs\u001b[49m\u001b[43m)\u001b[49m\u001b[43m,\u001b[49m\n\u001b[0;32m    200\u001b[0m \u001b[43m    \u001b[49m\u001b[43m)\u001b[49m\n\u001b[0;32m    201\u001b[0m   \u001b[38;5;28;01melse\u001b[39;00m:\n\u001b[0;32m    202\u001b[0m     outputs \u001b[38;5;241m=\u001b[39m make_call_op_in_graph(\u001b[38;5;28mself\u001b[39m, \u001b[38;5;28mlist\u001b[39m(args))\n",
      "File \u001b[1;32md:\\Documentos\\Proyectos\\sem_IA2\\.venv\\lib\\site-packages\\tensorflow\\python\\eager\\context.py:1457\u001b[0m, in \u001b[0;36mContext.call_function\u001b[1;34m(self, name, tensor_inputs, num_outputs)\u001b[0m\n\u001b[0;32m   1455\u001b[0m cancellation_context \u001b[38;5;241m=\u001b[39m cancellation\u001b[38;5;241m.\u001b[39mcontext()\n\u001b[0;32m   1456\u001b[0m \u001b[38;5;28;01mif\u001b[39;00m cancellation_context \u001b[38;5;129;01mis\u001b[39;00m \u001b[38;5;28;01mNone\u001b[39;00m:\n\u001b[1;32m-> 1457\u001b[0m   outputs \u001b[38;5;241m=\u001b[39m \u001b[43mexecute\u001b[49m\u001b[38;5;241;43m.\u001b[39;49m\u001b[43mexecute\u001b[49m\u001b[43m(\u001b[49m\n\u001b[0;32m   1458\u001b[0m \u001b[43m      \u001b[49m\u001b[43mname\u001b[49m\u001b[38;5;241;43m.\u001b[39;49m\u001b[43mdecode\u001b[49m\u001b[43m(\u001b[49m\u001b[38;5;124;43m\"\u001b[39;49m\u001b[38;5;124;43mutf-8\u001b[39;49m\u001b[38;5;124;43m\"\u001b[39;49m\u001b[43m)\u001b[49m\u001b[43m,\u001b[49m\n\u001b[0;32m   1459\u001b[0m \u001b[43m      \u001b[49m\u001b[43mnum_outputs\u001b[49m\u001b[38;5;241;43m=\u001b[39;49m\u001b[43mnum_outputs\u001b[49m\u001b[43m,\u001b[49m\n\u001b[0;32m   1460\u001b[0m \u001b[43m      \u001b[49m\u001b[43minputs\u001b[49m\u001b[38;5;241;43m=\u001b[39;49m\u001b[43mtensor_inputs\u001b[49m\u001b[43m,\u001b[49m\n\u001b[0;32m   1461\u001b[0m \u001b[43m      \u001b[49m\u001b[43mattrs\u001b[49m\u001b[38;5;241;43m=\u001b[39;49m\u001b[43mattrs\u001b[49m\u001b[43m,\u001b[49m\n\u001b[0;32m   1462\u001b[0m \u001b[43m      \u001b[49m\u001b[43mctx\u001b[49m\u001b[38;5;241;43m=\u001b[39;49m\u001b[38;5;28;43mself\u001b[39;49m\u001b[43m,\u001b[49m\n\u001b[0;32m   1463\u001b[0m \u001b[43m  \u001b[49m\u001b[43m)\u001b[49m\n\u001b[0;32m   1464\u001b[0m \u001b[38;5;28;01melse\u001b[39;00m:\n\u001b[0;32m   1465\u001b[0m   outputs \u001b[38;5;241m=\u001b[39m execute\u001b[38;5;241m.\u001b[39mexecute_with_cancellation(\n\u001b[0;32m   1466\u001b[0m       name\u001b[38;5;241m.\u001b[39mdecode(\u001b[38;5;124m\"\u001b[39m\u001b[38;5;124mutf-8\u001b[39m\u001b[38;5;124m\"\u001b[39m),\n\u001b[0;32m   1467\u001b[0m       num_outputs\u001b[38;5;241m=\u001b[39mnum_outputs,\n\u001b[1;32m   (...)\u001b[0m\n\u001b[0;32m   1471\u001b[0m       cancellation_manager\u001b[38;5;241m=\u001b[39mcancellation_context,\n\u001b[0;32m   1472\u001b[0m   )\n",
      "File \u001b[1;32md:\\Documentos\\Proyectos\\sem_IA2\\.venv\\lib\\site-packages\\tensorflow\\python\\eager\\execute.py:53\u001b[0m, in \u001b[0;36mquick_execute\u001b[1;34m(op_name, num_outputs, inputs, attrs, ctx, name)\u001b[0m\n\u001b[0;32m     51\u001b[0m \u001b[38;5;28;01mtry\u001b[39;00m:\n\u001b[0;32m     52\u001b[0m   ctx\u001b[38;5;241m.\u001b[39mensure_initialized()\n\u001b[1;32m---> 53\u001b[0m   tensors \u001b[38;5;241m=\u001b[39m \u001b[43mpywrap_tfe\u001b[49m\u001b[38;5;241;43m.\u001b[39;49m\u001b[43mTFE_Py_Execute\u001b[49m\u001b[43m(\u001b[49m\u001b[43mctx\u001b[49m\u001b[38;5;241;43m.\u001b[39;49m\u001b[43m_handle\u001b[49m\u001b[43m,\u001b[49m\u001b[43m \u001b[49m\u001b[43mdevice_name\u001b[49m\u001b[43m,\u001b[49m\u001b[43m \u001b[49m\u001b[43mop_name\u001b[49m\u001b[43m,\u001b[49m\n\u001b[0;32m     54\u001b[0m \u001b[43m                                      \u001b[49m\u001b[43minputs\u001b[49m\u001b[43m,\u001b[49m\u001b[43m \u001b[49m\u001b[43mattrs\u001b[49m\u001b[43m,\u001b[49m\u001b[43m \u001b[49m\u001b[43mnum_outputs\u001b[49m\u001b[43m)\u001b[49m\n\u001b[0;32m     55\u001b[0m \u001b[38;5;28;01mexcept\u001b[39;00m core\u001b[38;5;241m.\u001b[39m_NotOkStatusException \u001b[38;5;28;01mas\u001b[39;00m e:\n\u001b[0;32m     56\u001b[0m   \u001b[38;5;28;01mif\u001b[39;00m name \u001b[38;5;129;01mis\u001b[39;00m \u001b[38;5;129;01mnot\u001b[39;00m \u001b[38;5;28;01mNone\u001b[39;00m:\n",
      "\u001b[1;31mKeyboardInterrupt\u001b[0m: "
     ]
    }
   ],
   "source": [
    "# Cargar el modelo desde el checkpoint existente\n",
    "model_path = 'modelo_rnn_checkpoint.h5'\n",
    "if os.path.exists(model_path):\n",
    "    print(\"\\nCargando el modelo desde el checkpoint...\")\n",
    "    modelo_rnn = tf.keras.models.load_model(model_path)\n",
    "else:\n",
    "    raise FileNotFoundError(f\"El checkpoint '{model_path}' no existe. Por favor, asegúrate de haber guardado el modelo previamente.\")\n",
    "\n",
    "# Guardar nuevamente el mejor modelo durante el nuevo entrenamiento\n",
    "checkpoint = ModelCheckpoint(filepath=model_path, save_best_only=True, monitor='val_accuracy', verbose=1)\n",
    "early_stopping = EarlyStopping(monitor='val_accuracy', patience=5, restore_best_weights=True)\n",
    "\n",
    "# Continuar el entrenamiento del modelo\n",
    "print(\"\\nContinuando el entrenamiento del modelo...\")\n",
    "history_rnn = modelo_rnn.fit(\n",
    "    x_train, y_train,  # Datos de entrenamiento\n",
    "    validation_data=(x_val, y_val),  # Datos de validación\n",
    "    epochs=5,  # Número adicional de épocas\n",
    "    batch_size=32,\n",
    "    callbacks=[checkpoint, early_stopping]\n",
    ")\n",
    "\n",
    "# Evaluar el modelo nuevamente en el conjunto de prueba\n",
    "print(\"\\nEvaluando el modelo actualizado en el conjunto de prueba...\")\n",
    "loss, accuracy = modelo_rnn.evaluate(x_test, y_test)\n",
    "print(f\"\\nPérdida en prueba: {loss:.4f}\")\n",
    "print(f\"Precisión en prueba: {accuracy:.4f}\")\n"
   ]
  },
  {
   "cell_type": "code",
   "execution_count": 75,
   "metadata": {},
   "outputs": [
    {
     "data": {
      "image/png": "[encoded data removed]",
      "text/plain": [
       "<Figure size 1000x600 with 1 Axes>"
      ]
     },
     "metadata": {},
     "output_type": "display_data"
    },
    {
     "data": {
      "image/png": "[encoded data removed]",
      "text/plain": [
       "<Figure size 1000x600 with 1 Axes>"
      ]
     },
     "metadata": {},
     "output_type": "display_data"
    }
   ],
   "source": [
    "# Crear tablas de precisión y pérdida\n",
    "def plot_metrics(history):\n",
    "    # Crear un DataFrame con las métricas\n",
    "    metrics_df = pd.DataFrame({\n",
    "        'Época': range(1, len(history.history['accuracy']) + 1),\n",
    "        'Precisión de Entrenamiento': history.history['accuracy'],\n",
    "        'Precisión de Validación': history.history['val_accuracy'],\n",
    "        'Pérdida de Entrenamiento': history.history['loss'],\n",
    "        'Pérdida de Validación': history.history['val_loss']\n",
    "    })\n",
    "\n",
    "    # Plot de Precisión\n",
    "    plt.figure(figsize=(10, 6))\n",
    "    sns.lineplot(x='Época', y='value', hue='variable',\n",
    "                 data=metrics_df.melt(id_vars=['Época'], value_vars=[\n",
    "                     'Precisión de Entrenamiento', 'Precisión de Validación']))\n",
    "    plt.title('Precisión durante el entrenamiento', fontsize=16)\n",
    "    plt.xlabel('Épocas', fontsize=12)\n",
    "    plt.ylabel('Precisión', fontsize=12)\n",
    "    plt.legend(title='Tipo', loc='lower right')\n",
    "    plt.grid(visible=True, linestyle='--', linewidth=0.5)\n",
    "    plt.show()\n",
    "\n",
    "    # Plot de Pérdida\n",
    "    plt.figure(figsize=(10, 6))\n",
    "    sns.lineplot(x='Época', y='value', hue='variable',\n",
    "                 data=metrics_df.melt(id_vars=['Época'], value_vars=[\n",
    "                     'Pérdida de Entrenamiento', 'Pérdida de Validación']))\n",
    "    plt.title('Pérdida durante el entrenamiento', fontsize=16)\n",
    "    plt.xlabel('Épocas', fontsize=12)\n",
    "    plt.ylabel('Pérdida', fontsize=12)\n",
    "    plt.legend(title='Tipo', loc='upper right')\n",
    "    plt.grid(visible=True, linestyle='--', linewidth=0.5)\n",
    "    plt.show()\n",
    "\n",
    "# Llamar a la función para graficar\n",
    "plot_metrics(history_rnn)\n"
   ]
  },
  {
   "cell_type": "markdown",
   "metadata": {},
   "source": [
    "3.\tAjuste de Hiperparámetros y Fine-tuning:\n",
    "\n",
    "    - Para cada modelo (ANN, CNN, RNN), ajustar el número de capas, unidades filtros por capa, tasa de aprendizaje y épocas de entrenamiento hasta obtener buenos resultados en términos de precisión.\n",
    "\n",
    "     - En el caso de la RNN, ajustar el tamaño de la ventana temporal para captar mejor las características temporales de la señal.\n"
   ]
  },
  {
   "cell_type": "code",
   "execution_count": null,
   "metadata": {},
   "outputs": [],
   "source": []
  },
  {
   "cell_type": "markdown",
   "metadata": {},
   "source": [
    "4.\tEvaluación y Métricas:\n",
    "\n",
    "    -\tEvaluar el desempeño de cada modelo en el conjunto de validación utilizando métricas como precisión, recall, F1-score y pérdida.\n",
    "\n",
    "    -\tGenerar y analizar la matriz de confusión para observar la precisión de cada clase de arritmia.\n",
    "\n",
    "    -\tGraficar la evolución de la precisión y la pérdida durante el entrenamiento y la validación para cada modelo.\n"
   ]
  },
  {
   "cell_type": "code",
   "execution_count": null,
   "metadata": {},
   "outputs": [],
   "source": []
  },
  {
   "cell_type": "markdown",
   "metadata": {},
   "source": [
    "5.\tComparación y Conclusiones:\n",
    "\n",
    "    -\tComparar los resultados obtenidos entre los modelos ANN, CNN y RNN en términos de precisión, tiempo de entrenamiento y capacidad de generalización.\n",
    "\n",
    "    -\tEvaluar si alguna de las arquitecturas proporciona una ventaja significativa en la clasificación de arritmias.\n",
    "\n",
    "    -\tExtraer conclusiones sobre cuál modelo es más adecuado para la clasificación de arritmias, proponiendo mejoras para experimentos futuros, como la implementación de técnicas de aumento de datos y el uso de arquitecturas avanzadas.\n"
   ]
  },
  {
   "cell_type": "code",
   "execution_count": null,
   "metadata": {},
   "outputs": [],
   "source": []
  }
 ],
 "metadata": {
  "kernelspec": {
   "display_name": ".venv",
   "language": "python",
   "name": "python3"
  },
  "language_info": {
   "codemirror_mode": {
    "name": "ipython",
    "version": 3
   },
   "file_extension": ".py",
   "mimetype": "text/x-python",
   "name": "python",
   "nbconvert_exporter": "python",
   "pygments_lexer": "ipython3",
   "version": "3.8.0"
  }
 },
 "nbformat": 4,
 "nbformat_minor": 2
}
