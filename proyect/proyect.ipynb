{
 "cells": [
  {
   "cell_type": "markdown",
   "metadata": {},
   "source": [
    "\n",
    "# Proyecto. Aplicacion de Redes Neuronales\n",
    "\n",
    "Hernandez Martinez Mally Samira | Código: 220286113 | Ingenieria de computacion (INCO) \n",
    "\n",
    "Seminario de Solucion de Problemas de Inteligencia Artificial II | Seccion D05 I7041\n"
   ]
  },
  {
   "cell_type": "markdown",
   "metadata": {},
   "source": [
    "<u>Caso de estudio</u>:\n",
    "\n",
    "Implementación de un clasificador automático de señales de ECG para la detección de arritmias, utilizando la base de datos MIT-BIH. Este sistema está diseñado para identificar automáticamente distintos tipos de arritmias, como el ritmo sinusal normal, contracciones ventriculares prematuras, y otras anomalías del ritmo cardíaco. Su aplicación potencial incluye su uso en sistemas de monitoreo médico en tiempo real para hospitales y dispositivos de telemedicina, permitiendo a los profesionales de la salud realizar un diagnóstico temprano y personalizado. Además, al facilitar una clasificación precisa y rápida, este sistema puede mejorar la accesibilidad a la atención médica remota, optimizando la capacidad de respuesta ante emergencias cardíacas y elevando el nivel de atención para pacientes con enfermedades cardiovasculares."
   ]
  },
  {
   "cell_type": "markdown",
   "metadata": {},
   "source": [
    "1.\tPreprocesamiento de Datos:\n",
    "\n",
    "    - Cargar el conjunto de datos de ECG de la base MIT-BIH, que incluye múltiples clases de arritmias (por ejemplo, ritmo sinusal normal, contracción ventricular prematura, entre otros).\n",
    "\n",
    "    - Asegurarse de que las señales estén correctamente etiquetadas para los distintos tipos de arritmias.\n",
    "\n",
    "    - Estandarizar la longitud de las señales para que todas tengan el mismo tamaño o segmentar cada muestra de ECG en ventanas de longitud fija, adecuadas para el modelo.\n",
    "\n",
    "    - Normalizar los datos de entrada para mejorar la convergencia del modelo, escalando los valores de las señales dentro de un rango adecuado.\n"
   ]
  },
  {
   "cell_type": "code",
   "execution_count": null,
   "metadata": {},
   "outputs": [],
   "source": [
    "# Importacion de librerías\n",
    "import os\n",
    "import sys\n",
    "import time\n",
    "import random\n",
    "import sklearn\n",
    "import warnings\n",
    "import numpy as np\n",
    "import pandas as pd\n",
    "import seaborn as sns\n",
    "import plotly.io as pio\n",
    "import tensorflow as tf\n",
    "import matplotlib.cm as cm\n",
    "import plotly.express as px\n",
    "import matplotlib.pyplot as plt\n",
    "from keras.regularizers import l2\n",
    "from keras.applications import VGG16 \n",
    "from keras.preprocessing import image\n",
    "from keras.utils import load_img, img_to_array \n",
    "from keras.models import Sequential, load_model\n",
    "from keras.preprocessing.image import ImageDataGenerator \n",
    "from sklearn.preprocessing import StandardScaler, MinMaxScaler\n",
    "from sklearn.metrics import classification_report, confusion_matrix\n",
    "from keras.layers import Conv2D, MaxPooling2D, Flatten, Dense, Dropout, BatchNormalization, Conv1D, LSTM, MaxPooling1D, Input\n",
    "from keras.callbacks import ModelCheckpoint, EarlyStopping, ReduceLROnPlateau\n",
    "from keras.applications.vgg16 import preprocess_input, decode_predictions \n",
    "from sklearn.model_selection import train_test_split\n",
    "from PIL import UnidentifiedImageError \n",
    "from contextlib import contextmanager\n",
    "from IPython.display import display\n",
    "from scipy.signal import resample\n",
    "from keras.optimizers import Adam \n",
    "from tensorflow import keras\n",
    "from PIL import ImageFile\n",
    "from PIL import Image"
   ]
  },
  {
   "cell_type": "code",
   "execution_count": 2,
   "metadata": {},
   "outputs": [
    {
     "name": "stdout",
     "output_type": "stream",
     "text": [
      "Datos cargados correctamente desde MIT-BIH/mitbih_train.csv.\n",
      "Dimensiones de los datos: (87554, 188)\n"
     ]
    },
    {
     "data": {
      "text/html": [
       "<div>\n",
       "<style scoped>\n",
       "    .dataframe tbody tr th:only-of-type {\n",
       "        vertical-align: middle;\n",
       "    }\n",
       "\n",
       "    .dataframe tbody tr th {\n",
       "        vertical-align: top;\n",
       "    }\n",
       "\n",
       "    .dataframe thead th {\n",
       "        text-align: right;\n",
       "    }\n",
       "</style>\n",
       "<table border=\"1\" class=\"dataframe\">\n",
       "  <thead>\n",
       "    <tr style=\"text-align: right;\">\n",
       "      <th></th>\n",
       "      <th>0</th>\n",
       "      <th>1</th>\n",
       "      <th>2</th>\n",
       "      <th>3</th>\n",
       "      <th>4</th>\n",
       "      <th>5</th>\n",
       "      <th>6</th>\n",
       "      <th>7</th>\n",
       "      <th>8</th>\n",
       "      <th>9</th>\n",
       "      <th>...</th>\n",
       "      <th>178</th>\n",
       "      <th>179</th>\n",
       "      <th>180</th>\n",
       "      <th>181</th>\n",
       "      <th>182</th>\n",
       "      <th>183</th>\n",
       "      <th>184</th>\n",
       "      <th>185</th>\n",
       "      <th>186</th>\n",
       "      <th>187</th>\n",
       "    </tr>\n",
       "  </thead>\n",
       "  <tbody>\n",
       "    <tr>\n",
       "      <th>0</th>\n",
       "      <td>0.977941</td>\n",
       "      <td>0.926471</td>\n",
       "      <td>0.681373</td>\n",
       "      <td>0.245098</td>\n",
       "      <td>0.154412</td>\n",
       "      <td>0.191176</td>\n",
       "      <td>0.151961</td>\n",
       "      <td>0.085784</td>\n",
       "      <td>0.058824</td>\n",
       "      <td>0.049020</td>\n",
       "      <td>...</td>\n",
       "      <td>0.0</td>\n",
       "      <td>0.0</td>\n",
       "      <td>0.0</td>\n",
       "      <td>0.0</td>\n",
       "      <td>0.0</td>\n",
       "      <td>0.0</td>\n",
       "      <td>0.0</td>\n",
       "      <td>0.0</td>\n",
       "      <td>0.0</td>\n",
       "      <td>0.0</td>\n",
       "    </tr>\n",
       "    <tr>\n",
       "      <th>1</th>\n",
       "      <td>0.960114</td>\n",
       "      <td>0.863248</td>\n",
       "      <td>0.461538</td>\n",
       "      <td>0.196581</td>\n",
       "      <td>0.094017</td>\n",
       "      <td>0.125356</td>\n",
       "      <td>0.099715</td>\n",
       "      <td>0.088319</td>\n",
       "      <td>0.074074</td>\n",
       "      <td>0.082621</td>\n",
       "      <td>...</td>\n",
       "      <td>0.0</td>\n",
       "      <td>0.0</td>\n",
       "      <td>0.0</td>\n",
       "      <td>0.0</td>\n",
       "      <td>0.0</td>\n",
       "      <td>0.0</td>\n",
       "      <td>0.0</td>\n",
       "      <td>0.0</td>\n",
       "      <td>0.0</td>\n",
       "      <td>0.0</td>\n",
       "    </tr>\n",
       "    <tr>\n",
       "      <th>2</th>\n",
       "      <td>1.000000</td>\n",
       "      <td>0.659459</td>\n",
       "      <td>0.186486</td>\n",
       "      <td>0.070270</td>\n",
       "      <td>0.070270</td>\n",
       "      <td>0.059459</td>\n",
       "      <td>0.056757</td>\n",
       "      <td>0.043243</td>\n",
       "      <td>0.054054</td>\n",
       "      <td>0.045946</td>\n",
       "      <td>...</td>\n",
       "      <td>0.0</td>\n",
       "      <td>0.0</td>\n",
       "      <td>0.0</td>\n",
       "      <td>0.0</td>\n",
       "      <td>0.0</td>\n",
       "      <td>0.0</td>\n",
       "      <td>0.0</td>\n",
       "      <td>0.0</td>\n",
       "      <td>0.0</td>\n",
       "      <td>0.0</td>\n",
       "    </tr>\n",
       "    <tr>\n",
       "      <th>3</th>\n",
       "      <td>0.925414</td>\n",
       "      <td>0.665746</td>\n",
       "      <td>0.541436</td>\n",
       "      <td>0.276243</td>\n",
       "      <td>0.196133</td>\n",
       "      <td>0.077348</td>\n",
       "      <td>0.071823</td>\n",
       "      <td>0.060773</td>\n",
       "      <td>0.066298</td>\n",
       "      <td>0.058011</td>\n",
       "      <td>...</td>\n",
       "      <td>0.0</td>\n",
       "      <td>0.0</td>\n",
       "      <td>0.0</td>\n",
       "      <td>0.0</td>\n",
       "      <td>0.0</td>\n",
       "      <td>0.0</td>\n",
       "      <td>0.0</td>\n",
       "      <td>0.0</td>\n",
       "      <td>0.0</td>\n",
       "      <td>0.0</td>\n",
       "    </tr>\n",
       "    <tr>\n",
       "      <th>4</th>\n",
       "      <td>0.967136</td>\n",
       "      <td>1.000000</td>\n",
       "      <td>0.830986</td>\n",
       "      <td>0.586854</td>\n",
       "      <td>0.356808</td>\n",
       "      <td>0.248826</td>\n",
       "      <td>0.145540</td>\n",
       "      <td>0.089202</td>\n",
       "      <td>0.117371</td>\n",
       "      <td>0.150235</td>\n",
       "      <td>...</td>\n",
       "      <td>0.0</td>\n",
       "      <td>0.0</td>\n",
       "      <td>0.0</td>\n",
       "      <td>0.0</td>\n",
       "      <td>0.0</td>\n",
       "      <td>0.0</td>\n",
       "      <td>0.0</td>\n",
       "      <td>0.0</td>\n",
       "      <td>0.0</td>\n",
       "      <td>0.0</td>\n",
       "    </tr>\n",
       "  </tbody>\n",
       "</table>\n",
       "<p>5 rows × 188 columns</p>\n",
       "</div>"
      ],
      "text/plain": [
       "        0         1         2         3         4         5         6    \\\n",
       "0  0.977941  0.926471  0.681373  0.245098  0.154412  0.191176  0.151961   \n",
       "1  0.960114  0.863248  0.461538  0.196581  0.094017  0.125356  0.099715   \n",
       "2  1.000000  0.659459  0.186486  0.070270  0.070270  0.059459  0.056757   \n",
       "3  0.925414  0.665746  0.541436  0.276243  0.196133  0.077348  0.071823   \n",
       "4  0.967136  1.000000  0.830986  0.586854  0.356808  0.248826  0.145540   \n",
       "\n",
       "        7         8         9    ...  178  179  180  181  182  183  184  185  \\\n",
       "0  0.085784  0.058824  0.049020  ...  0.0  0.0  0.0  0.0  0.0  0.0  0.0  0.0   \n",
       "1  0.088319  0.074074  0.082621  ...  0.0  0.0  0.0  0.0  0.0  0.0  0.0  0.0   \n",
       "2  0.043243  0.054054  0.045946  ...  0.0  0.0  0.0  0.0  0.0  0.0  0.0  0.0   \n",
       "3  0.060773  0.066298  0.058011  ...  0.0  0.0  0.0  0.0  0.0  0.0  0.0  0.0   \n",
       "4  0.089202  0.117371  0.150235  ...  0.0  0.0  0.0  0.0  0.0  0.0  0.0  0.0   \n",
       "\n",
       "   186  187  \n",
       "0  0.0  0.0  \n",
       "1  0.0  0.0  \n",
       "2  0.0  0.0  \n",
       "3  0.0  0.0  \n",
       "4  0.0  0.0  \n",
       "\n",
       "[5 rows x 188 columns]"
      ]
     },
     "metadata": {},
     "output_type": "display_data"
    },
    {
     "name": "stdout",
     "output_type": "stream",
     "text": [
      "Revisando valores faltantes...\n",
      "0      0\n",
      "1      0\n",
      "2      0\n",
      "3      0\n",
      "4      0\n",
      "      ..\n",
      "183    0\n",
      "184    0\n",
      "185    0\n",
      "186    0\n",
      "187    0\n",
      "Length: 188, dtype: int64\n",
      "Características (X) y etiquetas (y) separadas: \n",
      "X.shape = (87554, 187), y.shape = (87554,).\n",
      "Longitud más común encontrada: 187\n",
      "Señales estandarizadas dinámicamente según la longitud más común.\n",
      "------------------------------------------------------------\n",
      "Datos cargados correctamente desde MIT-BIH/mitbih_test.csv.\n",
      "Dimensiones de los datos: (21892, 188)\n"
     ]
    },
    {
     "data": {
      "text/html": [
       "<div>\n",
       "<style scoped>\n",
       "    .dataframe tbody tr th:only-of-type {\n",
       "        vertical-align: middle;\n",
       "    }\n",
       "\n",
       "    .dataframe tbody tr th {\n",
       "        vertical-align: top;\n",
       "    }\n",
       "\n",
       "    .dataframe thead th {\n",
       "        text-align: right;\n",
       "    }\n",
       "</style>\n",
       "<table border=\"1\" class=\"dataframe\">\n",
       "  <thead>\n",
       "    <tr style=\"text-align: right;\">\n",
       "      <th></th>\n",
       "      <th>0</th>\n",
       "      <th>1</th>\n",
       "      <th>2</th>\n",
       "      <th>3</th>\n",
       "      <th>4</th>\n",
       "      <th>5</th>\n",
       "      <th>6</th>\n",
       "      <th>7</th>\n",
       "      <th>8</th>\n",
       "      <th>9</th>\n",
       "      <th>...</th>\n",
       "      <th>178</th>\n",
       "      <th>179</th>\n",
       "      <th>180</th>\n",
       "      <th>181</th>\n",
       "      <th>182</th>\n",
       "      <th>183</th>\n",
       "      <th>184</th>\n",
       "      <th>185</th>\n",
       "      <th>186</th>\n",
       "      <th>187</th>\n",
       "    </tr>\n",
       "  </thead>\n",
       "  <tbody>\n",
       "    <tr>\n",
       "      <th>0</th>\n",
       "      <td>1.000000</td>\n",
       "      <td>0.758264</td>\n",
       "      <td>0.111570</td>\n",
       "      <td>0.000000</td>\n",
       "      <td>0.080579</td>\n",
       "      <td>0.078512</td>\n",
       "      <td>0.066116</td>\n",
       "      <td>0.049587</td>\n",
       "      <td>0.047521</td>\n",
       "      <td>0.035124</td>\n",
       "      <td>...</td>\n",
       "      <td>0.0</td>\n",
       "      <td>0.0</td>\n",
       "      <td>0.0</td>\n",
       "      <td>0.0</td>\n",
       "      <td>0.0</td>\n",
       "      <td>0.0</td>\n",
       "      <td>0.0</td>\n",
       "      <td>0.0</td>\n",
       "      <td>0.0</td>\n",
       "      <td>0.0</td>\n",
       "    </tr>\n",
       "    <tr>\n",
       "      <th>1</th>\n",
       "      <td>0.908425</td>\n",
       "      <td>0.783883</td>\n",
       "      <td>0.531136</td>\n",
       "      <td>0.362637</td>\n",
       "      <td>0.366300</td>\n",
       "      <td>0.344322</td>\n",
       "      <td>0.333333</td>\n",
       "      <td>0.307692</td>\n",
       "      <td>0.296703</td>\n",
       "      <td>0.300366</td>\n",
       "      <td>...</td>\n",
       "      <td>0.0</td>\n",
       "      <td>0.0</td>\n",
       "      <td>0.0</td>\n",
       "      <td>0.0</td>\n",
       "      <td>0.0</td>\n",
       "      <td>0.0</td>\n",
       "      <td>0.0</td>\n",
       "      <td>0.0</td>\n",
       "      <td>0.0</td>\n",
       "      <td>0.0</td>\n",
       "    </tr>\n",
       "    <tr>\n",
       "      <th>2</th>\n",
       "      <td>0.730088</td>\n",
       "      <td>0.212389</td>\n",
       "      <td>0.000000</td>\n",
       "      <td>0.119469</td>\n",
       "      <td>0.101770</td>\n",
       "      <td>0.101770</td>\n",
       "      <td>0.110619</td>\n",
       "      <td>0.123894</td>\n",
       "      <td>0.115044</td>\n",
       "      <td>0.132743</td>\n",
       "      <td>...</td>\n",
       "      <td>0.0</td>\n",
       "      <td>0.0</td>\n",
       "      <td>0.0</td>\n",
       "      <td>0.0</td>\n",
       "      <td>0.0</td>\n",
       "      <td>0.0</td>\n",
       "      <td>0.0</td>\n",
       "      <td>0.0</td>\n",
       "      <td>0.0</td>\n",
       "      <td>0.0</td>\n",
       "    </tr>\n",
       "    <tr>\n",
       "      <th>3</th>\n",
       "      <td>1.000000</td>\n",
       "      <td>0.910417</td>\n",
       "      <td>0.681250</td>\n",
       "      <td>0.472917</td>\n",
       "      <td>0.229167</td>\n",
       "      <td>0.068750</td>\n",
       "      <td>0.000000</td>\n",
       "      <td>0.004167</td>\n",
       "      <td>0.014583</td>\n",
       "      <td>0.054167</td>\n",
       "      <td>...</td>\n",
       "      <td>0.0</td>\n",
       "      <td>0.0</td>\n",
       "      <td>0.0</td>\n",
       "      <td>0.0</td>\n",
       "      <td>0.0</td>\n",
       "      <td>0.0</td>\n",
       "      <td>0.0</td>\n",
       "      <td>0.0</td>\n",
       "      <td>0.0</td>\n",
       "      <td>0.0</td>\n",
       "    </tr>\n",
       "    <tr>\n",
       "      <th>4</th>\n",
       "      <td>0.570470</td>\n",
       "      <td>0.399329</td>\n",
       "      <td>0.238255</td>\n",
       "      <td>0.147651</td>\n",
       "      <td>0.000000</td>\n",
       "      <td>0.003356</td>\n",
       "      <td>0.040268</td>\n",
       "      <td>0.080537</td>\n",
       "      <td>0.070470</td>\n",
       "      <td>0.090604</td>\n",
       "      <td>...</td>\n",
       "      <td>0.0</td>\n",
       "      <td>0.0</td>\n",
       "      <td>0.0</td>\n",
       "      <td>0.0</td>\n",
       "      <td>0.0</td>\n",
       "      <td>0.0</td>\n",
       "      <td>0.0</td>\n",
       "      <td>0.0</td>\n",
       "      <td>0.0</td>\n",
       "      <td>0.0</td>\n",
       "    </tr>\n",
       "  </tbody>\n",
       "</table>\n",
       "<p>5 rows × 188 columns</p>\n",
       "</div>"
      ],
      "text/plain": [
       "        0         1         2         3         4         5         6    \\\n",
       "0  1.000000  0.758264  0.111570  0.000000  0.080579  0.078512  0.066116   \n",
       "1  0.908425  0.783883  0.531136  0.362637  0.366300  0.344322  0.333333   \n",
       "2  0.730088  0.212389  0.000000  0.119469  0.101770  0.101770  0.110619   \n",
       "3  1.000000  0.910417  0.681250  0.472917  0.229167  0.068750  0.000000   \n",
       "4  0.570470  0.399329  0.238255  0.147651  0.000000  0.003356  0.040268   \n",
       "\n",
       "        7         8         9    ...  178  179  180  181  182  183  184  185  \\\n",
       "0  0.049587  0.047521  0.035124  ...  0.0  0.0  0.0  0.0  0.0  0.0  0.0  0.0   \n",
       "1  0.307692  0.296703  0.300366  ...  0.0  0.0  0.0  0.0  0.0  0.0  0.0  0.0   \n",
       "2  0.123894  0.115044  0.132743  ...  0.0  0.0  0.0  0.0  0.0  0.0  0.0  0.0   \n",
       "3  0.004167  0.014583  0.054167  ...  0.0  0.0  0.0  0.0  0.0  0.0  0.0  0.0   \n",
       "4  0.080537  0.070470  0.090604  ...  0.0  0.0  0.0  0.0  0.0  0.0  0.0  0.0   \n",
       "\n",
       "   186  187  \n",
       "0  0.0  0.0  \n",
       "1  0.0  0.0  \n",
       "2  0.0  0.0  \n",
       "3  0.0  0.0  \n",
       "4  0.0  0.0  \n",
       "\n",
       "[5 rows x 188 columns]"
      ]
     },
     "metadata": {},
     "output_type": "display_data"
    },
    {
     "name": "stdout",
     "output_type": "stream",
     "text": [
      "Revisando valores faltantes...\n",
      "0      0\n",
      "1      0\n",
      "2      0\n",
      "3      0\n",
      "4      0\n",
      "      ..\n",
      "183    0\n",
      "184    0\n",
      "185    0\n",
      "186    0\n",
      "187    0\n",
      "Length: 188, dtype: int64\n",
      "Características (X) y etiquetas (y) separadas: \n",
      "X.shape = (21892, 187), y.shape = (21892,).\n",
      "Longitud más común encontrada: 187\n",
      "Señales estandarizadas dinámicamente según la longitud más común.\n",
      "------------------------------------------------------------\n",
      "Normalización completada.\n",
      "Los datos están listos para el modelo.\n",
      "------------------------------------------------------------\n",
      "Datos de entrenamiento normalizados: (87554, 187)\n",
      "Datos de prueba normalizados: (21892, 187)\n"
     ]
    }
   ],
   "source": [
    "# Función para estandarizar la longitud de las señales (ahora dinámica)\n",
    "def estandarizar_longitud(señales):\n",
    "    # Determinar la longitud promedio de las señales\n",
    "    longitudes = [len(señal) for señal in señales]\n",
    "    longitud_objetivo = max(set(longitudes), key=longitudes.count)  # Longitud más común\n",
    "    print(f\"Longitud más común encontrada: {longitud_objetivo}\")\n",
    "    \n",
    "    señales_estandarizadas = []\n",
    "    for señal in señales:\n",
    "        señal_ajustada = resample(señal, longitud_objetivo)\n",
    "        señales_estandarizadas.append(señal_ajustada)\n",
    "    return np.array(señales_estandarizadas)\n",
    "\n",
    "# Función para cargar y preprocesar los datos\n",
    "def cargar_y_preprocesar(ruta_datos, archivo):\n",
    "    ruta_archivo = os.path.join(ruta_datos, archivo)\n",
    "    \n",
    "    # Verificar si el archivo existe\n",
    "    if not os.path.exists(ruta_archivo):\n",
    "        raise FileNotFoundError(f\"El archivo {ruta_archivo} no existe.\")\n",
    "    \n",
    "    # Cargar datos\n",
    "    data = pd.read_csv(ruta_archivo, header=None)\n",
    "    print(f\"Datos cargados correctamente desde {ruta_archivo}.\")\n",
    "    \n",
    "    # Mostrar tamaño de los datos\n",
    "    print(f\"Dimensiones de los datos: {data.shape}\")\n",
    "    display(data.head())  # Mostrar las primeras filas de los datos\n",
    "    \n",
    "    # Inspeccionar valores faltantes\n",
    "    print(\"Revisando valores faltantes...\")\n",
    "    print(data.isna().sum())  # Conteo de valores NaN por columna\n",
    "    \n",
    "    # Separar características y etiquetas\n",
    "    X = data.iloc[:, :-1].values\n",
    "    y = data.iloc[:, -1].values\n",
    "\n",
    "    print(f\"Características (X) y etiquetas (y) separadas: \\nX.shape = {X.shape}, y.shape = {y.shape}.\")\n",
    "    \n",
    "    # Estandarizar la longitud de las señales\n",
    "    X = estandarizar_longitud(X)\n",
    "    print(f\"Señales estandarizadas dinámicamente según la longitud más común.\")\n",
    "    \n",
    "    print(\"------------------------------------------------------------\")\n",
    "    return X, y\n",
    "\n",
    "# Ruta del conjunto de datos\n",
    "ruta_datos = 'MIT-BIH/'\n",
    "\n",
    "# Archivos de datos\n",
    "train_file = 'mitbih_train.csv'\n",
    "test_file = 'mitbih_test.csv'\n",
    "\n",
    "# Cargar datos de entrenamiento y prueba con estandarización\n",
    "X_train, y_train = cargar_y_preprocesar(ruta_datos, train_file)\n",
    "X_test, y_test = cargar_y_preprocesar(ruta_datos, test_file)\n",
    "\n",
    "# Normalización de las señales\n",
    "scaler = MinMaxScaler(feature_range=(0, 1))\n",
    "X_train_normalized = scaler.fit_transform(X_train)\n",
    "X_test_normalized = scaler.transform(X_test)\n",
    "print(\"Normalización completada.\\nLos datos están listos para el modelo.\")\n",
    "print(\"------------------------------------------------------------\")\n",
    "\n",
    "# Resumen\n",
    "print(f\"Datos de entrenamiento normalizados: {X_train_normalized.shape}\")\n",
    "print(f\"Datos de prueba normalizados: {X_test_normalized.shape}\")"
   ]
  },
  {
   "cell_type": "code",
   "execution_count": 6,
   "metadata": {},
   "outputs": [
    {
     "name": "stdout",
     "output_type": "stream",
     "text": [
      "Distribución en el conjunto de entrenamiento:\n",
      "0.0    72471\n",
      "1.0     2223\n",
      "2.0     5788\n",
      "3.0      641\n",
      "4.0     6431\n",
      "Name: count, dtype: int64\n"
     ]
    },
    {
     "data": {
      "application/vnd.plotly.v1+json": {
       "config": {
        "plotlyServerURL": "https://plot.ly"
       },
       "data": [
        {
         "domain": {
          "x": [
           0,
           1
          ],
          "y": [
           0,
           1
          ]
         },
         "hovertemplate": "label=%{label}<br>value=%{value}<extra></extra>",
         "labels": [
          "Normal",
          "Artial Premature",
          "Premature ventricular contraction",
          "Fusion of ventricular and normal",
          "Fusion of paced and normal"
         ],
         "legendgroup": "",
         "name": "",
         "showlegend": true,
         "type": "pie",
         "values": [
          72471,
          2223,
          5788,
          641,
          6431
         ]
        }
       ],
       "layout": {
        "height": 600,
        "legend": {
         "tracegroupgap": 0
        },
        "template": {
         "data": {
          "bar": [
           {
            "error_x": {
             "color": "#2a3f5f"
            },
            "error_y": {
             "color": "#2a3f5f"
            },
            "marker": {
             "line": {
              "color": "#E5ECF6",
              "width": 0.5
             },
             "pattern": {
              "fillmode": "overlay",
              "size": 10,
              "solidity": 0.2
             }
            },
            "type": "bar"
           }
          ],
          "barpolar": [
           {
            "marker": {
             "line": {
              "color": "#E5ECF6",
              "width": 0.5
             },
             "pattern": {
              "fillmode": "overlay",
              "size": 10,
              "solidity": 0.2
             }
            },
            "type": "barpolar"
           }
          ],
          "carpet": [
           {
            "aaxis": {
             "endlinecolor": "#2a3f5f",
             "gridcolor": "white",
             "linecolor": "white",
             "minorgridcolor": "white",
             "startlinecolor": "#2a3f5f"
            },
            "baxis": {
             "endlinecolor": "#2a3f5f",
             "gridcolor": "white",
             "linecolor": "white",
             "minorgridcolor": "white",
             "startlinecolor": "#2a3f5f"
            },
            "type": "carpet"
           }
          ],
          "choropleth": [
           {
            "colorbar": {
             "outlinewidth": 0,
             "ticks": ""
            },
            "type": "choropleth"
           }
          ],
          "contour": [
           {
            "colorbar": {
             "outlinewidth": 0,
             "ticks": ""
            },
            "colorscale": [
             [
              0,
              "#0d0887"
             ],
             [
              0.1111111111111111,
              "#46039f"
             ],
             [
              0.2222222222222222,
              "#7201a8"
             ],
             [
              0.3333333333333333,
              "#9c179e"
             ],
             [
              0.4444444444444444,
              "#bd3786"
             ],
             [
              0.5555555555555556,
              "#d8576b"
             ],
             [
              0.6666666666666666,
              "#ed7953"
             ],
             [
              0.7777777777777778,
              "#fb9f3a"
             ],
             [
              0.8888888888888888,
              "#fdca26"
             ],
             [
              1,
              "#f0f921"
             ]
            ],
            "type": "contour"
           }
          ],
          "contourcarpet": [
           {
            "colorbar": {
             "outlinewidth": 0,
             "ticks": ""
            },
            "type": "contourcarpet"
           }
          ],
          "heatmap": [
           {
            "colorbar": {
             "outlinewidth": 0,
             "ticks": ""
            },
            "colorscale": [
             [
              0,
              "#0d0887"
             ],
             [
              0.1111111111111111,
              "#46039f"
             ],
             [
              0.2222222222222222,
              "#7201a8"
             ],
             [
              0.3333333333333333,
              "#9c179e"
             ],
             [
              0.4444444444444444,
              "#bd3786"
             ],
             [
              0.5555555555555556,
              "#d8576b"
             ],
             [
              0.6666666666666666,
              "#ed7953"
             ],
             [
              0.7777777777777778,
              "#fb9f3a"
             ],
             [
              0.8888888888888888,
              "#fdca26"
             ],
             [
              1,
              "#f0f921"
             ]
            ],
            "type": "heatmap"
           }
          ],
          "heatmapgl": [
           {
            "colorbar": {
             "outlinewidth": 0,
             "ticks": ""
            },
            "colorscale": [
             [
              0,
              "#0d0887"
             ],
             [
              0.1111111111111111,
              "#46039f"
             ],
             [
              0.2222222222222222,
              "#7201a8"
             ],
             [
              0.3333333333333333,
              "#9c179e"
             ],
             [
              0.4444444444444444,
              "#bd3786"
             ],
             [
              0.5555555555555556,
              "#d8576b"
             ],
             [
              0.6666666666666666,
              "#ed7953"
             ],
             [
              0.7777777777777778,
              "#fb9f3a"
             ],
             [
              0.8888888888888888,
              "#fdca26"
             ],
             [
              1,
              "#f0f921"
             ]
            ],
            "type": "heatmapgl"
           }
          ],
          "histogram": [
           {
            "marker": {
             "pattern": {
              "fillmode": "overlay",
              "size": 10,
              "solidity": 0.2
             }
            },
            "type": "histogram"
           }
          ],
          "histogram2d": [
           {
            "colorbar": {
             "outlinewidth": 0,
             "ticks": ""
            },
            "colorscale": [
             [
              0,
              "#0d0887"
             ],
             [
              0.1111111111111111,
              "#46039f"
             ],
             [
              0.2222222222222222,
              "#7201a8"
             ],
             [
              0.3333333333333333,
              "#9c179e"
             ],
             [
              0.4444444444444444,
              "#bd3786"
             ],
             [
              0.5555555555555556,
              "#d8576b"
             ],
             [
              0.6666666666666666,
              "#ed7953"
             ],
             [
              0.7777777777777778,
              "#fb9f3a"
             ],
             [
              0.8888888888888888,
              "#fdca26"
             ],
             [
              1,
              "#f0f921"
             ]
            ],
            "type": "histogram2d"
           }
          ],
          "histogram2dcontour": [
           {
            "colorbar": {
             "outlinewidth": 0,
             "ticks": ""
            },
            "colorscale": [
             [
              0,
              "#0d0887"
             ],
             [
              0.1111111111111111,
              "#46039f"
             ],
             [
              0.2222222222222222,
              "#7201a8"
             ],
             [
              0.3333333333333333,
              "#9c179e"
             ],
             [
              0.4444444444444444,
              "#bd3786"
             ],
             [
              0.5555555555555556,
              "#d8576b"
             ],
             [
              0.6666666666666666,
              "#ed7953"
             ],
             [
              0.7777777777777778,
              "#fb9f3a"
             ],
             [
              0.8888888888888888,
              "#fdca26"
             ],
             [
              1,
              "#f0f921"
             ]
            ],
            "type": "histogram2dcontour"
           }
          ],
          "mesh3d": [
           {
            "colorbar": {
             "outlinewidth": 0,
             "ticks": ""
            },
            "type": "mesh3d"
           }
          ],
          "parcoords": [
           {
            "line": {
             "colorbar": {
              "outlinewidth": 0,
              "ticks": ""
             }
            },
            "type": "parcoords"
           }
          ],
          "pie": [
           {
            "automargin": true,
            "type": "pie"
           }
          ],
          "scatter": [
           {
            "fillpattern": {
             "fillmode": "overlay",
             "size": 10,
             "solidity": 0.2
            },
            "type": "scatter"
           }
          ],
          "scatter3d": [
           {
            "line": {
             "colorbar": {
              "outlinewidth": 0,
              "ticks": ""
             }
            },
            "marker": {
             "colorbar": {
              "outlinewidth": 0,
              "ticks": ""
             }
            },
            "type": "scatter3d"
           }
          ],
          "scattercarpet": [
           {
            "marker": {
             "colorbar": {
              "outlinewidth": 0,
              "ticks": ""
             }
            },
            "type": "scattercarpet"
           }
          ],
          "scattergeo": [
           {
            "marker": {
             "colorbar": {
              "outlinewidth": 0,
              "ticks": ""
             }
            },
            "type": "scattergeo"
           }
          ],
          "scattergl": [
           {
            "marker": {
             "colorbar": {
              "outlinewidth": 0,
              "ticks": ""
             }
            },
            "type": "scattergl"
           }
          ],
          "scattermapbox": [
           {
            "marker": {
             "colorbar": {
              "outlinewidth": 0,
              "ticks": ""
             }
            },
            "type": "scattermapbox"
           }
          ],
          "scatterpolar": [
           {
            "marker": {
             "colorbar": {
              "outlinewidth": 0,
              "ticks": ""
             }
            },
            "type": "scatterpolar"
           }
          ],
          "scatterpolargl": [
           {
            "marker": {
             "colorbar": {
              "outlinewidth": 0,
              "ticks": ""
             }
            },
            "type": "scatterpolargl"
           }
          ],
          "scatterternary": [
           {
            "marker": {
             "colorbar": {
              "outlinewidth": 0,
              "ticks": ""
             }
            },
            "type": "scatterternary"
           }
          ],
          "surface": [
           {
            "colorbar": {
             "outlinewidth": 0,
             "ticks": ""
            },
            "colorscale": [
             [
              0,
              "#0d0887"
             ],
             [
              0.1111111111111111,
              "#46039f"
             ],
             [
              0.2222222222222222,
              "#7201a8"
             ],
             [
              0.3333333333333333,
              "#9c179e"
             ],
             [
              0.4444444444444444,
              "#bd3786"
             ],
             [
              0.5555555555555556,
              "#d8576b"
             ],
             [
              0.6666666666666666,
              "#ed7953"
             ],
             [
              0.7777777777777778,
              "#fb9f3a"
             ],
             [
              0.8888888888888888,
              "#fdca26"
             ],
             [
              1,
              "#f0f921"
             ]
            ],
            "type": "surface"
           }
          ],
          "table": [
           {
            "cells": {
             "fill": {
              "color": "#EBF0F8"
             },
             "line": {
              "color": "white"
             }
            },
            "header": {
             "fill": {
              "color": "#C8D4E3"
             },
             "line": {
              "color": "white"
             }
            },
            "type": "table"
           }
          ]
         },
         "layout": {
          "annotationdefaults": {
           "arrowcolor": "#2a3f5f",
           "arrowhead": 0,
           "arrowwidth": 1
          },
          "autotypenumbers": "strict",
          "coloraxis": {
           "colorbar": {
            "outlinewidth": 0,
            "ticks": ""
           }
          },
          "colorscale": {
           "diverging": [
            [
             0,
             "#8e0152"
            ],
            [
             0.1,
             "#c51b7d"
            ],
            [
             0.2,
             "#de77ae"
            ],
            [
             0.3,
             "#f1b6da"
            ],
            [
             0.4,
             "#fde0ef"
            ],
            [
             0.5,
             "#f7f7f7"
            ],
            [
             0.6,
             "#e6f5d0"
            ],
            [
             0.7,
             "#b8e186"
            ],
            [
             0.8,
             "#7fbc41"
            ],
            [
             0.9,
             "#4d9221"
            ],
            [
             1,
             "#276419"
            ]
           ],
           "sequential": [
            [
             0,
             "#0d0887"
            ],
            [
             0.1111111111111111,
             "#46039f"
            ],
            [
             0.2222222222222222,
             "#7201a8"
            ],
            [
             0.3333333333333333,
             "#9c179e"
            ],
            [
             0.4444444444444444,
             "#bd3786"
            ],
            [
             0.5555555555555556,
             "#d8576b"
            ],
            [
             0.6666666666666666,
             "#ed7953"
            ],
            [
             0.7777777777777778,
             "#fb9f3a"
            ],
            [
             0.8888888888888888,
             "#fdca26"
            ],
            [
             1,
             "#f0f921"
            ]
           ],
           "sequentialminus": [
            [
             0,
             "#0d0887"
            ],
            [
             0.1111111111111111,
             "#46039f"
            ],
            [
             0.2222222222222222,
             "#7201a8"
            ],
            [
             0.3333333333333333,
             "#9c179e"
            ],
            [
             0.4444444444444444,
             "#bd3786"
            ],
            [
             0.5555555555555556,
             "#d8576b"
            ],
            [
             0.6666666666666666,
             "#ed7953"
            ],
            [
             0.7777777777777778,
             "#fb9f3a"
            ],
            [
             0.8888888888888888,
             "#fdca26"
            ],
            [
             1,
             "#f0f921"
            ]
           ]
          },
          "colorway": [
           "#636efa",
           "#EF553B",
           "#00cc96",
           "#ab63fa",
           "#FFA15A",
           "#19d3f3",
           "#FF6692",
           "#B6E880",
           "#FF97FF",
           "#FECB52"
          ],
          "font": {
           "color": "#2a3f5f"
          },
          "geo": {
           "bgcolor": "white",
           "lakecolor": "white",
           "landcolor": "#E5ECF6",
           "showlakes": true,
           "showland": true,
           "subunitcolor": "white"
          },
          "hoverlabel": {
           "align": "left"
          },
          "hovermode": "closest",
          "mapbox": {
           "style": "light"
          },
          "paper_bgcolor": "white",
          "plot_bgcolor": "#E5ECF6",
          "polar": {
           "angularaxis": {
            "gridcolor": "white",
            "linecolor": "white",
            "ticks": ""
           },
           "bgcolor": "#E5ECF6",
           "radialaxis": {
            "gridcolor": "white",
            "linecolor": "white",
            "ticks": ""
           }
          },
          "scene": {
           "xaxis": {
            "backgroundcolor": "#E5ECF6",
            "gridcolor": "white",
            "gridwidth": 2,
            "linecolor": "white",
            "showbackground": true,
            "ticks": "",
            "zerolinecolor": "white"
           },
           "yaxis": {
            "backgroundcolor": "#E5ECF6",
            "gridcolor": "white",
            "gridwidth": 2,
            "linecolor": "white",
            "showbackground": true,
            "ticks": "",
            "zerolinecolor": "white"
           },
           "zaxis": {
            "backgroundcolor": "#E5ECF6",
            "gridcolor": "white",
            "gridwidth": 2,
            "linecolor": "white",
            "showbackground": true,
            "ticks": "",
            "zerolinecolor": "white"
           }
          },
          "shapedefaults": {
           "line": {
            "color": "#2a3f5f"
           }
          },
          "ternary": {
           "aaxis": {
            "gridcolor": "white",
            "linecolor": "white",
            "ticks": ""
           },
           "baxis": {
            "gridcolor": "white",
            "linecolor": "white",
            "ticks": ""
           },
           "bgcolor": "#E5ECF6",
           "caxis": {
            "gridcolor": "white",
            "linecolor": "white",
            "ticks": ""
           }
          },
          "title": {
           "x": 0.05
          },
          "xaxis": {
           "automargin": true,
           "gridcolor": "white",
           "linecolor": "white",
           "ticks": "",
           "title": {
            "standoff": 15
           },
           "zerolinecolor": "white",
           "zerolinewidth": 2
          },
          "yaxis": {
           "automargin": true,
           "gridcolor": "white",
           "linecolor": "white",
           "ticks": "",
           "title": {
            "standoff": 15
           },
           "zerolinecolor": "white",
           "zerolinewidth": 2
          }
         }
        },
        "title": {
         "text": "Porcentaje de Cada Etiqueta en el Conjunto de Entrenamiento",
         "x": 0.5
        },
        "width": 800
       }
      }
     },
     "metadata": {},
     "output_type": "display_data"
    }
   ],
   "source": [
    "# Diccionario de etiquetas\n",
    "labels = {\n",
    "    0: \"Normal\",\n",
    "    1: \"Artial Premature\",\n",
    "    2: \"Premature ventricular contraction\",\n",
    "    3: \"Fusion of ventricular and normal\",\n",
    "    4: \"Fusion of paced and normal\"\n",
    "}\n",
    "\n",
    "# Conteo de etiquetas en el conjunto de entrenamiento\n",
    "value_counts = pd.Series(y_train).value_counts().sort_index()  # Obtener conteo de cada clase\n",
    "value_counts.index = value_counts.index.map(labels)  # Renombrar índices con etiquetas legibles\n",
    "\n",
    "# Crear gráfica de pastel\n",
    "pie_fig = px.pie(\n",
    "    names=value_counts.index,\n",
    "    values=value_counts.values,\n",
    "    title=\"Porcentaje de Cada Etiqueta en el Conjunto de Entrenamiento\"\n",
    ")\n",
    "\n",
    "# Configuración de diseño\n",
    "pie_fig.update_layout(title_x=0.5, width=800, height=600)\n",
    "\n",
    "# Conteos de etiquetas en el conjunto de entrenamiento\n",
    "print(\"Distribución en el conjunto de entrenamiento:\")\n",
    "print(pd.Series(y_train).value_counts().sort_index())\n",
    "\n",
    "# Mostrar gráfica\n",
    "pie_fig.show()"
   ]
  },
  {
   "cell_type": "code",
   "execution_count": 7,
   "metadata": {},
   "outputs": [
    {
     "name": "stdout",
     "output_type": "stream",
     "text": [
      "\n",
      "Distribución en el conjunto de prueba:\n",
      "0.0    18118\n",
      "1.0      556\n",
      "2.0     1448\n",
      "3.0      162\n",
      "4.0     1608\n",
      "Name: count, dtype: int64\n"
     ]
    },
    {
     "data": {
      "application/vnd.plotly.v1+json": {
       "config": {
        "plotlyServerURL": "https://plot.ly"
       },
       "data": [
        {
         "domain": {
          "x": [
           0,
           1
          ],
          "y": [
           0,
           1
          ]
         },
         "hovertemplate": "label=%{label}<br>value=%{value}<extra></extra>",
         "labels": [
          "Normal",
          "Artial Premature",
          "Premature ventricular contraction",
          "Fusion of ventricular and normal",
          "Fusion of paced and normal"
         ],
         "legendgroup": "",
         "name": "",
         "showlegend": true,
         "type": "pie",
         "values": [
          18118,
          556,
          1448,
          162,
          1608
         ]
        }
       ],
       "layout": {
        "height": 600,
        "legend": {
         "tracegroupgap": 0
        },
        "template": {
         "data": {
          "bar": [
           {
            "error_x": {
             "color": "#2a3f5f"
            },
            "error_y": {
             "color": "#2a3f5f"
            },
            "marker": {
             "line": {
              "color": "#E5ECF6",
              "width": 0.5
             },
             "pattern": {
              "fillmode": "overlay",
              "size": 10,
              "solidity": 0.2
             }
            },
            "type": "bar"
           }
          ],
          "barpolar": [
           {
            "marker": {
             "line": {
              "color": "#E5ECF6",
              "width": 0.5
             },
             "pattern": {
              "fillmode": "overlay",
              "size": 10,
              "solidity": 0.2
             }
            },
            "type": "barpolar"
           }
          ],
          "carpet": [
           {
            "aaxis": {
             "endlinecolor": "#2a3f5f",
             "gridcolor": "white",
             "linecolor": "white",
             "minorgridcolor": "white",
             "startlinecolor": "#2a3f5f"
            },
            "baxis": {
             "endlinecolor": "#2a3f5f",
             "gridcolor": "white",
             "linecolor": "white",
             "minorgridcolor": "white",
             "startlinecolor": "#2a3f5f"
            },
            "type": "carpet"
           }
          ],
          "choropleth": [
           {
            "colorbar": {
             "outlinewidth": 0,
             "ticks": ""
            },
            "type": "choropleth"
           }
          ],
          "contour": [
           {
            "colorbar": {
             "outlinewidth": 0,
             "ticks": ""
            },
            "colorscale": [
             [
              0,
              "#0d0887"
             ],
             [
              0.1111111111111111,
              "#46039f"
             ],
             [
              0.2222222222222222,
              "#7201a8"
             ],
             [
              0.3333333333333333,
              "#9c179e"
             ],
             [
              0.4444444444444444,
              "#bd3786"
             ],
             [
              0.5555555555555556,
              "#d8576b"
             ],
             [
              0.6666666666666666,
              "#ed7953"
             ],
             [
              0.7777777777777778,
              "#fb9f3a"
             ],
             [
              0.8888888888888888,
              "#fdca26"
             ],
             [
              1,
              "#f0f921"
             ]
            ],
            "type": "contour"
           }
          ],
          "contourcarpet": [
           {
            "colorbar": {
             "outlinewidth": 0,
             "ticks": ""
            },
            "type": "contourcarpet"
           }
          ],
          "heatmap": [
           {
            "colorbar": {
             "outlinewidth": 0,
             "ticks": ""
            },
            "colorscale": [
             [
              0,
              "#0d0887"
             ],
             [
              0.1111111111111111,
              "#46039f"
             ],
             [
              0.2222222222222222,
              "#7201a8"
             ],
             [
              0.3333333333333333,
              "#9c179e"
             ],
             [
              0.4444444444444444,
              "#bd3786"
             ],
             [
              0.5555555555555556,
              "#d8576b"
             ],
             [
              0.6666666666666666,
              "#ed7953"
             ],
             [
              0.7777777777777778,
              "#fb9f3a"
             ],
             [
              0.8888888888888888,
              "#fdca26"
             ],
             [
              1,
              "#f0f921"
             ]
            ],
            "type": "heatmap"
           }
          ],
          "heatmapgl": [
           {
            "colorbar": {
             "outlinewidth": 0,
             "ticks": ""
            },
            "colorscale": [
             [
              0,
              "#0d0887"
             ],
             [
              0.1111111111111111,
              "#46039f"
             ],
             [
              0.2222222222222222,
              "#7201a8"
             ],
             [
              0.3333333333333333,
              "#9c179e"
             ],
             [
              0.4444444444444444,
              "#bd3786"
             ],
             [
              0.5555555555555556,
              "#d8576b"
             ],
             [
              0.6666666666666666,
              "#ed7953"
             ],
             [
              0.7777777777777778,
              "#fb9f3a"
             ],
             [
              0.8888888888888888,
              "#fdca26"
             ],
             [
              1,
              "#f0f921"
             ]
            ],
            "type": "heatmapgl"
           }
          ],
          "histogram": [
           {
            "marker": {
             "pattern": {
              "fillmode": "overlay",
              "size": 10,
              "solidity": 0.2
             }
            },
            "type": "histogram"
           }
          ],
          "histogram2d": [
           {
            "colorbar": {
             "outlinewidth": 0,
             "ticks": ""
            },
            "colorscale": [
             [
              0,
              "#0d0887"
             ],
             [
              0.1111111111111111,
              "#46039f"
             ],
             [
              0.2222222222222222,
              "#7201a8"
             ],
             [
              0.3333333333333333,
              "#9c179e"
             ],
             [
              0.4444444444444444,
              "#bd3786"
             ],
             [
              0.5555555555555556,
              "#d8576b"
             ],
             [
              0.6666666666666666,
              "#ed7953"
             ],
             [
              0.7777777777777778,
              "#fb9f3a"
             ],
             [
              0.8888888888888888,
              "#fdca26"
             ],
             [
              1,
              "#f0f921"
             ]
            ],
            "type": "histogram2d"
           }
          ],
          "histogram2dcontour": [
           {
            "colorbar": {
             "outlinewidth": 0,
             "ticks": ""
            },
            "colorscale": [
             [
              0,
              "#0d0887"
             ],
             [
              0.1111111111111111,
              "#46039f"
             ],
             [
              0.2222222222222222,
              "#7201a8"
             ],
             [
              0.3333333333333333,
              "#9c179e"
             ],
             [
              0.4444444444444444,
              "#bd3786"
             ],
             [
              0.5555555555555556,
              "#d8576b"
             ],
             [
              0.6666666666666666,
              "#ed7953"
             ],
             [
              0.7777777777777778,
              "#fb9f3a"
             ],
             [
              0.8888888888888888,
              "#fdca26"
             ],
             [
              1,
              "#f0f921"
             ]
            ],
            "type": "histogram2dcontour"
           }
          ],
          "mesh3d": [
           {
            "colorbar": {
             "outlinewidth": 0,
             "ticks": ""
            },
            "type": "mesh3d"
           }
          ],
          "parcoords": [
           {
            "line": {
             "colorbar": {
              "outlinewidth": 0,
              "ticks": ""
             }
            },
            "type": "parcoords"
           }
          ],
          "pie": [
           {
            "automargin": true,
            "type": "pie"
           }
          ],
          "scatter": [
           {
            "fillpattern": {
             "fillmode": "overlay",
             "size": 10,
             "solidity": 0.2
            },
            "type": "scatter"
           }
          ],
          "scatter3d": [
           {
            "line": {
             "colorbar": {
              "outlinewidth": 0,
              "ticks": ""
             }
            },
            "marker": {
             "colorbar": {
              "outlinewidth": 0,
              "ticks": ""
             }
            },
            "type": "scatter3d"
           }
          ],
          "scattercarpet": [
           {
            "marker": {
             "colorbar": {
              "outlinewidth": 0,
              "ticks": ""
             }
            },
            "type": "scattercarpet"
           }
          ],
          "scattergeo": [
           {
            "marker": {
             "colorbar": {
              "outlinewidth": 0,
              "ticks": ""
             }
            },
            "type": "scattergeo"
           }
          ],
          "scattergl": [
           {
            "marker": {
             "colorbar": {
              "outlinewidth": 0,
              "ticks": ""
             }
            },
            "type": "scattergl"
           }
          ],
          "scattermapbox": [
           {
            "marker": {
             "colorbar": {
              "outlinewidth": 0,
              "ticks": ""
             }
            },
            "type": "scattermapbox"
           }
          ],
          "scatterpolar": [
           {
            "marker": {
             "colorbar": {
              "outlinewidth": 0,
              "ticks": ""
             }
            },
            "type": "scatterpolar"
           }
          ],
          "scatterpolargl": [
           {
            "marker": {
             "colorbar": {
              "outlinewidth": 0,
              "ticks": ""
             }
            },
            "type": "scatterpolargl"
           }
          ],
          "scatterternary": [
           {
            "marker": {
             "colorbar": {
              "outlinewidth": 0,
              "ticks": ""
             }
            },
            "type": "scatterternary"
           }
          ],
          "surface": [
           {
            "colorbar": {
             "outlinewidth": 0,
             "ticks": ""
            },
            "colorscale": [
             [
              0,
              "#0d0887"
             ],
             [
              0.1111111111111111,
              "#46039f"
             ],
             [
              0.2222222222222222,
              "#7201a8"
             ],
             [
              0.3333333333333333,
              "#9c179e"
             ],
             [
              0.4444444444444444,
              "#bd3786"
             ],
             [
              0.5555555555555556,
              "#d8576b"
             ],
             [
              0.6666666666666666,
              "#ed7953"
             ],
             [
              0.7777777777777778,
              "#fb9f3a"
             ],
             [
              0.8888888888888888,
              "#fdca26"
             ],
             [
              1,
              "#f0f921"
             ]
            ],
            "type": "surface"
           }
          ],
          "table": [
           {
            "cells": {
             "fill": {
              "color": "#EBF0F8"
             },
             "line": {
              "color": "white"
             }
            },
            "header": {
             "fill": {
              "color": "#C8D4E3"
             },
             "line": {
              "color": "white"
             }
            },
            "type": "table"
           }
          ]
         },
         "layout": {
          "annotationdefaults": {
           "arrowcolor": "#2a3f5f",
           "arrowhead": 0,
           "arrowwidth": 1
          },
          "autotypenumbers": "strict",
          "coloraxis": {
           "colorbar": {
            "outlinewidth": 0,
            "ticks": ""
           }
          },
          "colorscale": {
           "diverging": [
            [
             0,
             "#8e0152"
            ],
            [
             0.1,
             "#c51b7d"
            ],
            [
             0.2,
             "#de77ae"
            ],
            [
             0.3,
             "#f1b6da"
            ],
            [
             0.4,
             "#fde0ef"
            ],
            [
             0.5,
             "#f7f7f7"
            ],
            [
             0.6,
             "#e6f5d0"
            ],
            [
             0.7,
             "#b8e186"
            ],
            [
             0.8,
             "#7fbc41"
            ],
            [
             0.9,
             "#4d9221"
            ],
            [
             1,
             "#276419"
            ]
           ],
           "sequential": [
            [
             0,
             "#0d0887"
            ],
            [
             0.1111111111111111,
             "#46039f"
            ],
            [
             0.2222222222222222,
             "#7201a8"
            ],
            [
             0.3333333333333333,
             "#9c179e"
            ],
            [
             0.4444444444444444,
             "#bd3786"
            ],
            [
             0.5555555555555556,
             "#d8576b"
            ],
            [
             0.6666666666666666,
             "#ed7953"
            ],
            [
             0.7777777777777778,
             "#fb9f3a"
            ],
            [
             0.8888888888888888,
             "#fdca26"
            ],
            [
             1,
             "#f0f921"
            ]
           ],
           "sequentialminus": [
            [
             0,
             "#0d0887"
            ],
            [
             0.1111111111111111,
             "#46039f"
            ],
            [
             0.2222222222222222,
             "#7201a8"
            ],
            [
             0.3333333333333333,
             "#9c179e"
            ],
            [
             0.4444444444444444,
             "#bd3786"
            ],
            [
             0.5555555555555556,
             "#d8576b"
            ],
            [
             0.6666666666666666,
             "#ed7953"
            ],
            [
             0.7777777777777778,
             "#fb9f3a"
            ],
            [
             0.8888888888888888,
             "#fdca26"
            ],
            [
             1,
             "#f0f921"
            ]
           ]
          },
          "colorway": [
           "#636efa",
           "#EF553B",
           "#00cc96",
           "#ab63fa",
           "#FFA15A",
           "#19d3f3",
           "#FF6692",
           "#B6E880",
           "#FF97FF",
           "#FECB52"
          ],
          "font": {
           "color": "#2a3f5f"
          },
          "geo": {
           "bgcolor": "white",
           "lakecolor": "white",
           "landcolor": "#E5ECF6",
           "showlakes": true,
           "showland": true,
           "subunitcolor": "white"
          },
          "hoverlabel": {
           "align": "left"
          },
          "hovermode": "closest",
          "mapbox": {
           "style": "light"
          },
          "paper_bgcolor": "white",
          "plot_bgcolor": "#E5ECF6",
          "polar": {
           "angularaxis": {
            "gridcolor": "white",
            "linecolor": "white",
            "ticks": ""
           },
           "bgcolor": "#E5ECF6",
           "radialaxis": {
            "gridcolor": "white",
            "linecolor": "white",
            "ticks": ""
           }
          },
          "scene": {
           "xaxis": {
            "backgroundcolor": "#E5ECF6",
            "gridcolor": "white",
            "gridwidth": 2,
            "linecolor": "white",
            "showbackground": true,
            "ticks": "",
            "zerolinecolor": "white"
           },
           "yaxis": {
            "backgroundcolor": "#E5ECF6",
            "gridcolor": "white",
            "gridwidth": 2,
            "linecolor": "white",
            "showbackground": true,
            "ticks": "",
            "zerolinecolor": "white"
           },
           "zaxis": {
            "backgroundcolor": "#E5ECF6",
            "gridcolor": "white",
            "gridwidth": 2,
            "linecolor": "white",
            "showbackground": true,
            "ticks": "",
            "zerolinecolor": "white"
           }
          },
          "shapedefaults": {
           "line": {
            "color": "#2a3f5f"
           }
          },
          "ternary": {
           "aaxis": {
            "gridcolor": "white",
            "linecolor": "white",
            "ticks": ""
           },
           "baxis": {
            "gridcolor": "white",
            "linecolor": "white",
            "ticks": ""
           },
           "bgcolor": "#E5ECF6",
           "caxis": {
            "gridcolor": "white",
            "linecolor": "white",
            "ticks": ""
           }
          },
          "title": {
           "x": 0.05
          },
          "xaxis": {
           "automargin": true,
           "gridcolor": "white",
           "linecolor": "white",
           "ticks": "",
           "title": {
            "standoff": 15
           },
           "zerolinecolor": "white",
           "zerolinewidth": 2
          },
          "yaxis": {
           "automargin": true,
           "gridcolor": "white",
           "linecolor": "white",
           "ticks": "",
           "title": {
            "standoff": 15
           },
           "zerolinecolor": "white",
           "zerolinewidth": 2
          }
         }
        },
        "title": {
         "text": "Porcentaje de Cada Etiqueta en el Conjunto de Prueba",
         "x": 0.5
        },
        "width": 800
       }
      }
     },
     "metadata": {},
     "output_type": "display_data"
    }
   ],
   "source": [
    "# Conteo de etiquetas en el conjunto de prueba\n",
    "value_counts_test = pd.Series(y_test).value_counts().sort_index()  # Obtener conteo de cada clase\n",
    "value_counts_test.index = value_counts_test.index.map(labels)  # Renombrar índices con etiquetas legibles\n",
    "\n",
    "# Crear gráfica de pastel para el conjunto de prueba\n",
    "pie_fig_test = px.pie(\n",
    "    names=value_counts_test.index,\n",
    "    values=value_counts_test.values,\n",
    "    title=\"Porcentaje de Cada Etiqueta en el Conjunto de Prueba\"\n",
    ")\n",
    "\n",
    "# Configuración de diseño\n",
    "pie_fig_test.update_layout(title_x=0.5, width=800, height=600)\n",
    "\n",
    "# Conteos de etiquetas en el conjunto de prueba\n",
    "print(\"\\nDistribución en el conjunto de prueba:\")\n",
    "print(pd.Series(y_test).value_counts().sort_index())\n",
    "\n",
    "# Mostrar gráfica\n",
    "pie_fig_test.show()\n"
   ]
  },
  {
   "cell_type": "code",
   "execution_count": 21,
   "metadata": {},
   "outputs": [
    {
     "data": {
      "application/vnd.plotly.v1+json": {
       "config": {
        "plotlyServerURL": "https://plot.ly"
       },
       "data": [
        {
         "hovertemplate": "Categorías=Normal<br>Intervalos de Tiempo=%{x}<br>Amplitud (mV)=%{y}<extra></extra>",
         "legendgroup": "Normal",
         "line": {
          "color": "#636efa",
          "dash": "solid"
         },
         "marker": {
          "symbol": "circle"
         },
         "mode": "lines",
         "name": "Normal",
         "orientation": "v",
         "showlegend": true,
         "type": "scatter",
         "x": [
          0,
          1,
          2,
          3,
          4,
          5,
          6,
          7,
          8,
          9,
          10,
          11,
          12,
          13,
          14,
          15,
          16,
          17,
          18,
          19,
          20,
          21,
          22,
          23,
          24,
          25,
          26,
          27,
          28,
          29,
          30,
          31,
          32,
          33,
          34,
          35,
          36,
          37,
          38,
          39,
          40,
          41,
          42,
          43,
          44,
          45,
          46,
          47,
          48,
          49,
          50,
          51,
          52,
          53,
          54,
          55,
          56,
          57,
          58,
          59,
          60,
          61,
          62,
          63,
          64,
          65,
          66,
          67,
          68,
          69,
          70,
          71,
          72,
          73,
          74,
          75,
          76,
          77,
          78,
          79,
          80,
          81,
          82,
          83,
          84,
          85,
          86,
          87,
          88,
          89,
          90,
          91,
          92,
          93,
          94,
          95,
          96,
          97,
          98,
          99,
          100,
          101,
          102,
          103,
          104,
          105,
          106,
          107,
          108,
          109,
          110,
          111,
          112,
          113,
          114,
          115,
          116,
          117,
          118,
          119,
          120,
          121,
          122,
          123,
          124,
          125,
          126,
          127,
          128,
          129,
          130,
          131,
          132,
          133,
          134,
          135,
          136,
          137,
          138,
          139,
          140,
          141,
          142,
          143,
          144,
          145,
          146,
          147,
          148,
          149,
          150,
          151,
          152,
          153,
          154,
          155,
          156,
          157,
          158,
          159,
          160,
          161,
          162,
          163,
          164,
          165,
          166,
          167,
          168,
          169,
          170,
          171,
          172,
          173,
          174,
          175,
          176,
          177,
          178,
          179,
          180,
          181,
          182,
          183,
          184,
          185,
          186
         ],
         "xaxis": "x",
         "y": [
          0.9601139426231384,
          0.8632478713989258,
          0.46153846383094793,
          0.19658119976520536,
          0.09401709586381912,
          0.12535612285137177,
          0.09971509873867035,
          0.0883190855383873,
          0.07407407462596893,
          0.08262108266353606,
          0.07407407462596893,
          0.06267806142568588,
          0.0655270665884018,
          0.0655270665884018,
          0.06267806142568588,
          0.07692307978868483,
          0.07122506946325302,
          0.08262108266353606,
          0.0911680907011032,
          0.09686609357595444,
          0.08262108266353606,
          0.08262108266353606,
          0.0911680907011032,
          0.10541310906410216,
          0.12250712513923644,
          0.14814814925193787,
          0.1823361814022064,
          0.19373218715190887,
          0.2136752158403397,
          0.20797720551490784,
          0.2222222238779068,
          0.25356125831604004,
          0.2706552743911743,
          0.28774929046630854,
          0.2849002778530121,
          0.2934472858905792,
          0.2564102709293365,
          0.2478632479906082,
          0.18803419172763824,
          0.14529915153980255,
          0.10826210677623747,
          0.08262108266353606,
          0.07977207750082016,
          0.07407407462596893,
          0.014245014637708664,
          0.0113960113376379,
          0.06267806142568588,
          0.05128205195069313,
          0.056980058550834656,
          0.04843304678797722,
          0.028490029275417328,
          0.03133903071284294,
          0.07692307978868483,
          0.025641025975346565,
          0.028490029275417328,
          0.037037037312984473,
          0.09401709586381912,
          0.08547008782625198,
          0.03988603875041008,
          0.05982905998826026,
          0.07407407462596893,
          0.07977207750082016,
          0.0911680907011032,
          0.09971509873867035,
          0.10826210677623747,
          0.0883190855383873,
          0.0911680907011032,
          0.0655270665884018,
          0.08547008782625198,
          0.0883190855383873,
          0.07692307978868483,
          0.08262108266353606,
          0.09686609357595444,
          0.09971509873867035,
          0.1339031308889389,
          0.10256410390138626,
          0.03988603875041008,
          0.0655270665884018,
          0.07407407462596893,
          0.08262108266353606,
          0.08547008782625198,
          0.056980058550834656,
          0.045584045350551605,
          0.10256410390138626,
          0.03988603875041008,
          0.0113960113376379,
          0.017094017937779427,
          0.03133903071284294,
          0.0056980056688189515,
          0.008547008968889713,
          0.03133903071284294,
          0.05128205195069313,
          0.056980058550834656,
          0.0883190855383873,
          0.0655270665884018,
          0.0113960113376379,
          0.056980058550834656,
          0.03988603875041008,
          0.03988603875041008,
          0.025641025975346565,
          0.0028490028344094758,
          0.01994301937520504,
          0.025641025975346565,
          0.0113960113376379,
          0.028490029275417328,
          0.01994301937520504,
          0.0227920226752758,
          0.03418803587555885,
          0.014245014637708664,
          0.05128205195069313,
          0.0683760717511177,
          0.13960114121437073,
          0.28774929046630854,
          0.5270655155181885,
          0.7777777910232544,
          1,
          0.8888888955116272,
          0.4928774833679199,
          0.19088318943977356,
          0.0883190855383873,
          0.06267806142568588,
          0.03418803587555885,
          0,
          0.03418803587555885,
          0.017094017937779427,
          0.0028490028344094758,
          0,
          0.04843304678797722,
          0.04843304678797722,
          0.05413105338811874,
          0.04273504391312599,
          0.05413105338811874,
          0.05982905998826026,
          0.06267806142568588,
          0.07122506946325302,
          0.07692307978868483,
          0.09971509873867035,
          0,
          0,
          0,
          0,
          0,
          0,
          0,
          0,
          0,
          0,
          0,
          0,
          0,
          0,
          0,
          0,
          0,
          0,
          0,
          0,
          0,
          0,
          0,
          0,
          0,
          0,
          0,
          0,
          0,
          0,
          0,
          0,
          0,
          0,
          0,
          0,
          0,
          0,
          0,
          0,
          0,
          0,
          0,
          0,
          0,
          0,
          0,
          0,
          0,
          0
         ],
         "yaxis": "y"
        },
        {
         "hovertemplate": "Categorías=Artial Premature<br>Intervalos de Tiempo=%{x}<br>Amplitud (mV)=%{y}<extra></extra>",
         "legendgroup": "Artial Premature",
         "line": {
          "color": "#EF553B",
          "dash": "solid"
         },
         "marker": {
          "symbol": "circle"
         },
         "mode": "lines",
         "name": "Artial Premature",
         "orientation": "v",
         "showlegend": true,
         "type": "scatter",
         "x": [
          0,
          1,
          2,
          3,
          4,
          5,
          6,
          7,
          8,
          9,
          10,
          11,
          12,
          13,
          14,
          15,
          16,
          17,
          18,
          19,
          20,
          21,
          22,
          23,
          24,
          25,
          26,
          27,
          28,
          29,
          30,
          31,
          32,
          33,
          34,
          35,
          36,
          37,
          38,
          39,
          40,
          41,
          42,
          43,
          44,
          45,
          46,
          47,
          48,
          49,
          50,
          51,
          52,
          53,
          54,
          55,
          56,
          57,
          58,
          59,
          60,
          61,
          62,
          63,
          64,
          65,
          66,
          67,
          68,
          69,
          70,
          71,
          72,
          73,
          74,
          75,
          76,
          77,
          78,
          79,
          80,
          81,
          82,
          83,
          84,
          85,
          86,
          87,
          88,
          89,
          90,
          91,
          92,
          93,
          94,
          95,
          96,
          97,
          98,
          99,
          100,
          101,
          102,
          103,
          104,
          105,
          106,
          107,
          108,
          109,
          110,
          111,
          112,
          113,
          114,
          115,
          116,
          117,
          118,
          119,
          120,
          121,
          122,
          123,
          124,
          125,
          126,
          127,
          128,
          129,
          130,
          131,
          132,
          133,
          134,
          135,
          136,
          137,
          138,
          139,
          140,
          141,
          142,
          143,
          144,
          145,
          146,
          147,
          148,
          149,
          150,
          151,
          152,
          153,
          154,
          155,
          156,
          157,
          158,
          159,
          160,
          161,
          162,
          163,
          164,
          165,
          166,
          167,
          168,
          169,
          170,
          171,
          172,
          173,
          174,
          175,
          176,
          177,
          178,
          179,
          180,
          181,
          182,
          183,
          184,
          185,
          186
         ],
         "xaxis": "x",
         "y": [
          0.9836956262588501,
          1,
          0.33152174949646,
          0,
          0.10869564861059187,
          0.16304348409175873,
          0.1304347813129425,
          0.19021739065647125,
          0.28804346919059753,
          0.22282609343528748,
          0.17934782803058624,
          0.27173912525177,
          0.40217390656471247,
          0.42391303181648254,
          0.39673912525177,
          0.41847825050354,
          0.44565218687057495,
          0.4402174055576325,
          0.4347825944423676,
          0.4347825944423676,
          0.4402174055576325,
          0.4402174055576325,
          0.4510869681835175,
          0.46195653080940247,
          0.48913043737411493,
          0.47826087474823,
          0.46195653080940247,
          0.5054348111152649,
          0.5489130616188049,
          0.5597826242446899,
          0.592391312122345,
          0.6521739363670349,
          0.6847826242446899,
          0.66847825050354,
          0.6630434989929199,
          0.7228260636329651,
          0.717391312122345,
          0.6793478131294249,
          0.657608687877655,
          0.6304348111152649,
          0.5652173757553101,
          0.5054348111152649,
          0.4836956560611725,
          0.46739131212234497,
          0.46195653080940247,
          0.4347825944423676,
          0.40217390656471247,
          0.40217390656471247,
          0.41304346919059753,
          0.41304346919059753,
          0.375,
          0.39673912525177,
          0.42391303181648254,
          0.3804347813129425,
          0.3913043439388275,
          0.41304346919059753,
          0.41304346919059753,
          0.41304346919059753,
          0.40217390656471247,
          0.42391303181648254,
          0.41304346919059753,
          0.4347825944423676,
          0.42934781312942494,
          0.41847825050354,
          0.4347825944423676,
          0.44565218687057495,
          0.41304346919059753,
          0.41304346919059753,
          0.4347825944423676,
          0.42934781312942494,
          0.41304346919059753,
          0.4402174055576325,
          0.41847825050354,
          0.40217390656471247,
          0.39673912525177,
          0.40217390656471247,
          0.4347825944423676,
          0.40217390656471247,
          0.40760868787765503,
          0.40760868787765503,
          0.39673912525177,
          0.40217390656471247,
          0.40760868787765503,
          0.40217390656471247,
          0.41847825050354,
          0.375,
          0.3804347813129425,
          0.40760868787765503,
          0.41304346919059753,
          0.39673912525177,
          0.40217390656471247,
          0.40760868787765503,
          0.39673912525177,
          0.39673912525177,
          0.39673912525177,
          0.42934781312942494,
          0.41304346919059753,
          0.41847825050354,
          0.40760868787765503,
          0.41304346919059753,
          0.39673912525177,
          0.39673912525177,
          0.3804347813129425,
          0.4402174055576325,
          0.4347825944423676,
          0.40760868787765503,
          0.3913043439388275,
          0.40760868787765503,
          0.42934781312942494,
          0.4402174055576325,
          0.40217390656471247,
          0.42391303181648254,
          0.42391303181648254,
          0.3913043439388275,
          0.40217390656471247,
          0.38586956262588495,
          0.41304346919059753,
          0.41847825050354,
          0.42934781312942494,
          0.42934781312942494,
          0.41304346919059753,
          0.40217390656471247,
          0.42391303181648254,
          0.44565218687057495,
          0.42391303181648254,
          0.40217390656471247,
          0.39673912525177,
          0.41847825050354,
          0.42934781312942494,
          0.4402174055576325,
          0.4347825944423676,
          0.4402174055576325,
          0.4347825944423676,
          0.41304346919059753,
          0.41304346919059753,
          0.44565218687057495,
          0.4402174055576325,
          0.4347825944423676,
          0.41304346919059753,
          0.41847825050354,
          0.41847825050354,
          0.42934781312942494,
          0.42934781312942494,
          0.44565218687057495,
          0.42391303181648254,
          0.42934781312942494,
          0.41304346919059753,
          0.41847825050354,
          0.45652174949646,
          0.4347825944423676,
          0.41847825050354,
          0.42391303181648254,
          0.4402174055576325,
          0.45652174949646,
          0.42934781312942494,
          0.4347825944423676,
          0.45652174949646,
          0.4402174055576325,
          0.42934781312942494,
          0.4402174055576325,
          0.4402174055576325,
          0.4510869681835175,
          0.4347825944423676,
          0.44565218687057495,
          0.4347825944423676,
          0.42934781312942494,
          0.40760868787765503,
          0.44565218687057495,
          0.4402174055576325,
          0.4510869681835175,
          0.4347825944423676,
          0.42934781312942494,
          0.4347825944423676,
          0.42934781312942494,
          0.41304346919059753,
          0.4402174055576325,
          0.45652174949646,
          0.4836956560611725,
          0.46195653080940247,
          0.4836956560611725,
          0.5,
          0.4945652186870575,
          0.510869562625885,
          0.510869562625885,
          0.5054348111152649,
          0.4728260934352874,
          0.4347825944423676
         ],
         "yaxis": "y"
        },
        {
         "hovertemplate": "Categorías=Premature ventricular contraction<br>Intervalos de Tiempo=%{x}<br>Amplitud (mV)=%{y}<extra></extra>",
         "legendgroup": "Premature ventricular contraction",
         "line": {
          "color": "#00cc96",
          "dash": "solid"
         },
         "marker": {
          "symbol": "circle"
         },
         "mode": "lines",
         "name": "Premature ventricular contraction",
         "orientation": "v",
         "showlegend": true,
         "type": "scatter",
         "x": [
          0,
          1,
          2,
          3,
          4,
          5,
          6,
          7,
          8,
          9,
          10,
          11,
          12,
          13,
          14,
          15,
          16,
          17,
          18,
          19,
          20,
          21,
          22,
          23,
          24,
          25,
          26,
          27,
          28,
          29,
          30,
          31,
          32,
          33,
          34,
          35,
          36,
          37,
          38,
          39,
          40,
          41,
          42,
          43,
          44,
          45,
          46,
          47,
          48,
          49,
          50,
          51,
          52,
          53,
          54,
          55,
          56,
          57,
          58,
          59,
          60,
          61,
          62,
          63,
          64,
          65,
          66,
          67,
          68,
          69,
          70,
          71,
          72,
          73,
          74,
          75,
          76,
          77,
          78,
          79,
          80,
          81,
          82,
          83,
          84,
          85,
          86,
          87,
          88,
          89,
          90,
          91,
          92,
          93,
          94,
          95,
          96,
          97,
          98,
          99,
          100,
          101,
          102,
          103,
          104,
          105,
          106,
          107,
          108,
          109,
          110,
          111,
          112,
          113,
          114,
          115,
          116,
          117,
          118,
          119,
          120,
          121,
          122,
          123,
          124,
          125,
          126,
          127,
          128,
          129,
          130,
          131,
          132,
          133,
          134,
          135,
          136,
          137,
          138,
          139,
          140,
          141,
          142,
          143,
          144,
          145,
          146,
          147,
          148,
          149,
          150,
          151,
          152,
          153,
          154,
          155,
          156,
          157,
          158,
          159,
          160,
          161,
          162,
          163,
          164,
          165,
          166,
          167,
          168,
          169,
          170,
          171,
          172,
          173,
          174,
          175,
          176,
          177,
          178,
          179,
          180,
          181,
          182,
          183,
          184,
          185,
          186
         ],
         "xaxis": "x",
         "y": [
          1,
          0.8656716346740722,
          0.6604477763175964,
          0.4589552283287048,
          0.2425373196601868,
          0.1268656700849533,
          0.16417910158634183,
          0.2425373196601868,
          0.2985074520111084,
          0.3507462739944458,
          0.3731343150138855,
          0.44029849767684937,
          0.447761207818985,
          0.444029837846756,
          0.4253731369972229,
          0.4104477465152741,
          0.4141791164875031,
          0.39925372600555414,
          0.4067164063453674,
          0.4067164063453674,
          0.3955223858356476,
          0.3880597054958344,
          0.39925372600555414,
          0.4141791164875031,
          0.4253731369972229,
          0.4253731369972229,
          0.4514925479888916,
          0.4962686598300934,
          0.5373134613037108,
          0.5447761416435242,
          0.611940324306488,
          0.6641790866851808,
          0.7014925479888916,
          0.7276119589805603,
          0.75,
          0.7611940503120422,
          0.746268630027771,
          0.7126865386962891,
          0.6977611780166626,
          0.6902984976768494,
          0.641791045665741,
          0.6156716346740723,
          0.6007462739944458,
          0.5970149040222168,
          0.5708954930305481,
          0.5559701323509216,
          0.5485074520111084,
          0.5559701323509216,
          0.5410447716712952,
          0.5223880410194397,
          0.5298507213592529,
          0.5373134613037108,
          0.5373134613037108,
          0.5223880410194397,
          0.5298507213592529,
          0.5410447716712952,
          0.5447761416435242,
          0.5335820913314819,
          0.5298507213592529,
          0.5447761416435242,
          0.5261194109916687,
          0.5149253606796265,
          0.5223880410194397,
          0.5373134613037108,
          0.5223880410194397,
          0.5186567306518555,
          0.5149253606796265,
          0.5261194109916687,
          0.5223880410194397,
          0.5074626803398132,
          0.503731369972229,
          0.5261194109916687,
          0.5074626803398132,
          0.503731369972229,
          0.503731369972229,
          0.5186567306518555,
          0.5111940503120422,
          0.5074626803398132,
          0.5149253606796265,
          0.5223880410194397,
          0.5223880410194397,
          0.5335820913314819,
          0.5671641826629639,
          0.64552241563797,
          0.746268630027771,
          0.7761194109916686,
          0.7164179086685181,
          0.6194030046463013,
          0.447761207818985,
          0.1753731369972229,
          0,
          0.003731343196704984,
          0.08955223858356477,
          0.17164179682731628,
          0.2537313401699066,
          0.31716418266296387,
          0.34328359365463257,
          0.3880597054958344,
          0.4328358173370361,
          0.4813432693481445,
          0.48507463932037354,
          0.4738805890083313,
          0.4589552283287048,
          0.4776119291782379,
          0.4776119291782379,
          0.47014924883842474,
          0.4738805890083313,
          0.48880597949028015,
          0.4925373196601868,
          0.4925373196601868,
          0.5,
          0.5186567306518555,
          0.5149253606796265,
          0.5223880410194397,
          0,
          0,
          0,
          0,
          0,
          0,
          0,
          0,
          0,
          0,
          0,
          0,
          0,
          0,
          0,
          0,
          0,
          0,
          0,
          0,
          0,
          0,
          0,
          0,
          0,
          0,
          0,
          0,
          0,
          0,
          0,
          0,
          0,
          0,
          0,
          0,
          0,
          0,
          0,
          0,
          0,
          0,
          0,
          0,
          0,
          0,
          0,
          0,
          0,
          0,
          0,
          0,
          0,
          0,
          0,
          0,
          0,
          0,
          0,
          0,
          0,
          0,
          0,
          0,
          0,
          0,
          0,
          0,
          0,
          0,
          0,
          0,
          0
         ],
         "yaxis": "y"
        },
        {
         "hovertemplate": "Categorías=Fusion of ventricular and normal<br>Intervalos de Tiempo=%{x}<br>Amplitud (mV)=%{y}<extra></extra>",
         "legendgroup": "Fusion of ventricular and normal",
         "line": {
          "color": "#ab63fa",
          "dash": "solid"
         },
         "marker": {
          "symbol": "circle"
         },
         "mode": "lines",
         "name": "Fusion of ventricular and normal",
         "orientation": "v",
         "showlegend": true,
         "type": "scatter",
         "x": [
          0,
          1,
          2,
          3,
          4,
          5,
          6,
          7,
          8,
          9,
          10,
          11,
          12,
          13,
          14,
          15,
          16,
          17,
          18,
          19,
          20,
          21,
          22,
          23,
          24,
          25,
          26,
          27,
          28,
          29,
          30,
          31,
          32,
          33,
          34,
          35,
          36,
          37,
          38,
          39,
          40,
          41,
          42,
          43,
          44,
          45,
          46,
          47,
          48,
          49,
          50,
          51,
          52,
          53,
          54,
          55,
          56,
          57,
          58,
          59,
          60,
          61,
          62,
          63,
          64,
          65,
          66,
          67,
          68,
          69,
          70,
          71,
          72,
          73,
          74,
          75,
          76,
          77,
          78,
          79,
          80,
          81,
          82,
          83,
          84,
          85,
          86,
          87,
          88,
          89,
          90,
          91,
          92,
          93,
          94,
          95,
          96,
          97,
          98,
          99,
          100,
          101,
          102,
          103,
          104,
          105,
          106,
          107,
          108,
          109,
          110,
          111,
          112,
          113,
          114,
          115,
          116,
          117,
          118,
          119,
          120,
          121,
          122,
          123,
          124,
          125,
          126,
          127,
          128,
          129,
          130,
          131,
          132,
          133,
          134,
          135,
          136,
          137,
          138,
          139,
          140,
          141,
          142,
          143,
          144,
          145,
          146,
          147,
          148,
          149,
          150,
          151,
          152,
          153,
          154,
          155,
          156,
          157,
          158,
          159,
          160,
          161,
          162,
          163,
          164,
          165,
          166,
          167,
          168,
          169,
          170,
          171,
          172,
          173,
          174,
          175,
          176,
          177,
          178,
          179,
          180,
          181,
          182,
          183,
          184,
          185,
          186
         ],
         "xaxis": "x",
         "y": [
          0.7322515249252318,
          1,
          0.9837728142738342,
          0.48478701710700983,
          0.1784989833831787,
          0.11156186461448668,
          0.08113590627908705,
          0.05070994049310684,
          0.0466531440615654,
          0.0466531440615654,
          0.030425963923335075,
          0.038539554923772805,
          0.03448275849223137,
          0.03448275849223137,
          0.02434077113866806,
          0.022312372922897335,
          0.006085192784667015,
          0.018255578354001045,
          0.014198782853782175,
          0.016227180138230324,
          0,
          0.010141988284885883,
          0.010141988284885883,
          0.022312372922897335,
          0.014198782853782175,
          0.038539554923772805,
          0.04462474584579468,
          0.06085192784667015,
          0.06896551698446274,
          0.09939148277044296,
          0.10141988098621368,
          0.11561866104602812,
          0.10750506818294524,
          0.1135902628302574,
          0.10547666996717452,
          0.11764705926179884,
          0.10953346639871596,
          0.11156186461448668,
          0.1034482792019844,
          0.11156186461448668,
          0.10750506818294524,
          0.11156186461448668,
          0.1034482792019844,
          0.10953346639871596,
          0.10953346639871596,
          0.1135902628302574,
          0.10547666996717452,
          0.1135902628302574,
          0.10547666996717452,
          0.11967545747756958,
          0.11561866104602812,
          0.1298174411058426,
          0.14401622116565704,
          0.16227181255817413,
          0.1764705926179886,
          0.19472616910934448,
          0.18458418548107147,
          0.17241379618644714,
          0.1298174411058426,
          0.1318458467721939,
          0.1217038556933403,
          0.12373225390911102,
          0.11764705926179884,
          0.12373225390911102,
          0.11967545747756958,
          0.12373225390911102,
          0.10953346639871596,
          0.2352941185235977,
          0.5253549814224243,
          0.797160267829895,
          0.5415821671485901,
          0.10953346639871596,
          0.1034482792019844,
          0.12778905034065247,
          0.1318458467721939,
          0.1298174411058426,
          0.12373225390911102,
          0.12778905034065247,
          0.12373225390911102,
          0.1298174411058426,
          0.12778905034065247,
          0.13793103396892548,
          0,
          0,
          0,
          0,
          0,
          0,
          0,
          0,
          0,
          0,
          0,
          0,
          0,
          0,
          0,
          0,
          0,
          0,
          0,
          0,
          0,
          0,
          0,
          0,
          0,
          0,
          0,
          0,
          0,
          0,
          0,
          0,
          0,
          0,
          0,
          0,
          0,
          0,
          0,
          0,
          0,
          0,
          0,
          0,
          0,
          0,
          0,
          0,
          0,
          0,
          0,
          0,
          0,
          0,
          0,
          0,
          0,
          0,
          0,
          0,
          0,
          0,
          0,
          0,
          0,
          0,
          0,
          0,
          0,
          0,
          0,
          0,
          0,
          0,
          0,
          0,
          0,
          0,
          0,
          0,
          0,
          0,
          0,
          0,
          0,
          0,
          0,
          0,
          0,
          0,
          0,
          0,
          0,
          0,
          0,
          0,
          0,
          0,
          0,
          0,
          0,
          0,
          0,
          0,
          0
         ],
         "yaxis": "y"
        },
        {
         "hovertemplate": "Categorías=Fusion of paced and normal<br>Intervalos de Tiempo=%{x}<br>Amplitud (mV)=%{y}<extra></extra>",
         "legendgroup": "Fusion of paced and normal",
         "line": {
          "color": "#FFA15A",
          "dash": "solid"
         },
         "marker": {
          "symbol": "circle"
         },
         "mode": "lines",
         "name": "Fusion of paced and normal",
         "orientation": "v",
         "showlegend": true,
         "type": "scatter",
         "x": [
          0,
          1,
          2,
          3,
          4,
          5,
          6,
          7,
          8,
          9,
          10,
          11,
          12,
          13,
          14,
          15,
          16,
          17,
          18,
          19,
          20,
          21,
          22,
          23,
          24,
          25,
          26,
          27,
          28,
          29,
          30,
          31,
          32,
          33,
          34,
          35,
          36,
          37,
          38,
          39,
          40,
          41,
          42,
          43,
          44,
          45,
          46,
          47,
          48,
          49,
          50,
          51,
          52,
          53,
          54,
          55,
          56,
          57,
          58,
          59,
          60,
          61,
          62,
          63,
          64,
          65,
          66,
          67,
          68,
          69,
          70,
          71,
          72,
          73,
          74,
          75,
          76,
          77,
          78,
          79,
          80,
          81,
          82,
          83,
          84,
          85,
          86,
          87,
          88,
          89,
          90,
          91,
          92,
          93,
          94,
          95,
          96,
          97,
          98,
          99,
          100,
          101,
          102,
          103,
          104,
          105,
          106,
          107,
          108,
          109,
          110,
          111,
          112,
          113,
          114,
          115,
          116,
          117,
          118,
          119,
          120,
          121,
          122,
          123,
          124,
          125,
          126,
          127,
          128,
          129,
          130,
          131,
          132,
          133,
          134,
          135,
          136,
          137,
          138,
          139,
          140,
          141,
          142,
          143,
          144,
          145,
          146,
          147,
          148,
          149,
          150,
          151,
          152,
          153,
          154,
          155,
          156,
          157,
          158,
          159,
          160,
          161,
          162,
          163,
          164,
          165,
          166,
          167,
          168,
          169,
          170,
          171,
          172,
          173,
          174,
          175,
          176,
          177,
          178,
          179,
          180,
          181,
          182,
          183,
          184,
          185,
          186
         ],
         "xaxis": "x",
         "y": [
          1,
          0.4848484992980957,
          0.5416666865348816,
          0.5265151262283325,
          0.5227272510528564,
          0.5075757503509521,
          0.4962121248245239,
          0.41287878155708313,
          0.28409090638160706,
          0.1401515156030655,
          0,
          0.08712121099233627,
          0.10606060922145844,
          0.11363636702299118,
          0.14772726595401764,
          0.2083333283662796,
          0.17045454680919647,
          0.16287878155708313,
          0.17424242198467255,
          0.1818181872367859,
          0.18939393758773804,
          0.185606062412262,
          0.19318181276321408,
          0.1818181872367859,
          0.185606062412262,
          0.1818181872367859,
          0.18939393758773804,
          0.17424242198467255,
          0.19318181276321408,
          0.1818181872367859,
          0.185606062412262,
          0.19696970283985135,
          0.2083333283662796,
          0.21590909361839292,
          0.23863635957241056,
          0.2537878751754761,
          0.26893940567970276,
          0.2916666567325592,
          0.3030303120613098,
          0.310606062412262,
          0.3333333432674408,
          0.3484848439693451,
          0.344696968793869,
          0.3333333432674408,
          0.3333333432674408,
          0.31818181276321406,
          0.2954545319080353,
          0.29924243688583374,
          0.28409090638160706,
          0.2765151560306549,
          0.26893940567970276,
          0.2575757503509521,
          0.25,
          0.2575757503509521,
          0.2575757503509521,
          0.24242424964904785,
          0.26893940567970276,
          0.26893940567970276,
          0.2651515007019043,
          0.28409090638160706,
          0.27272728085517883,
          0.24621212482452393,
          0.2575757503509521,
          0.25,
          0.24621212482452393,
          0.21590909361839292,
          0.21590909361839292,
          0.219696968793869,
          0.219696968793869,
          0.2083333283662796,
          0.19696970283985135,
          0.19318181276321408,
          0.185606062412262,
          0.1818181872367859,
          0.1818181872367859,
          0.18939393758773804,
          0.18939393758773804,
          0.19318181276321408,
          0.19318181276321408,
          0.17045454680919647,
          0.17803029716014862,
          0.1818181872367859,
          0.17045454680919647,
          0.17424242198467255,
          0.1818181872367859,
          0.1818181872367859,
          0.20075757801532745,
          0.185606062412262,
          0.1818181872367859,
          0.185606062412262,
          0.185606062412262,
          0.18939393758773804,
          0.19696970283985135,
          0.185606062412262,
          0.2083333283662796,
          0.2083333283662796,
          0.2234848439693451,
          0.28409090638160706,
          0.6553030014038086,
          0.9431818127632141,
          0.4924242496490479,
          0.5530303120613098,
          0.5530303120613098,
          0.564393937587738,
          0.5151515007019042,
          0.5265151262283325,
          0.5189393758773804,
          0.4507575631141663,
          0.34090909361839294,
          0.15530303120613098,
          0.1666666716337204,
          0.18939393758773804,
          0.1401515156030655,
          0.10227272659540176,
          0.11363636702299118,
          0.11363636702299118,
          0.12878787517547607,
          0.125,
          0.09090909361839294,
          0,
          0,
          0,
          0,
          0,
          0,
          0,
          0,
          0,
          0,
          0,
          0,
          0,
          0,
          0,
          0,
          0,
          0,
          0,
          0,
          0,
          0,
          0,
          0,
          0,
          0,
          0,
          0,
          0,
          0,
          0,
          0,
          0,
          0,
          0,
          0,
          0,
          0,
          0,
          0,
          0,
          0,
          0,
          0,
          0,
          0,
          0,
          0,
          0,
          0,
          0,
          0,
          0,
          0,
          0,
          0,
          0,
          0,
          0,
          0,
          0,
          0,
          0,
          0,
          0,
          0,
          0,
          0
         ],
         "yaxis": "y"
        }
       ],
       "layout": {
        "height": 500,
        "legend": {
         "title": {
          "text": "Categorías"
         },
         "tracegroupgap": 0
        },
        "template": {
         "data": {
          "bar": [
           {
            "error_x": {
             "color": "#2a3f5f"
            },
            "error_y": {
             "color": "#2a3f5f"
            },
            "marker": {
             "line": {
              "color": "#E5ECF6",
              "width": 0.5
             },
             "pattern": {
              "fillmode": "overlay",
              "size": 10,
              "solidity": 0.2
             }
            },
            "type": "bar"
           }
          ],
          "barpolar": [
           {
            "marker": {
             "line": {
              "color": "#E5ECF6",
              "width": 0.5
             },
             "pattern": {
              "fillmode": "overlay",
              "size": 10,
              "solidity": 0.2
             }
            },
            "type": "barpolar"
           }
          ],
          "carpet": [
           {
            "aaxis": {
             "endlinecolor": "#2a3f5f",
             "gridcolor": "white",
             "linecolor": "white",
             "minorgridcolor": "white",
             "startlinecolor": "#2a3f5f"
            },
            "baxis": {
             "endlinecolor": "#2a3f5f",
             "gridcolor": "white",
             "linecolor": "white",
             "minorgridcolor": "white",
             "startlinecolor": "#2a3f5f"
            },
            "type": "carpet"
           }
          ],
          "choropleth": [
           {
            "colorbar": {
             "outlinewidth": 0,
             "ticks": ""
            },
            "type": "choropleth"
           }
          ],
          "contour": [
           {
            "colorbar": {
             "outlinewidth": 0,
             "ticks": ""
            },
            "colorscale": [
             [
              0,
              "#0d0887"
             ],
             [
              0.1111111111111111,
              "#46039f"
             ],
             [
              0.2222222222222222,
              "#7201a8"
             ],
             [
              0.3333333333333333,
              "#9c179e"
             ],
             [
              0.4444444444444444,
              "#bd3786"
             ],
             [
              0.5555555555555556,
              "#d8576b"
             ],
             [
              0.6666666666666666,
              "#ed7953"
             ],
             [
              0.7777777777777778,
              "#fb9f3a"
             ],
             [
              0.8888888888888888,
              "#fdca26"
             ],
             [
              1,
              "#f0f921"
             ]
            ],
            "type": "contour"
           }
          ],
          "contourcarpet": [
           {
            "colorbar": {
             "outlinewidth": 0,
             "ticks": ""
            },
            "type": "contourcarpet"
           }
          ],
          "heatmap": [
           {
            "colorbar": {
             "outlinewidth": 0,
             "ticks": ""
            },
            "colorscale": [
             [
              0,
              "#0d0887"
             ],
             [
              0.1111111111111111,
              "#46039f"
             ],
             [
              0.2222222222222222,
              "#7201a8"
             ],
             [
              0.3333333333333333,
              "#9c179e"
             ],
             [
              0.4444444444444444,
              "#bd3786"
             ],
             [
              0.5555555555555556,
              "#d8576b"
             ],
             [
              0.6666666666666666,
              "#ed7953"
             ],
             [
              0.7777777777777778,
              "#fb9f3a"
             ],
             [
              0.8888888888888888,
              "#fdca26"
             ],
             [
              1,
              "#f0f921"
             ]
            ],
            "type": "heatmap"
           }
          ],
          "heatmapgl": [
           {
            "colorbar": {
             "outlinewidth": 0,
             "ticks": ""
            },
            "colorscale": [
             [
              0,
              "#0d0887"
             ],
             [
              0.1111111111111111,
              "#46039f"
             ],
             [
              0.2222222222222222,
              "#7201a8"
             ],
             [
              0.3333333333333333,
              "#9c179e"
             ],
             [
              0.4444444444444444,
              "#bd3786"
             ],
             [
              0.5555555555555556,
              "#d8576b"
             ],
             [
              0.6666666666666666,
              "#ed7953"
             ],
             [
              0.7777777777777778,
              "#fb9f3a"
             ],
             [
              0.8888888888888888,
              "#fdca26"
             ],
             [
              1,
              "#f0f921"
             ]
            ],
            "type": "heatmapgl"
           }
          ],
          "histogram": [
           {
            "marker": {
             "pattern": {
              "fillmode": "overlay",
              "size": 10,
              "solidity": 0.2
             }
            },
            "type": "histogram"
           }
          ],
          "histogram2d": [
           {
            "colorbar": {
             "outlinewidth": 0,
             "ticks": ""
            },
            "colorscale": [
             [
              0,
              "#0d0887"
             ],
             [
              0.1111111111111111,
              "#46039f"
             ],
             [
              0.2222222222222222,
              "#7201a8"
             ],
             [
              0.3333333333333333,
              "#9c179e"
             ],
             [
              0.4444444444444444,
              "#bd3786"
             ],
             [
              0.5555555555555556,
              "#d8576b"
             ],
             [
              0.6666666666666666,
              "#ed7953"
             ],
             [
              0.7777777777777778,
              "#fb9f3a"
             ],
             [
              0.8888888888888888,
              "#fdca26"
             ],
             [
              1,
              "#f0f921"
             ]
            ],
            "type": "histogram2d"
           }
          ],
          "histogram2dcontour": [
           {
            "colorbar": {
             "outlinewidth": 0,
             "ticks": ""
            },
            "colorscale": [
             [
              0,
              "#0d0887"
             ],
             [
              0.1111111111111111,
              "#46039f"
             ],
             [
              0.2222222222222222,
              "#7201a8"
             ],
             [
              0.3333333333333333,
              "#9c179e"
             ],
             [
              0.4444444444444444,
              "#bd3786"
             ],
             [
              0.5555555555555556,
              "#d8576b"
             ],
             [
              0.6666666666666666,
              "#ed7953"
             ],
             [
              0.7777777777777778,
              "#fb9f3a"
             ],
             [
              0.8888888888888888,
              "#fdca26"
             ],
             [
              1,
              "#f0f921"
             ]
            ],
            "type": "histogram2dcontour"
           }
          ],
          "mesh3d": [
           {
            "colorbar": {
             "outlinewidth": 0,
             "ticks": ""
            },
            "type": "mesh3d"
           }
          ],
          "parcoords": [
           {
            "line": {
             "colorbar": {
              "outlinewidth": 0,
              "ticks": ""
             }
            },
            "type": "parcoords"
           }
          ],
          "pie": [
           {
            "automargin": true,
            "type": "pie"
           }
          ],
          "scatter": [
           {
            "fillpattern": {
             "fillmode": "overlay",
             "size": 10,
             "solidity": 0.2
            },
            "type": "scatter"
           }
          ],
          "scatter3d": [
           {
            "line": {
             "colorbar": {
              "outlinewidth": 0,
              "ticks": ""
             }
            },
            "marker": {
             "colorbar": {
              "outlinewidth": 0,
              "ticks": ""
             }
            },
            "type": "scatter3d"
           }
          ],
          "scattercarpet": [
           {
            "marker": {
             "colorbar": {
              "outlinewidth": 0,
              "ticks": ""
             }
            },
            "type": "scattercarpet"
           }
          ],
          "scattergeo": [
           {
            "marker": {
             "colorbar": {
              "outlinewidth": 0,
              "ticks": ""
             }
            },
            "type": "scattergeo"
           }
          ],
          "scattergl": [
           {
            "marker": {
             "colorbar": {
              "outlinewidth": 0,
              "ticks": ""
             }
            },
            "type": "scattergl"
           }
          ],
          "scattermapbox": [
           {
            "marker": {
             "colorbar": {
              "outlinewidth": 0,
              "ticks": ""
             }
            },
            "type": "scattermapbox"
           }
          ],
          "scatterpolar": [
           {
            "marker": {
             "colorbar": {
              "outlinewidth": 0,
              "ticks": ""
             }
            },
            "type": "scatterpolar"
           }
          ],
          "scatterpolargl": [
           {
            "marker": {
             "colorbar": {
              "outlinewidth": 0,
              "ticks": ""
             }
            },
            "type": "scatterpolargl"
           }
          ],
          "scatterternary": [
           {
            "marker": {
             "colorbar": {
              "outlinewidth": 0,
              "ticks": ""
             }
            },
            "type": "scatterternary"
           }
          ],
          "surface": [
           {
            "colorbar": {
             "outlinewidth": 0,
             "ticks": ""
            },
            "colorscale": [
             [
              0,
              "#0d0887"
             ],
             [
              0.1111111111111111,
              "#46039f"
             ],
             [
              0.2222222222222222,
              "#7201a8"
             ],
             [
              0.3333333333333333,
              "#9c179e"
             ],
             [
              0.4444444444444444,
              "#bd3786"
             ],
             [
              0.5555555555555556,
              "#d8576b"
             ],
             [
              0.6666666666666666,
              "#ed7953"
             ],
             [
              0.7777777777777778,
              "#fb9f3a"
             ],
             [
              0.8888888888888888,
              "#fdca26"
             ],
             [
              1,
              "#f0f921"
             ]
            ],
            "type": "surface"
           }
          ],
          "table": [
           {
            "cells": {
             "fill": {
              "color": "#EBF0F8"
             },
             "line": {
              "color": "white"
             }
            },
            "header": {
             "fill": {
              "color": "#C8D4E3"
             },
             "line": {
              "color": "white"
             }
            },
            "type": "table"
           }
          ]
         },
         "layout": {
          "annotationdefaults": {
           "arrowcolor": "#2a3f5f",
           "arrowhead": 0,
           "arrowwidth": 1
          },
          "autotypenumbers": "strict",
          "coloraxis": {
           "colorbar": {
            "outlinewidth": 0,
            "ticks": ""
           }
          },
          "colorscale": {
           "diverging": [
            [
             0,
             "#8e0152"
            ],
            [
             0.1,
             "#c51b7d"
            ],
            [
             0.2,
             "#de77ae"
            ],
            [
             0.3,
             "#f1b6da"
            ],
            [
             0.4,
             "#fde0ef"
            ],
            [
             0.5,
             "#f7f7f7"
            ],
            [
             0.6,
             "#e6f5d0"
            ],
            [
             0.7,
             "#b8e186"
            ],
            [
             0.8,
             "#7fbc41"
            ],
            [
             0.9,
             "#4d9221"
            ],
            [
             1,
             "#276419"
            ]
           ],
           "sequential": [
            [
             0,
             "#0d0887"
            ],
            [
             0.1111111111111111,
             "#46039f"
            ],
            [
             0.2222222222222222,
             "#7201a8"
            ],
            [
             0.3333333333333333,
             "#9c179e"
            ],
            [
             0.4444444444444444,
             "#bd3786"
            ],
            [
             0.5555555555555556,
             "#d8576b"
            ],
            [
             0.6666666666666666,
             "#ed7953"
            ],
            [
             0.7777777777777778,
             "#fb9f3a"
            ],
            [
             0.8888888888888888,
             "#fdca26"
            ],
            [
             1,
             "#f0f921"
            ]
           ],
           "sequentialminus": [
            [
             0,
             "#0d0887"
            ],
            [
             0.1111111111111111,
             "#46039f"
            ],
            [
             0.2222222222222222,
             "#7201a8"
            ],
            [
             0.3333333333333333,
             "#9c179e"
            ],
            [
             0.4444444444444444,
             "#bd3786"
            ],
            [
             0.5555555555555556,
             "#d8576b"
            ],
            [
             0.6666666666666666,
             "#ed7953"
            ],
            [
             0.7777777777777778,
             "#fb9f3a"
            ],
            [
             0.8888888888888888,
             "#fdca26"
            ],
            [
             1,
             "#f0f921"
            ]
           ]
          },
          "colorway": [
           "#636efa",
           "#EF553B",
           "#00cc96",
           "#ab63fa",
           "#FFA15A",
           "#19d3f3",
           "#FF6692",
           "#B6E880",
           "#FF97FF",
           "#FECB52"
          ],
          "font": {
           "color": "#2a3f5f"
          },
          "geo": {
           "bgcolor": "white",
           "lakecolor": "white",
           "landcolor": "#E5ECF6",
           "showlakes": true,
           "showland": true,
           "subunitcolor": "white"
          },
          "hoverlabel": {
           "align": "left"
          },
          "hovermode": "closest",
          "mapbox": {
           "style": "light"
          },
          "paper_bgcolor": "white",
          "plot_bgcolor": "#E5ECF6",
          "polar": {
           "angularaxis": {
            "gridcolor": "white",
            "linecolor": "white",
            "ticks": ""
           },
           "bgcolor": "#E5ECF6",
           "radialaxis": {
            "gridcolor": "white",
            "linecolor": "white",
            "ticks": ""
           }
          },
          "scene": {
           "xaxis": {
            "backgroundcolor": "#E5ECF6",
            "gridcolor": "white",
            "gridwidth": 2,
            "linecolor": "white",
            "showbackground": true,
            "ticks": "",
            "zerolinecolor": "white"
           },
           "yaxis": {
            "backgroundcolor": "#E5ECF6",
            "gridcolor": "white",
            "gridwidth": 2,
            "linecolor": "white",
            "showbackground": true,
            "ticks": "",
            "zerolinecolor": "white"
           },
           "zaxis": {
            "backgroundcolor": "#E5ECF6",
            "gridcolor": "white",
            "gridwidth": 2,
            "linecolor": "white",
            "showbackground": true,
            "ticks": "",
            "zerolinecolor": "white"
           }
          },
          "shapedefaults": {
           "line": {
            "color": "#2a3f5f"
           }
          },
          "ternary": {
           "aaxis": {
            "gridcolor": "white",
            "linecolor": "white",
            "ticks": ""
           },
           "baxis": {
            "gridcolor": "white",
            "linecolor": "white",
            "ticks": ""
           },
           "bgcolor": "#E5ECF6",
           "caxis": {
            "gridcolor": "white",
            "linecolor": "white",
            "ticks": ""
           }
          },
          "title": {
           "x": 0.05
          },
          "xaxis": {
           "automargin": true,
           "gridcolor": "white",
           "linecolor": "white",
           "ticks": "",
           "title": {
            "standoff": 15
           },
           "zerolinecolor": "white",
           "zerolinewidth": 2
          },
          "yaxis": {
           "automargin": true,
           "gridcolor": "white",
           "linecolor": "white",
           "ticks": "",
           "title": {
            "standoff": 15
           },
           "zerolinecolor": "white",
           "zerolinewidth": 2
          }
         }
        },
        "title": {
         "text": "Una Señal ECG de Cada Categoría",
         "x": 0.25
        },
        "width": 1000,
        "xaxis": {
         "anchor": "y",
         "domain": [
          0,
          1
         ],
         "title": {
          "text": "Intervalos de Tiempo"
         }
        },
        "yaxis": {
         "anchor": "x",
         "domain": [
          0,
          1
         ],
         "title": {
          "text": "Amplitud (mV)"
         }
        }
       }
      }
     },
     "metadata": {},
     "output_type": "display_data"
    }
   ],
   "source": [
    "# Cargar datos desde el archivo CSV\n",
    "train_data = pd.read_csv('MIT-BIH/mitbih_train.csv', header=None)\n",
    "\n",
    "# Extraer señales representativas usando los parámetros actuales\n",
    "ecg_0 = train_data.loc[train_data[187] == 0, :].iloc[1, :187]  # Clase 0 (Normal)\n",
    "ecg_1 = train_data.loc[train_data[187] == 1, :].iloc[1, :187]  # Clase 1 (Artial Premature)\n",
    "ecg_2 = train_data.loc[train_data[187] == 2, :].iloc[1, :187]  # Clase 2 (Premature ventricular contraction)\n",
    "ecg_3 = train_data.loc[train_data[187] == 3, :].iloc[1, :187]  # Clase 3 (Fusion of ventricular and normal)\n",
    "ecg_4 = train_data.loc[train_data[187] == 4, :].iloc[1, :187]  # Clase 4 (Fusion of paced and normal)\n",
    "\n",
    "# Crear un DataFrame con las señales\n",
    "ecg_df = pd.DataFrame({\n",
    "    'Normal': ecg_0,\n",
    "    'Artial Premature': ecg_1,\n",
    "    'Premature ventricular contraction': ecg_2,\n",
    "    'Fusion of ventricular and normal': ecg_3,\n",
    "    'Fusion of paced and normal': ecg_4\n",
    "})\n",
    "\n",
    "# Graficar con Plotly\n",
    "ecg_plot = px.line(\n",
    "    ecg_df,\n",
    "    labels={'index': 'Intervalos de Tiempo', 'value': 'Amplitud (mV)', 'variable': 'Categorías'},\n",
    "    title=\"Una Señal ECG de Cada Categoría\"\n",
    ")\n",
    "\n",
    "# Configurar diseño de la gráfica\n",
    "ecg_plot.update_layout(title_x=0.25, width=1000, height=500)\n",
    "\n",
    "# Mostrar gráfica\n",
    "ecg_plot.show()"
   ]
  },
  {
   "cell_type": "markdown",
   "metadata": {},
   "source": [
    "2.\tDefinición del Modelo:\n",
    "\n",
    "        a) Prueba 1: Modelo ANN (Red Neuronal Artificial)\n",
    "\n",
    "    - Implementar una red neuronal completamente conectada con varias capas densas para extraer características básicas de las señales de ECG.\n",
    "\n",
    "    - Seleccionar la cantidad de neuronas en cada capa y usar funciones de activación ReLU para las capas intermedias.\n",
    "\n",
    "    - Agregar capas de Dropout para reducir el sobreajuste.\n",
    "\n",
    "    - La capa de salida debe tener tantas neuronas como clases de arritmias, usando una función de activación softmax.\n",
    "\n",
    "    - Compilar el modelo utilizando un optimizador como Adam y la función de pérdida categorical_crossentropy."
   ]
  },
  {
   "cell_type": "code",
   "execution_count": 33,
   "metadata": {},
   "outputs": [
    {
     "name": "stdout",
     "output_type": "stream",
     "text": [
      "Creando un nuevo modelo...\n",
      "Model: \"sequential_3\"\n",
      "_________________________________________________________________\n",
      " Layer (type)                Output Shape              Param #   \n",
      "=================================================================\n",
      " dense_9 (Dense)             (None, 128)               25728     \n",
      "                                                                 \n",
      " dropout_6 (Dropout)         (None, 128)               0         \n",
      "                                                                 \n",
      " dense_10 (Dense)            (None, 64)                8256      \n",
      "                                                                 \n",
      " dropout_7 (Dropout)         (None, 64)                0         \n",
      "                                                                 \n",
      " dense_11 (Dense)            (None, 5)                 325       \n",
      "                                                                 \n",
      "=================================================================\n",
      "Total params: 34309 (134.02 KB)\n",
      "Trainable params: 34309 (134.02 KB)\n",
      "Non-trainable params: 0 (0.00 Byte)\n",
      "_________________________________________________________________\n",
      "Epoch 1/10\n",
      "1367/1369 [============================>.] - ETA: 0s - loss: 0.3508 - accuracy: 0.9024\n",
      "Epoch 1: val_loss improved from inf to 0.21454, saving model to modelo_ann_checkpoint.h5\n",
      "1369/1369 [==============================] - 6s 4ms/step - loss: 0.3506 - accuracy: 0.9024 - val_loss: 0.2145 - val_accuracy: 0.9378\n",
      "Epoch 2/10\n",
      "1363/1369 [============================>.] - ETA: 0s - loss: 0.2254 - accuracy: 0.9376\n",
      "Epoch 2: val_loss improved from 0.21454 to 0.18402, saving model to modelo_ann_checkpoint.h5\n",
      "1369/1369 [==============================] - 5s 4ms/step - loss: 0.2252 - accuracy: 0.9377 - val_loss: 0.1840 - val_accuracy: 0.9456\n",
      "Epoch 3/10\n",
      "1355/1369 [============================>.] - ETA: 0s - loss: 0.1934 - accuracy: 0.9465\n",
      "Epoch 3: val_loss improved from 0.18402 to 0.16087, saving model to modelo_ann_checkpoint.h5\n",
      "1369/1369 [==============================] - 6s 4ms/step - loss: 0.1932 - accuracy: 0.9465 - val_loss: 0.1609 - val_accuracy: 0.9539\n",
      "Epoch 4/10\n",
      "1355/1369 [============================>.] - ETA: 0s - loss: 0.1764 - accuracy: 0.9508\n",
      "Epoch 4: val_loss improved from 0.16087 to 0.14774, saving model to modelo_ann_checkpoint.h5\n",
      "1369/1369 [==============================] - 5s 4ms/step - loss: 0.1761 - accuracy: 0.9509 - val_loss: 0.1477 - val_accuracy: 0.9583\n",
      "Epoch 5/10\n",
      "1355/1369 [============================>.] - ETA: 0s - loss: 0.1681 - accuracy: 0.9532\n",
      "Epoch 5: val_loss improved from 0.14774 to 0.14051, saving model to modelo_ann_checkpoint.h5\n",
      "1369/1369 [==============================] - 5s 4ms/step - loss: 0.1680 - accuracy: 0.9532 - val_loss: 0.1405 - val_accuracy: 0.9597\n",
      "Epoch 6/10\n",
      "1357/1369 [============================>.] - ETA: 0s - loss: 0.1593 - accuracy: 0.9552\n",
      "Epoch 6: val_loss improved from 0.14051 to 0.13395, saving model to modelo_ann_checkpoint.h5\n",
      "1369/1369 [==============================] - 5s 4ms/step - loss: 0.1593 - accuracy: 0.9551 - val_loss: 0.1339 - val_accuracy: 0.9608\n",
      "Epoch 7/10\n",
      "1364/1369 [============================>.] - ETA: 0s - loss: 0.1549 - accuracy: 0.9568\n",
      "Epoch 7: val_loss improved from 0.13395 to 0.13223, saving model to modelo_ann_checkpoint.h5\n",
      "1369/1369 [==============================] - 5s 4ms/step - loss: 0.1547 - accuracy: 0.9568 - val_loss: 0.1322 - val_accuracy: 0.9627\n",
      "Epoch 8/10\n",
      "1359/1369 [============================>.] - ETA: 0s - loss: 0.1496 - accuracy: 0.9576\n",
      "Epoch 8: val_loss improved from 0.13223 to 0.12419, saving model to modelo_ann_checkpoint.h5\n",
      "1369/1369 [==============================] - 6s 4ms/step - loss: 0.1497 - accuracy: 0.9575 - val_loss: 0.1242 - val_accuracy: 0.9641\n",
      "Epoch 9/10\n",
      "1368/1369 [============================>.] - ETA: 0s - loss: 0.1443 - accuracy: 0.9591\n",
      "Epoch 9: val_loss improved from 0.12419 to 0.12315, saving model to modelo_ann_checkpoint.h5\n",
      "1369/1369 [==============================] - 5s 4ms/step - loss: 0.1443 - accuracy: 0.9591 - val_loss: 0.1232 - val_accuracy: 0.9646\n",
      "Epoch 10/10\n",
      "1361/1369 [============================>.] - ETA: 0s - loss: 0.1414 - accuracy: 0.9593\n",
      "Epoch 10: val_loss improved from 0.12315 to 0.11539, saving model to modelo_ann_checkpoint.h5\n",
      "1369/1369 [==============================] - 6s 4ms/step - loss: 0.1414 - accuracy: 0.9593 - val_loss: 0.1154 - val_accuracy: 0.9668\n",
      "Modelo inicial guardado exitosamente.\n"
     ]
    }
   ],
   "source": [
    "# Definir el modelo ANN\n",
    "def crear_modelo_ann(input_dim, num_clases):\n",
    "    modelo = Sequential()\n",
    "    \n",
    "    # Capa de entrada y primera capa oculta\n",
    "    modelo.add(Dense(128, activation='relu', input_dim=input_dim))\n",
    "    modelo.add(Dropout(0.3))  # Capa de dropout para reducir sobreajuste\n",
    "    \n",
    "    # Segunda capa oculta\n",
    "    modelo.add(Dense(64, activation='relu'))\n",
    "    modelo.add(Dropout(0.3))  # Capa de dropout adicional\n",
    "    \n",
    "    # Capa de salida\n",
    "    modelo.add(Dense(num_clases, activation='softmax'))  # Softmax para clasificación multiclase\n",
    "    \n",
    "    # Compilar el modelo\n",
    "    modelo.compile(optimizer=Adam(learning_rate=0.001),\n",
    "                   loss='categorical_crossentropy',\n",
    "                   metrics=['accuracy'])\n",
    "    \n",
    "    return modelo\n",
    "\n",
    "# Convertir etiquetas a formato one-hot encoding\n",
    "num_clases = len(np.unique(y_train))  # Número de clases en las etiquetas\n",
    "y_train_one_hot = tf.keras.utils.to_categorical(y_train, num_classes=num_clases)\n",
    "y_test_one_hot = tf.keras.utils.to_categorical(y_test, num_classes=num_clases)\n",
    "\n",
    "# Crear un nuevo modelo\n",
    "print(\"Creando un nuevo modelo...\")\n",
    "input_dim = X_train_normalized.shape[1]  # Número de características de entrada\n",
    "modelo_ann = crear_modelo_ann(input_dim, num_clases)\n",
    "\n",
    "# Resumen del modelo\n",
    "modelo_ann.summary()\n",
    "\n",
    "# Guardar el mejor modelo durante el entrenamiento\n",
    "model_path = 'modelo_ann_checkpoint.h5'\n",
    "checkpoint = ModelCheckpoint(filepath=model_path, save_best_only=True, monitor='val_loss', verbose=1)\n",
    "\n",
    "# Entrenar el modelo\n",
    "history = modelo_ann.fit(X_train_normalized, y_train_one_hot,\n",
    "                         validation_data=(X_test_normalized, y_test_one_hot),\n",
    "                         epochs=10,  # Cambia el número de épocas según sea necesario\n",
    "                         batch_size=64,\n",
    "                         callbacks=[checkpoint])\n",
    "\n",
    "# Guardar el modelo actualizado\n",
    "modelo_ann.save('modelo_ann_inicial.h5')\n",
    "print(\"Modelo inicial guardado exitosamente.\")"
   ]
  },
  {
   "cell_type": "code",
   "execution_count": null,
   "metadata": {},
   "outputs": [
    {
     "name": "stdout",
     "output_type": "stream",
     "text": [
      "Cargando el modelo desde checkpoint...\n",
      "Epoch 1/5\n",
      "1350/1369 [============================>.] - ETA: 0s - loss: 0.1230 - accuracy: 0.9655\n",
      "Epoch 1: val_loss improved from inf to 0.10786, saving model to modelo_ann_checkpoint.h5\n",
      "1369/1369 [==============================] - 5s 3ms/step - loss: 0.1232 - accuracy: 0.9654 - val_loss: 0.1079 - val_accuracy: 0.9709\n",
      "Epoch 2/5\n",
      "1360/1369 [============================>.] - ETA: 0s - loss: 0.1217 - accuracy: 0.9659\n",
      "Epoch 2: val_loss improved from 0.10786 to 0.10211, saving model to modelo_ann_checkpoint.h5\n",
      "1369/1369 [==============================] - 4s 3ms/step - loss: 0.1219 - accuracy: 0.9658 - val_loss: 0.1021 - val_accuracy: 0.9713\n",
      "Epoch 3/5\n",
      "1367/1369 [============================>.] - ETA: 0s - loss: 0.1217 - accuracy: 0.9655\n",
      "Epoch 3: val_loss did not improve from 0.10211\n",
      "1369/1369 [==============================] - 5s 3ms/step - loss: 0.1217 - accuracy: 0.9654 - val_loss: 0.1043 - val_accuracy: 0.9715\n",
      "Epoch 4/5\n",
      "1360/1369 [============================>.] - ETA: 0s - loss: 0.1206 - accuracy: 0.9658\n",
      "Epoch 4: val_loss improved from 0.10211 to 0.10201, saving model to modelo_ann_checkpoint.h5\n",
      "1369/1369 [==============================] - 5s 3ms/step - loss: 0.1204 - accuracy: 0.9658 - val_loss: 0.1020 - val_accuracy: 0.9714\n",
      "Epoch 5/5\n",
      "1369/1369 [==============================] - ETA: 0s - loss: 0.1193 - accuracy: 0.9661\n",
      "Epoch 5: val_loss did not improve from 0.10201\n",
      "1369/1369 [==============================] - 5s 4ms/step - loss: 0.1193 - accuracy: 0.9661 - val_loss: 0.1036 - val_accuracy: 0.9722\n",
      "685/685 [==============================] - 1s 2ms/step - loss: 0.1036 - accuracy: 0.9722\n",
      "Pérdida en prueba después del nuevo entrenamiento: 0.1036\n",
      "Precisión en prueba después del nuevo entrenamiento: 0.9722\n",
      "Modelo actualizado guardado exitosamente.\n"
     ]
    }
   ],
   "source": [
    "# Cargar el modelo desde el checkpoint\n",
    "model_path = 'modelo_ann_checkpoint.h5'\n",
    "if os.path.exists(model_path):\n",
    "    print(\"Cargando el modelo desde checkpoint...\")\n",
    "    modelo_ann = load_model(model_path)\n",
    "else:\n",
    "    raise FileNotFoundError(\"El checkpoint no existe. Por favor, ejecuta el primer bloque para crear el modelo inicial.\")\n",
    "\n",
    "# Continuar el entrenamiento del modelo\n",
    "checkpoint = ModelCheckpoint(filepath=model_path, save_best_only=True, monitor='val_loss', verbose=1)\n",
    "\n",
    "history_extra = modelo_ann.fit(X_train_normalized, y_train_one_hot,\n",
    "                               validation_data=(X_test_normalized, y_test_one_hot),\n",
    "                               epochs=5,  \n",
    "                               batch_size=64,\n",
    "                               callbacks=[checkpoint])\n",
    "\n",
    "# Evaluar el modelo nuevamente\n",
    "loss, accuracy = modelo_ann.evaluate(X_test_normalized, y_test_one_hot)\n",
    "print(f\"Pérdida en prueba después del nuevo entrenamiento: {loss:.4f}\")\n",
    "print(f\"Precisión en prueba después del nuevo entrenamiento: {accuracy:.4f}\")\n",
    "\n",
    "# Guardar el modelo actualizado\n",
    "modelo_ann.save('modelo_ann_actualizado.h5')\n",
    "print(\"Modelo actualizado guardado exitosamente.\")"
   ]
  },
  {
   "cell_type": "code",
   "execution_count": 44,
   "metadata": {},
   "outputs": [
    {
     "data": {
      "image/png": "[encoded data removed]",
      "text/plain": [
       "<Figure size 1000x600 with 1 Axes>"
      ]
     },
     "metadata": {},
     "output_type": "display_data"
    },
    {
     "data": {
      "image/png": "[encoded data removed]",
      "text/plain": [
       "<Figure size 1000x600 with 1 Axes>"
      ]
     },
     "metadata": {},
     "output_type": "display_data"
    }
   ],
   "source": [
    "# Crear tablas de precisión y pérdida\n",
    "def plot_metrics(history):\n",
    "    # Crear un DataFrame con las métricas\n",
    "    metrics_df = pd.DataFrame({\n",
    "        'Época': range(1, len(history.history['accuracy']) + 1),\n",
    "        'Precisión de Entrenamiento': history.history['accuracy'],\n",
    "        'Precisión de Validación': history.history['val_accuracy'],\n",
    "        'Pérdida de Entrenamiento': history.history['loss'],\n",
    "        'Pérdida de Validación': history.history['val_loss']\n",
    "    })\n",
    "\n",
    "    # Plot de Precisión\n",
    "    plt.figure(figsize=(10, 6))\n",
    "    sns.lineplot(x='Época', y='value', hue='variable',\n",
    "                 data=metrics_df.melt(id_vars=['Época'], value_vars=[\n",
    "                     'Precisión de Entrenamiento', 'Precisión de Validación']))\n",
    "    plt.title('Precisión durante el entrenamiento', fontsize=16)\n",
    "    plt.xlabel('Épocas', fontsize=12)\n",
    "    plt.ylabel('Precisión', fontsize=12)\n",
    "    plt.legend(title='Tipo', loc='lower right')\n",
    "    plt.grid(visible=True, linestyle='--', linewidth=0.5)\n",
    "    plt.show()\n",
    "\n",
    "    # Plot de Pérdida\n",
    "    plt.figure(figsize=(10, 6))\n",
    "    sns.lineplot(x='Época', y='value', hue='variable',\n",
    "                 data=metrics_df.melt(id_vars=['Época'], value_vars=[\n",
    "                     'Pérdida de Entrenamiento', 'Pérdida de Validación']))\n",
    "    plt.title('Pérdida durante el entrenamiento', fontsize=16)\n",
    "    plt.xlabel('Épocas', fontsize=12)\n",
    "    plt.ylabel('Pérdida', fontsize=12)\n",
    "    plt.legend(title='Tipo', loc='upper right')\n",
    "    plt.grid(visible=True, linestyle='--', linewidth=0.5)\n",
    "    plt.show()\n",
    "\n",
    "# Llamar a la función para graficar\n",
    "plot_metrics(history_extra)\n"
   ]
  },
  {
   "cell_type": "markdown",
   "metadata": {},
   "source": [
    "\n",
    "2.\tDefinición del Modelo:\n",
    "\n",
    "        b) Prueba 2: Modelo CNN (Red Neuronal Convolucional)\n",
    "\n",
    "    - Implementar una CNN con capas convolucionales para extraer características espaciales de las señales.   \n",
    "\n",
    "    - Las capas convolucionales deben incluir filtros de distintas profundidades (por ejemplo, 32, 64, 128), con funciones de activación ReLU.\n",
    "\n",
    "    - Usar capas de Batch Normalization para estabilizar el entrenamiento y mejorar la generalización.\n",
    "\n",
    "    - Agregar capas de MaxPooling para reducir la dimensionalidad.\n",
    "\n",
    "    - Incluir capas Dropout para evitar el sobreajuste.\n",
    "\n",
    "    - La capa de salida debe tener tantas neuronas como clases de arritmias, usando una función de activación softmax."
   ]
  },
  {
   "cell_type": "code",
   "execution_count": null,
   "metadata": {},
   "outputs": [],
   "source": []
  },
  {
   "cell_type": "markdown",
   "metadata": {},
   "source": [
    "2.\tDefinición del Modelo:\n",
    "    \n",
    "        c) Prueba 3: Modelo RNN (Red Neuronal Recurrente)\n",
    "        \n",
    "    -\tImplementar una RNN, específicamente utilizando capas LSTM, para capturar dependencias temporales en las señales de ECG.\n",
    "\n",
    "    -\tAgregar varias capas LSTM con un número adecuado de unidades y usar capas Dropout para mejorar la generalización.\n",
    "\n",
    "    -\tLa capa de salida debe tener tantas neuronas como clases de arritmias, usando una función de activación softmax.\n",
    "\n",
    "    -   Compilar el modelo usando un optimizador como Adam y categorical_crossentropy como función de pérdida. \n"
   ]
  },
  {
   "cell_type": "code",
   "execution_count": null,
   "metadata": {},
   "outputs": [],
   "source": []
  },
  {
   "cell_type": "markdown",
   "metadata": {},
   "source": [
    "3.\tAjuste de Hiperparámetros y Fine-tuning:\n",
    "\n",
    "    - Para cada modelo (ANN, CNN, RNN), ajustar el número de capas, unidades filtros por capa, tasa de aprendizaje y épocas de entrenamiento hasta obtener buenos resultados en términos de precisión.\n",
    "\n",
    "     - En el caso de la RNN, ajustar el tamaño de la ventana temporal para captar mejor las características temporales de la señal.\n"
   ]
  },
  {
   "cell_type": "code",
   "execution_count": null,
   "metadata": {},
   "outputs": [],
   "source": []
  },
  {
   "cell_type": "markdown",
   "metadata": {},
   "source": [
    "4.\tEvaluación y Métricas:\n",
    "\n",
    "    -\tEvaluar el desempeño de cada modelo en el conjunto de validación utilizando métricas como precisión, recall, F1-score y pérdida.\n",
    "\n",
    "    -\tGenerar y analizar la matriz de confusión para observar la precisión de cada clase de arritmia.\n",
    "\n",
    "    -\tGraficar la evolución de la precisión y la pérdida durante el entrenamiento y la validación para cada modelo.\n"
   ]
  },
  {
   "cell_type": "code",
   "execution_count": null,
   "metadata": {},
   "outputs": [],
   "source": []
  },
  {
   "cell_type": "markdown",
   "metadata": {},
   "source": [
    "5.\tComparación y Conclusiones:\n",
    "\n",
    "    -\tComparar los resultados obtenidos entre los modelos ANN, CNN y RNN en términos de precisión, tiempo de entrenamiento y capacidad de generalización.\n",
    "\n",
    "    -\tEvaluar si alguna de las arquitecturas proporciona una ventaja significativa en la clasificación de arritmias.\n",
    "\n",
    "    -\tExtraer conclusiones sobre cuál modelo es más adecuado para la clasificación de arritmias, proponiendo mejoras para experimentos futuros, como la implementación de técnicas de aumento de datos y el uso de arquitecturas avanzadas.\n"
   ]
  },
  {
   "cell_type": "code",
   "execution_count": null,
   "metadata": {},
   "outputs": [],
   "source": []
  }
 ],
 "metadata": {
  "kernelspec": {
   "display_name": ".venv",
   "language": "python",
   "name": "python3"
  },
  "language_info": {
   "codemirror_mode": {
    "name": "ipython",
    "version": 3
   },
   "file_extension": ".py",
   "mimetype": "text/x-python",
   "name": "python",
   "nbconvert_exporter": "python",
   "pygments_lexer": "ipython3",
   "version": "3.8.0"
  }
 },
 "nbformat": 4,
 "nbformat_minor": 2
}
