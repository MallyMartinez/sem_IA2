{
 "cells": [
  {
   "cell_type": "markdown",
   "metadata": {},
   "source": [
    "\n",
    "# Proyecto. Aplicacion de Redes Neuronales\n",
    "\n",
    "Hernandez Martinez Mally Samira | Código: 220286113 | Ingenieria de computacion (INCO) \n",
    "\n",
    "Seminario de Solucion de Problemas de Inteligencia Artificial II | Seccion D05 I7041\n"
   ]
  },
  {
   "cell_type": "markdown",
   "metadata": {},
   "source": [
    "<u>Caso de estudio</u>:\n",
    "\n",
    "Implementación de un clasificador automático de señales de ECG para la detección de arritmias, utilizando la base de datos MIT-BIH. Este sistema está diseñado para identificar automáticamente distintos tipos de arritmias, como el ritmo sinusal normal, contracciones ventriculares prematuras, y otras anomalías del ritmo cardíaco. Su aplicación potencial incluye su uso en sistemas de monitoreo médico en tiempo real para hospitales y dispositivos de telemedicina, permitiendo a los profesionales de la salud realizar un diagnóstico temprano y personalizado. Además, al facilitar una clasificación precisa y rápida, este sistema puede mejorar la accesibilidad a la atención médica remota, optimizando la capacidad de respuesta ante emergencias cardíacas y elevando el nivel de atención para pacientes con enfermedades cardiovasculares."
   ]
  },
  {
   "cell_type": "markdown",
   "metadata": {},
   "source": [
    "1.\tPreprocesamiento de Datos:\n",
    "\n",
    "    - Cargar el conjunto de datos de ECG de la base MIT-BIH, que incluye múltiples clases de arritmias (por ejemplo, ritmo sinusal normal, contracción ventricular prematura, entre otros).\n",
    "\n",
    "    - Asegurarse de que las señales estén correctamente etiquetadas para los distintos tipos de arritmias.\n",
    "\n",
    "    - Estandarizar la longitud de las señales para que todas tengan el mismo tamaño o segmentar cada muestra de ECG en ventanas de longitud fija, adecuadas para el modelo.\n",
    "\n",
    "    - Normalizar los datos de entrada para mejorar la convergencia del modelo, escalando los valores de las señales dentro de un rango adecuado.\n"
   ]
  },
  {
   "cell_type": "code",
   "execution_count": 1,
   "metadata": {},
   "outputs": [],
   "source": [
    "# Importacion de librerías\n",
    "import os\n",
    "import sys\n",
    "import time\n",
    "import random\n",
    "import pandas as pd\n",
    "import numpy as np\n",
    "import matplotlib.pyplot as plt\n",
    "import seaborn as sns\n",
    "import tensorflow as tf\n",
    "from sklearn.model_selection import train_test_split\n",
    "from sklearn.metrics import classification_report, confusion_matrix\n",
    "\n",
    "\n"
   ]
  },
  {
   "cell_type": "markdown",
   "metadata": {},
   "source": [
    "2.\tDefinición del Modelo:\n",
    "\n",
    "        a) Prueba 1: Modelo ANN (Red Neuronal Artificial)\n",
    "\n",
    "    - Implementar una red neuronal completamente conectada con varias capas densas para extraer características básicas de las señales de ECG.\n",
    "\n",
    "    - Seleccionar la cantidad de neuronas en cada capa y usar funciones de activación ReLU para las capas intermedias.\n",
    "\n",
    "    - Agregar capas de Dropout para reducir el sobreajuste.\n",
    "\n",
    "    - La capa de salida debe tener tantas neuronas como clases de arritmias, usando una función de activación softmax.\n",
    "\n",
    "    - Compilar el modelo utilizando un optimizador como Adam y la función de pérdida categorical_crossentropy."
   ]
  },
  {
   "cell_type": "code",
   "execution_count": null,
   "metadata": {},
   "outputs": [],
   "source": []
  },
  {
   "cell_type": "markdown",
   "metadata": {},
   "source": [
    "\n",
    "2.\tDefinición del Modelo:\n",
    "\n",
    "        b) Prueba 2: Modelo CNN (Red Neuronal Convolucional)\n",
    "\n",
    "    - Implementar una CNN con capas convolucionales para extraer características espaciales de las señales.   \n",
    "\n",
    "    - Las capas convolucionales deben incluir filtros de distintas profundidades (por ejemplo, 32, 64, 128), con funciones de activación ReLU.\n",
    "\n",
    "    - Usar capas de Batch Normalization para estabilizar el entrenamiento y mejorar la generalización.\n",
    "\n",
    "    - Agregar capas de MaxPooling para reducir la dimensionalidad.\n",
    "\n",
    "    - Incluir capas Dropout para evitar el sobreajuste.\n",
    "\n",
    "    - La capa de salida debe tener tantas neuronas como clases de arritmias, usando una función de activación softmax."
   ]
  },
  {
   "cell_type": "code",
   "execution_count": null,
   "metadata": {},
   "outputs": [],
   "source": []
  },
  {
   "cell_type": "markdown",
   "metadata": {},
   "source": [
    "2.\tDefinición del Modelo:\n",
    "    \n",
    "        c) Prueba 3: Modelo RNN (Red Neuronal Recurrente)\n",
    "        \n",
    "    -\tImplementar una RNN, específicamente utilizando capas LSTM, para capturar dependencias temporales en las señales de ECG.\n",
    "\n",
    "    -\tAgregar varias capas LSTM con un número adecuado de unidades y usar capas Dropout para mejorar la generalización.\n",
    "\n",
    "    -\tLa capa de salida debe tener tantas neuronas como clases de arritmias, usando una función de activación softmax.\n",
    "\n",
    "    -   Compilar el modelo usando un optimizador como Adam y categorical_crossentropy como función de pérdida. \n"
   ]
  },
  {
   "cell_type": "code",
   "execution_count": null,
   "metadata": {},
   "outputs": [],
   "source": []
  },
  {
   "cell_type": "markdown",
   "metadata": {},
   "source": [
    "3.\tAjuste de Hiperparámetros y Fine-tuning:\n",
    "\n",
    "    - Para cada modelo (ANN, CNN, RNN), ajustar el número de capas, unidades filtros por capa, tasa de aprendizaje y épocas de entrenamiento hasta obtener buenos resultados en términos de precisión.\n",
    "\n",
    "     - En el caso de la RNN, ajustar el tamaño de la ventana temporal para captar mejor las características temporales de la señal.\n"
   ]
  },
  {
   "cell_type": "code",
   "execution_count": null,
   "metadata": {},
   "outputs": [],
   "source": []
  },
  {
   "cell_type": "markdown",
   "metadata": {},
   "source": [
    "4.\tEvaluación y Métricas:\n",
    "\n",
    "    -\tEvaluar el desempeño de cada modelo en el conjunto de validación utilizando métricas como precisión, recall, F1-score y pérdida.\n",
    "\n",
    "    -\tGenerar y analizar la matriz de confusión para observar la precisión de cada clase de arritmia.\n",
    "\n",
    "    -\tGraficar la evolución de la precisión y la pérdida durante el entrenamiento y la validación para cada modelo.\n"
   ]
  },
  {
   "cell_type": "code",
   "execution_count": null,
   "metadata": {},
   "outputs": [],
   "source": []
  },
  {
   "cell_type": "markdown",
   "metadata": {},
   "source": [
    "5.\tComparación y Conclusiones:\n",
    "\n",
    "    -\tComparar los resultados obtenidos entre los modelos ANN, CNN y RNN en términos de precisión, tiempo de entrenamiento y capacidad de generalización.\n",
    "\n",
    "    -\tEvaluar si alguna de las arquitecturas proporciona una ventaja significativa en la clasificación de arritmias.\n",
    "\n",
    "    -\tExtraer conclusiones sobre cuál modelo es más adecuado para la clasificación de arritmias, proponiendo mejoras para experimentos futuros, como la implementación de técnicas de aumento de datos y el uso de arquitecturas avanzadas.\n"
   ]
  },
  {
   "cell_type": "code",
   "execution_count": null,
   "metadata": {},
   "outputs": [],
   "source": []
  }
 ],
 "metadata": {
  "kernelspec": {
   "display_name": "Python 3",
   "language": "python",
   "name": "python3"
  },
  "language_info": {
   "codemirror_mode": {
    "name": "ipython",
    "version": 3
   },
   "file_extension": ".py",
   "mimetype": "text/x-python",
   "name": "python",
   "nbconvert_exporter": "python",
   "pygments_lexer": "ipython3",
   "version": "3.8.0"
  }
 },
 "nbformat": 4,
 "nbformat_minor": 2
}
